{
  "nbformat": 4,
  "nbformat_minor": 0,
  "metadata": {
    "colab": {
      "provenance": []
    },
    "kernelspec": {
      "name": "python3",
      "display_name": "Python 3"
    },
    "language_info": {
      "name": "python"
    }
  },
  "cells": [
    {
      "cell_type": "code",
      "source": [
        "from google.colab import drive\n",
        "drive.mount('/content/drive')"
      ],
      "metadata": {
        "id": "PDeVv7Uv9ECc"
      },
      "execution_count": null,
      "outputs": []
    },
    {
      "cell_type": "code",
      "source": [
        "!cp drive/MyDrive/Данные\\ ИИ\\ для\\ лазерной\\ обработки/Данные.zip ."
      ],
      "metadata": {
        "id": "3w0JqwqwGeik"
      },
      "execution_count": null,
      "outputs": []
    },
    {
      "cell_type": "code",
      "source": [
        "!unzip Данные.zip"
      ],
      "metadata": {
        "colab": {
          "base_uri": "https://localhost:8080/"
        },
        "collapsed": true,
        "id": "i3EjEqplNfKq",
        "outputId": "34b90d6b-5dbb-4328-8d38-051ee5c0263e"
      },
      "execution_count": null,
      "outputs": [
        {
          "output_type": "stream",
          "name": "stdout",
          "text": [
            "Archive:  Данные.zip\n",
            "   creating: Данные/\n",
            "   creating: Данные/Annotations/\n",
            "   creating: Данные/Annotations/Положение 0/\n",
            "  inflating: Данные/Annotations/Положение 0/01.txt  \n",
            "  inflating: Данные/Annotations/Положение 0/1.txt  \n",
            "  inflating: Данные/Annotations/Положение 0/20.txt  \n",
            "  inflating: Данные/Annotations/Положение 0/3.txt  \n",
            "  inflating: Данные/Annotations/Положение 0/30.txt  \n",
            "  inflating: Данные/Annotations/Положение 0/4.txt  \n",
            "  inflating: Данные/Annotations/Положение 0/40.txt  \n",
            "  inflating: Данные/Annotations/Положение 0/5.txt  \n",
            "  inflating: Данные/Annotations/Положение 0/50.txt  \n",
            "  inflating: Данные/Annotations/Положение 0/6.txt  \n",
            "  inflating: Данные/Annotations/Положение 0/60.txt  \n",
            "  inflating: Данные/Annotations/Положение 0/7.txt  \n",
            "  inflating: Данные/Annotations/Положение 0/70.txt  \n",
            "  inflating: Данные/Annotations/Положение 0/8.txt  \n",
            "  inflating: Данные/Annotations/Положение 0/80.txt  \n",
            "  inflating: Данные/Annotations/Положение 0/85.txt  \n",
            "  inflating: Данные/Annotations/Положение 0/9.txt  \n",
            "  inflating: Данные/Annotations/Положение 0/Image__2025-07-15__16-57-50.txt  \n",
            "  inflating: Данные/Annotations/Положение 0/Image__2025-07-15__16-59-57.txt  \n",
            "  inflating: Данные/Annotations/Положение 0/train.txt  \n",
            "   creating: Данные/Annotations/Положение 1/\n",
            "  inflating: Данные/Annotations/Положение 1/Image__2025-07-15__15-22-22.txt  \n",
            "  inflating: Данные/Annotations/Положение 1/Image__2025-07-15__15-24-18.txt  \n",
            "  inflating: Данные/Annotations/Положение 1/Image__2025-07-15__15-24-23.txt  \n",
            "  inflating: Данные/Annotations/Положение 1/Image__2025-07-15__15-24-28.txt  \n",
            "  inflating: Данные/Annotations/Положение 1/Image__2025-07-15__15-24-35.txt  \n",
            "  inflating: Данные/Annotations/Положение 1/Image__2025-07-15__15-24-40.txt  \n",
            "  inflating: Данные/Annotations/Положение 1/Image__2025-07-15__15-24-58.txt  \n",
            "  inflating: Данные/Annotations/Положение 1/Image__2025-07-15__15-25-06.txt  \n",
            "  inflating: Данные/Annotations/Положение 1/Image__2025-07-15__15-25-54.txt  \n",
            "  inflating: Данные/Annotations/Положение 1/Image__2025-07-15__15-26-30.txt  \n",
            "  inflating: Данные/Annotations/Положение 1/Image__2025-07-15__15-26-34.txt  \n",
            "  inflating: Данные/Annotations/Положение 1/Image__2025-07-15__15-26-48.txt  \n",
            "  inflating: Данные/Annotations/Положение 1/Image__2025-07-15__15-30-00.txt  \n",
            "  inflating: Данные/Annotations/Положение 1/Image__2025-07-15__15-30-23.txt  \n",
            "  inflating: Данные/Annotations/Положение 1/Image__2025-07-15__15-30-32.txt  \n",
            "  inflating: Данные/Annotations/Положение 1/Image__2025-07-15__15-31-12.txt  \n",
            "  inflating: Данные/Annotations/Положение 1/Image__2025-07-15__15-31-52.txt  \n",
            "  inflating: Данные/Annotations/Положение 1/Image__2025-07-15__15-32-10.txt  \n",
            "  inflating: Данные/Annotations/Положение 1/Image__2025-07-15__15-32-52.txt  \n",
            "  inflating: Данные/Annotations/Положение 1/Image__2025-07-15__15-33-05.txt  \n",
            "  inflating: Данные/Annotations/Положение 1/Image__2025-07-15__15-33-20.txt  \n",
            "  inflating: Данные/Annotations/Положение 1/train.txt  \n",
            "   creating: Данные/Annotations/Положение 10/\n",
            "  inflating: Данные/Annotations/Положение 10/Image__2025-07-15__16-34-13.txt  \n",
            "  inflating: Данные/Annotations/Положение 10/Image__2025-07-15__16-34-44.txt  \n",
            "  inflating: Данные/Annotations/Положение 10/Image__2025-07-15__16-36-11.txt  \n",
            "  inflating: Данные/Annotations/Положение 10/Image__2025-07-15__16-36-18.txt  \n",
            "  inflating: Данные/Annotations/Положение 10/Image__2025-07-15__16-36-37.txt  \n",
            "  inflating: Данные/Annotations/Положение 10/Image__2025-07-15__16-36-58.txt  \n",
            "  inflating: Данные/Annotations/Положение 10/Image__2025-07-15__16-37-03.txt  \n",
            "  inflating: Данные/Annotations/Положение 10/Image__2025-07-15__16-37-13.txt  \n",
            "  inflating: Данные/Annotations/Положение 10/Image__2025-07-15__16-37-40.txt  \n",
            "  inflating: Данные/Annotations/Положение 10/Image__2025-07-15__16-37-46.txt  \n",
            "  inflating: Данные/Annotations/Положение 10/Image__2025-07-15__16-41-04.txt  \n",
            "  inflating: Данные/Annotations/Положение 10/Image__2025-07-15__16-41-18.txt  \n",
            "  inflating: Данные/Annotations/Положение 10/Image__2025-07-15__16-41-25.txt  \n",
            "  inflating: Данные/Annotations/Положение 10/Image__2025-07-15__16-41-53.txt  \n",
            "  inflating: Данные/Annotations/Положение 10/Image__2025-07-15__16-42-00.txt  \n",
            "  inflating: Данные/Annotations/Положение 10/Image__2025-07-15__16-42-08.txt  \n",
            "  inflating: Данные/Annotations/Положение 10/train.txt  \n",
            "   creating: Данные/Annotations/Положение 11/\n",
            "  inflating: Данные/Annotations/Положение 11/Image__2025-07-15__16-42-55.txt  \n",
            "  inflating: Данные/Annotations/Положение 11/Image__2025-07-15__16-43-30.txt  \n",
            "  inflating: Данные/Annotations/Положение 11/Image__2025-07-15__16-43-38.txt  \n",
            "  inflating: Данные/Annotations/Положение 11/Image__2025-07-15__16-43-49.txt  \n",
            "  inflating: Данные/Annotations/Положение 11/Image__2025-07-15__16-43-56.txt  \n",
            "  inflating: Данные/Annotations/Положение 11/Image__2025-07-15__16-44-17.txt  \n",
            "  inflating: Данные/Annotations/Положение 11/Image__2025-07-15__16-45-01.txt  \n",
            "  inflating: Данные/Annotations/Положение 11/Image__2025-07-15__16-45-22.txt  \n",
            "  inflating: Данные/Annotations/Положение 11/Image__2025-07-15__16-45-36.txt  \n",
            "  inflating: Данные/Annotations/Положение 11/Image__2025-07-15__16-45-53.txt  \n",
            "  inflating: Данные/Annotations/Положение 11/train.txt  \n",
            "   creating: Данные/Annotations/Положение 12/\n",
            "  inflating: Данные/Annotations/Положение 12/Image__2025-07-15__16-45-59.txt  \n",
            "  inflating: Данные/Annotations/Положение 12/Image__2025-07-15__16-47-12.txt  \n",
            "  inflating: Данные/Annotations/Положение 12/Image__2025-07-15__16-47-21.txt  \n",
            "  inflating: Данные/Annotations/Положение 12/Image__2025-07-15__16-47-25.txt  \n",
            "  inflating: Данные/Annotations/Положение 12/Image__2025-07-15__16-47-28.txt  \n",
            "  inflating: Данные/Annotations/Положение 12/Image__2025-07-15__16-47-58.txt  \n",
            "  inflating: Данные/Annotations/Положение 12/Image__2025-07-15__16-48-07.txt  \n",
            "  inflating: Данные/Annotations/Положение 12/Image__2025-07-15__16-48-13.txt  \n",
            "  inflating: Данные/Annotations/Положение 12/Image__2025-07-15__16-48-33.txt  \n",
            "  inflating: Данные/Annotations/Положение 12/Image__2025-07-15__16-48-41.txt  \n",
            "  inflating: Данные/Annotations/Положение 12/Image__2025-07-15__16-49-22.txt  \n",
            "  inflating: Данные/Annotations/Положение 12/Image__2025-07-15__16-49-34.txt  \n",
            "  inflating: Данные/Annotations/Положение 12/Image__2025-07-15__16-49-41.txt  \n",
            "  inflating: Данные/Annotations/Положение 12/Image__2025-07-15__16-49-49.txt  \n",
            "  inflating: Данные/Annotations/Положение 12/Image__2025-07-15__16-49-55.txt  \n",
            "  inflating: Данные/Annotations/Положение 12/train.txt  \n",
            "   creating: Данные/Annotations/Положение 13/\n",
            "  inflating: Данные/Annotations/Положение 13/Image__2025-07-15__16-51-43.txt  \n",
            "  inflating: Данные/Annotations/Положение 13/Image__2025-07-15__16-52-09.txt  \n",
            "  inflating: Данные/Annotations/Положение 13/Image__2025-07-15__16-52-15.txt  \n",
            "  inflating: Данные/Annotations/Положение 13/Image__2025-07-15__16-52-20.txt  \n",
            "  inflating: Данные/Annotations/Положение 13/Image__2025-07-15__16-52-26.txt  \n",
            "  inflating: Данные/Annotations/Положение 13/Image__2025-07-15__16-52-35.txt  \n",
            "  inflating: Данные/Annotations/Положение 13/Image__2025-07-15__16-52-42.txt  \n",
            "  inflating: Данные/Annotations/Положение 13/Image__2025-07-15__16-52-49.txt  \n",
            "  inflating: Данные/Annotations/Положение 13/Image__2025-07-15__16-53-03.txt  \n",
            "  inflating: Данные/Annotations/Положение 13/Image__2025-07-15__16-53-24.txt  \n",
            "  inflating: Данные/Annotations/Положение 13/Image__2025-07-15__16-53-31.txt  \n",
            "  inflating: Данные/Annotations/Положение 13/Image__2025-07-15__16-53-39.txt  \n",
            "  inflating: Данные/Annotations/Положение 13/Image__2025-07-15__16-53-57.txt  \n",
            "  inflating: Данные/Annotations/Положение 13/Image__2025-07-15__16-54-07.txt  \n",
            "  inflating: Данные/Annotations/Положение 13/Image__2025-07-15__16-54-29.txt  \n",
            "  inflating: Данные/Annotations/Положение 13/Image__2025-07-15__16-54-41.txt  \n",
            "  inflating: Данные/Annotations/Положение 13/Image__2025-07-15__16-54-52.txt  \n",
            "  inflating: Данные/Annotations/Положение 13/Image__2025-07-15__16-55-05.txt  \n",
            "  inflating: Данные/Annotations/Положение 13/Image__2025-07-15__16-55-18.txt  \n",
            "  inflating: Данные/Annotations/Положение 13/Image__2025-07-15__16-55-27.txt  \n",
            "  inflating: Данные/Annotations/Положение 13/train.txt  \n",
            "   creating: Данные/Annotations/Положение 2/\n",
            "  inflating: Данные/Annotations/Положение 2/Image__2025-07-15__15-35-54.txt  \n",
            "  inflating: Данные/Annotations/Положение 2/Image__2025-07-15__15-36-16.txt  \n",
            "  inflating: Данные/Annotations/Положение 2/Image__2025-07-15__15-36-26.txt  \n",
            "  inflating: Данные/Annotations/Положение 2/Image__2025-07-15__15-36-39.txt  \n",
            "  inflating: Данные/Annotations/Положение 2/Image__2025-07-15__15-36-50.txt  \n",
            "  inflating: Данные/Annotations/Положение 2/Image__2025-07-15__15-36-56.txt  \n",
            "  inflating: Данные/Annotations/Положение 2/Image__2025-07-15__15-37-01.txt  \n",
            "  inflating: Данные/Annotations/Положение 2/Image__2025-07-15__15-37-07.txt  \n",
            "  inflating: Данные/Annotations/Положение 2/Image__2025-07-15__15-37-16.txt  \n",
            "  inflating: Данные/Annotations/Положение 2/Image__2025-07-15__15-37-36.txt  \n",
            "  inflating: Данные/Annotations/Положение 2/Image__2025-07-15__15-37-59.txt  \n",
            "  inflating: Данные/Annotations/Положение 2/Image__2025-07-15__15-38-24.txt  \n",
            "  inflating: Данные/Annotations/Положение 2/Image__2025-07-15__15-38-41.txt  \n",
            "  inflating: Данные/Annotations/Положение 2/Image__2025-07-15__15-38-54.txt  \n",
            "  inflating: Данные/Annotations/Положение 2/Image__2025-07-15__15-39-07.txt  \n",
            "  inflating: Данные/Annotations/Положение 2/Image__2025-07-15__15-39-16.txt  \n",
            "  inflating: Данные/Annotations/Положение 2/Image__2025-07-15__15-39-26.txt  \n",
            "  inflating: Данные/Annotations/Положение 2/Image__2025-07-15__15-39-31.txt  \n",
            "  inflating: Данные/Annotations/Положение 2/Image__2025-07-15__15-39-53.txt  \n",
            "  inflating: Данные/Annotations/Положение 2/Image__2025-07-15__15-40-35.txt  \n",
            "  inflating: Данные/Annotations/Положение 2/Image__2025-07-15__15-40-54.txt  \n",
            "  inflating: Данные/Annotations/Положение 2/Image__2025-07-15__15-41-04.txt  \n",
            "  inflating: Данные/Annotations/Положение 2/Image__2025-07-15__15-41-12.txt  \n",
            "  inflating: Данные/Annotations/Положение 2/Image__2025-07-15__15-41-20.txt  \n",
            "  inflating: Данные/Annotations/Положение 2/Image__2025-07-15__15-42-03.txt  \n",
            "  inflating: Данные/Annotations/Положение 2/Image__2025-07-15__15-42-30.txt  \n",
            "  inflating: Данные/Annotations/Положение 2/train.txt  \n",
            "   creating: Данные/Annotations/Положение 3/\n",
            "  inflating: Данные/Annotations/Положение 3/Image__2025-07-15__15-43-11.txt  \n",
            "  inflating: Данные/Annotations/Положение 3/Image__2025-07-15__15-43-23.txt  \n",
            "  inflating: Данные/Annotations/Положение 3/Image__2025-07-15__15-43-50.txt  \n",
            "  inflating: Данные/Annotations/Положение 3/Image__2025-07-15__15-44-31.txt  \n",
            "  inflating: Данные/Annotations/Положение 3/Image__2025-07-15__15-44-46.txt  \n",
            "  inflating: Данные/Annotations/Положение 3/Image__2025-07-15__15-44-50.txt  \n",
            "  inflating: Данные/Annotations/Положение 3/Image__2025-07-15__15-44-52.txt  \n",
            "  inflating: Данные/Annotations/Положение 3/Image__2025-07-15__15-44-58.txt  \n",
            "  inflating: Данные/Annotations/Положение 3/Image__2025-07-15__15-45-03.txt  \n",
            "  inflating: Данные/Annotations/Положение 3/Image__2025-07-15__15-45-08.txt  \n",
            "  inflating: Данные/Annotations/Положение 3/Image__2025-07-15__15-45-14.txt  \n",
            "  inflating: Данные/Annotations/Положение 3/Image__2025-07-15__15-45-24.txt  \n",
            "  inflating: Данные/Annotations/Положение 3/Image__2025-07-15__15-45-32.txt  \n",
            "  inflating: Данные/Annotations/Положение 3/Image__2025-07-15__15-45-42.txt  \n",
            "  inflating: Данные/Annotations/Положение 3/Image__2025-07-15__15-45-47.txt  \n",
            "  inflating: Данные/Annotations/Положение 3/Image__2025-07-15__15-45-55.txt  \n",
            "  inflating: Данные/Annotations/Положение 3/Image__2025-07-15__15-46-07.txt  \n",
            "  inflating: Данные/Annotations/Положение 3/Image__2025-07-15__15-46-17.txt  \n",
            "  inflating: Данные/Annotations/Положение 3/Image__2025-07-15__15-46-27.txt  \n",
            "  inflating: Данные/Annotations/Положение 3/Image__2025-07-15__15-46-57.txt  \n",
            "  inflating: Данные/Annotations/Положение 3/Image__2025-07-15__15-47-29.txt  \n",
            "  inflating: Данные/Annotations/Положение 3/Image__2025-07-15__15-47-34.txt  \n",
            "  inflating: Данные/Annotations/Положение 3/Image__2025-07-15__15-47-40.txt  \n",
            "  inflating: Данные/Annotations/Положение 3/Image__2025-07-15__15-47-52.txt  \n",
            "  inflating: Данные/Annotations/Положение 3/Image__2025-07-15__15-47-58.txt  \n",
            "  inflating: Данные/Annotations/Положение 3/Image__2025-07-15__15-48-07.txt  \n",
            "  inflating: Данные/Annotations/Положение 3/train.txt  \n",
            "   creating: Данные/Annotations/Положение 4/\n",
            "  inflating: Данные/Annotations/Положение 4/Image__2025-07-15__15-49-03.txt  \n",
            "  inflating: Данные/Annotations/Положение 4/Image__2025-07-15__15-49-23.txt  \n",
            "  inflating: Данные/Annotations/Положение 4/Image__2025-07-15__15-49-37.txt  \n",
            "  inflating: Данные/Annotations/Положение 4/Image__2025-07-15__15-49-45.txt  \n",
            "  inflating: Данные/Annotations/Положение 4/Image__2025-07-15__15-50-08.txt  \n",
            "  inflating: Данные/Annotations/Положение 4/Image__2025-07-15__15-50-15.txt  \n",
            "  inflating: Данные/Annotations/Положение 4/Image__2025-07-15__15-50-43.txt  \n",
            "  inflating: Данные/Annotations/Положение 4/Image__2025-07-15__15-51-05.txt  \n",
            "  inflating: Данные/Annotations/Положение 4/Image__2025-07-15__15-51-18.txt  \n",
            "  inflating: Данные/Annotations/Положение 4/Image__2025-07-15__15-51-24.txt  \n",
            "  inflating: Данные/Annotations/Положение 4/Image__2025-07-15__15-51-42.txt  \n",
            "  inflating: Данные/Annotations/Положение 4/Image__2025-07-15__15-51-57.txt  \n",
            "  inflating: Данные/Annotations/Положение 4/Image__2025-07-15__15-52-04.txt  \n",
            "  inflating: Данные/Annotations/Положение 4/Image__2025-07-15__15-52-27.txt  \n",
            "  inflating: Данные/Annotations/Положение 4/Image__2025-07-15__15-52-33.txt  \n",
            "  inflating: Данные/Annotations/Положение 4/Image__2025-07-15__15-52-42.txt  \n",
            "  inflating: Данные/Annotations/Положение 4/Image__2025-07-15__15-52-49.txt  \n",
            "  inflating: Данные/Annotations/Положение 4/Image__2025-07-15__15-52-59.txt  \n",
            "  inflating: Данные/Annotations/Положение 4/Image__2025-07-15__15-53-21.txt  \n",
            "  inflating: Данные/Annotations/Положение 4/Image__2025-07-15__15-53-28.txt  \n",
            "  inflating: Данные/Annotations/Положение 4/Image__2025-07-15__15-53-54.txt  \n",
            "  inflating: Данные/Annotations/Положение 4/train.txt  \n",
            "   creating: Данные/Annotations/Положение 5/\n",
            "  inflating: Данные/Annotations/Положение 5/Image__2025-07-15__15-54-24.txt  \n",
            "  inflating: Данные/Annotations/Положение 5/Image__2025-07-15__15-55-03.txt  \n",
            "  inflating: Данные/Annotations/Положение 5/Image__2025-07-15__15-55-24.txt  \n",
            "  inflating: Данные/Annotations/Положение 5/Image__2025-07-15__15-55-31.txt  \n",
            "  inflating: Данные/Annotations/Положение 5/Image__2025-07-15__15-55-36.txt  \n",
            "  inflating: Данные/Annotations/Положение 5/Image__2025-07-15__15-55-40.txt  \n",
            "  inflating: Данные/Annotations/Положение 5/Image__2025-07-15__15-55-43.txt  \n",
            "  inflating: Данные/Annotations/Положение 5/Image__2025-07-15__15-55-46.txt  \n",
            "  inflating: Данные/Annotations/Положение 5/Image__2025-07-15__15-55-51.txt  \n",
            "  inflating: Данные/Annotations/Положение 5/Image__2025-07-15__15-56-10.txt  \n",
            "  inflating: Данные/Annotations/Положение 5/Image__2025-07-15__15-56-21.txt  \n",
            "  inflating: Данные/Annotations/Положение 5/Image__2025-07-15__15-56-32.txt  \n",
            "  inflating: Данные/Annotations/Положение 5/Image__2025-07-15__15-56-48.txt  \n",
            "  inflating: Данные/Annotations/Положение 5/Image__2025-07-15__15-57-02.txt  \n",
            "  inflating: Данные/Annotations/Положение 5/Image__2025-07-15__15-57-05.txt  \n",
            "  inflating: Данные/Annotations/Положение 5/Image__2025-07-15__15-57-45.txt  \n",
            "  inflating: Данные/Annotations/Положение 5/Image__2025-07-15__15-58-06.txt  \n",
            "  inflating: Данные/Annotations/Положение 5/Image__2025-07-15__15-58-13.txt  \n",
            "  inflating: Данные/Annotations/Положение 5/Image__2025-07-15__15-58-24.txt  \n",
            "  inflating: Данные/Annotations/Положение 5/Image__2025-07-15__15-58-38.txt  \n",
            "  inflating: Данные/Annotations/Положение 5/Image__2025-07-15__15-58-45.txt  \n",
            "  inflating: Данные/Annotations/Положение 5/Image__2025-07-15__15-58-53.txt  \n",
            "  inflating: Данные/Annotations/Положение 5/Image__2025-07-15__15-59-14.txt  \n",
            "  inflating: Данные/Annotations/Положение 5/Image__2025-07-15__15-59-25.txt  \n",
            "  inflating: Данные/Annotations/Положение 5/Image__2025-07-15__15-59-34.txt  \n",
            "  inflating: Данные/Annotations/Положение 5/Image__2025-07-15__15-59-41.txt  \n",
            "  inflating: Данные/Annotations/Положение 5/Image__2025-07-15__15-59-51.txt  \n",
            "  inflating: Данные/Annotations/Положение 5/train.txt  \n",
            "   creating: Данные/Annotations/Положение 6/\n",
            "  inflating: Данные/Annotations/Положение 6/Image__2025-07-15__16-00-15.txt  \n",
            "  inflating: Данные/Annotations/Положение 6/Image__2025-07-15__16-00-40.txt  \n",
            "  inflating: Данные/Annotations/Положение 6/Image__2025-07-15__16-00-54.txt  \n",
            "  inflating: Данные/Annotations/Положение 6/Image__2025-07-15__16-01-04.txt  \n",
            "  inflating: Данные/Annotations/Положение 6/Image__2025-07-15__16-02-00.txt  \n",
            "  inflating: Данные/Annotations/Положение 6/Image__2025-07-15__16-02-10.txt  \n",
            "  inflating: Данные/Annotations/Положение 6/Image__2025-07-15__16-02-25.txt  \n",
            "  inflating: Данные/Annotations/Положение 6/Image__2025-07-15__16-02-41.txt  \n",
            "  inflating: Данные/Annotations/Положение 6/Image__2025-07-15__16-02-45.txt  \n",
            "  inflating: Данные/Annotations/Положение 6/Image__2025-07-15__16-03-01.txt  \n",
            "  inflating: Данные/Annotations/Положение 6/Image__2025-07-15__16-03-46.txt  \n",
            "  inflating: Данные/Annotations/Положение 6/Image__2025-07-15__16-04-46.txt  \n",
            "  inflating: Данные/Annotations/Положение 6/Image__2025-07-15__16-05-06.txt  \n",
            "  inflating: Данные/Annotations/Положение 6/Image__2025-07-15__16-05-16.txt  \n",
            "  inflating: Данные/Annotations/Положение 6/Image__2025-07-15__16-05-25.txt  \n",
            "  inflating: Данные/Annotations/Положение 6/Image__2025-07-15__16-05-33.txt  \n",
            "  inflating: Данные/Annotations/Положение 6/Image__2025-07-15__16-06-03.txt  \n",
            "  inflating: Данные/Annotations/Положение 6/Image__2025-07-15__16-06-33.txt  \n",
            "  inflating: Данные/Annotations/Положение 6/Image__2025-07-15__16-08-25.txt  \n",
            "  inflating: Данные/Annotations/Положение 6/train.txt  \n",
            "   creating: Данные/Annotations/Положение 7/\n",
            "  inflating: Данные/Annotations/Положение 7/Image__2025-07-15__16-09-55.txt  \n",
            "  inflating: Данные/Annotations/Положение 7/Image__2025-07-15__16-10-39.txt  \n",
            "  inflating: Данные/Annotations/Положение 7/Image__2025-07-15__16-10-49.txt  \n",
            "  inflating: Данные/Annotations/Положение 7/Image__2025-07-15__16-10-52.txt  \n",
            "  inflating: Данные/Annotations/Положение 7/Image__2025-07-15__16-11-13.txt  \n",
            "  inflating: Данные/Annotations/Положение 7/Image__2025-07-15__16-11-36.txt  \n",
            "  inflating: Данные/Annotations/Положение 7/Image__2025-07-15__16-11-46.txt  \n",
            "  inflating: Данные/Annotations/Положение 7/Image__2025-07-15__16-12-04.txt  \n",
            "  inflating: Данные/Annotations/Положение 7/Image__2025-07-15__16-12-49.txt  \n",
            "  inflating: Данные/Annotations/Положение 7/Image__2025-07-15__16-13-17.txt  \n",
            "  inflating: Данные/Annotations/Положение 7/Image__2025-07-15__16-13-39.txt  \n",
            "  inflating: Данные/Annotations/Положение 7/Image__2025-07-15__16-13-49.txt  \n",
            "  inflating: Данные/Annotations/Положение 7/Image__2025-07-15__16-14-19.txt  \n",
            "  inflating: Данные/Annotations/Положение 7/Image__2025-07-15__16-14-30.txt  \n",
            "  inflating: Данные/Annotations/Положение 7/Image__2025-07-15__16-14-47.txt  \n",
            "  inflating: Данные/Annotations/Положение 7/Image__2025-07-15__16-14-56.txt  \n",
            "  inflating: Данные/Annotations/Положение 7/Image__2025-07-15__16-15-22.txt  \n",
            "  inflating: Данные/Annotations/Положение 7/train.txt  \n",
            "   creating: Данные/Annotations/Положение 8/\n",
            "  inflating: Данные/Annotations/Положение 8/Image__2025-07-15__16-20-42.txt  \n",
            "  inflating: Данные/Annotations/Положение 8/Image__2025-07-15__16-21-04.txt  \n",
            "  inflating: Данные/Annotations/Положение 8/Image__2025-07-15__16-21-13.txt  \n",
            "  inflating: Данные/Annotations/Положение 8/Image__2025-07-15__16-21-41.txt  \n",
            "  inflating: Данные/Annotations/Положение 8/Image__2025-07-15__16-21-51.txt  \n",
            "  inflating: Данные/Annotations/Положение 8/Image__2025-07-15__16-21-56.txt  \n",
            "  inflating: Данные/Annotations/Положение 8/Image__2025-07-15__16-22-17.txt  \n",
            "  inflating: Данные/Annotations/Положение 8/Image__2025-07-15__16-22-45.txt  \n",
            "  inflating: Данные/Annotations/Положение 8/Image__2025-07-15__16-22-56.txt  \n",
            "  inflating: Данные/Annotations/Положение 8/Image__2025-07-15__16-23-07.txt  \n",
            "  inflating: Данные/Annotations/Положение 8/Image__2025-07-15__16-23-22.txt  \n",
            "  inflating: Данные/Annotations/Положение 8/Image__2025-07-15__16-23-45.txt  \n",
            "  inflating: Данные/Annotations/Положение 8/Image__2025-07-15__16-24-03.txt  \n",
            "  inflating: Данные/Annotations/Положение 8/Image__2025-07-15__16-24-20.txt  \n",
            "  inflating: Данные/Annotations/Положение 8/Image__2025-07-15__16-24-52.txt  \n",
            "  inflating: Данные/Annotations/Положение 8/Image__2025-07-15__16-25-07.txt  \n",
            "  inflating: Данные/Annotations/Положение 8/Image__2025-07-15__16-25-22.txt  \n",
            "  inflating: Данные/Annotations/Положение 8/Image__2025-07-15__16-25-40.txt  \n",
            "  inflating: Данные/Annotations/Положение 8/Image__2025-07-15__16-25-49.txt  \n",
            "  inflating: Данные/Annotations/Положение 8/Image__2025-07-15__16-26-02.txt  \n",
            "  inflating: Данные/Annotations/Положение 8/Image__2025-07-15__16-26-16.txt  \n",
            "  inflating: Данные/Annotations/Положение 8/Image__2025-07-15__16-27-31.txt  \n",
            "  inflating: Данные/Annotations/Положение 8/train.txt  \n",
            "   creating: Данные/Annotations/Положение 9/\n",
            "  inflating: Данные/Annotations/Положение 9/Image__2025-07-15__16-29-31.txt  \n",
            "  inflating: Данные/Annotations/Положение 9/Image__2025-07-15__16-29-56.txt  \n",
            "  inflating: Данные/Annotations/Положение 9/Image__2025-07-15__16-30-06.txt  \n",
            "  inflating: Данные/Annotations/Положение 9/Image__2025-07-15__16-30-16.txt  \n",
            "  inflating: Данные/Annotations/Положение 9/Image__2025-07-15__16-30-29.txt  \n",
            "  inflating: Данные/Annotations/Положение 9/Image__2025-07-15__16-30-42.txt  \n",
            "  inflating: Данные/Annotations/Положение 9/Image__2025-07-15__16-30-57.txt  \n",
            "  inflating: Данные/Annotations/Положение 9/Image__2025-07-15__16-31-00.txt  \n",
            "  inflating: Данные/Annotations/Положение 9/Image__2025-07-15__16-31-08.txt  \n",
            "  inflating: Данные/Annotations/Положение 9/Image__2025-07-15__16-31-17.txt  \n",
            "  inflating: Данные/Annotations/Положение 9/Image__2025-07-15__16-31-24.txt  \n",
            "  inflating: Данные/Annotations/Положение 9/Image__2025-07-15__16-31-28.txt  \n",
            "  inflating: Данные/Annotations/Положение 9/Image__2025-07-15__16-31-32.txt  \n",
            "  inflating: Данные/Annotations/Положение 9/Image__2025-07-15__16-31-45.txt  \n",
            "  inflating: Данные/Annotations/Положение 9/Image__2025-07-15__16-32-10.txt  \n",
            "  inflating: Данные/Annotations/Положение 9/Image__2025-07-15__16-32-56.txt  \n",
            "  inflating: Данные/Annotations/Положение 9/train.txt  \n",
            "   creating: Данные/test/\n",
            "  inflating: Данные/test/50.bmp  \n",
            "  inflating: Данные/test/70.bmp  \n",
            "  inflating: Данные/test/Image__2025-07-15__15-52-59.bmp  \n",
            "  inflating: Данные/test/Image__2025-07-15__15-53-21.bmp  \n",
            "  inflating: Данные/test/Image__2025-07-15__15-53-28.bmp  \n",
            "  inflating: Данные/test/Image__2025-07-15__16-05-33.bmp  \n",
            "  inflating: Данные/test/Image__2025-07-15__16-06-03.bmp  \n",
            "  inflating: Данные/test/Image__2025-07-15__16-43-49.bmp  \n",
            "  inflating: Данные/test/Image__2025-07-15__16-47-21.bmp  \n",
            "  inflating: Данные/test/Image__2025-07-15__16-49-49.bmp  \n",
            "  inflating: Данные/Координаты.xlsx  \n",
            "   creating: Данные/Положение 0/\n",
            "  inflating: Данные/Положение 0/01.bmp  \n",
            "  inflating: Данные/Положение 0/1.bmp  \n",
            "  inflating: Данные/Положение 0/20.bmp  \n",
            "  inflating: Данные/Положение 0/3.bmp  \n",
            "  inflating: Данные/Положение 0/30.bmp  \n",
            "  inflating: Данные/Положение 0/4.bmp  \n",
            "  inflating: Данные/Положение 0/40.bmp  \n",
            "  inflating: Данные/Положение 0/5.bmp  \n",
            "  inflating: Данные/Положение 0/50.bmp  \n",
            "  inflating: Данные/Положение 0/6.bmp  \n",
            "  inflating: Данные/Положение 0/60.bmp  \n",
            "  inflating: Данные/Положение 0/7.bmp  \n",
            "  inflating: Данные/Положение 0/70.bmp  \n",
            "  inflating: Данные/Положение 0/8.bmp  \n",
            "  inflating: Данные/Положение 0/80.bmp  \n",
            "  inflating: Данные/Положение 0/85.bmp  \n",
            "  inflating: Данные/Положение 0/9.bmp  \n",
            "  inflating: Данные/Положение 0/Image__2025-07-15__16-57-50.bmp  \n",
            "  inflating: Данные/Положение 0/Image__2025-07-15__16-59-57.bmp  \n",
            "   creating: Данные/Положение 1/\n",
            "  inflating: Данные/Положение 1/Image__2025-07-15__15-22-22.bmp  \n",
            "  inflating: Данные/Положение 1/Image__2025-07-15__15-24-18.bmp  \n",
            "  inflating: Данные/Положение 1/Image__2025-07-15__15-24-23.bmp  \n",
            "  inflating: Данные/Положение 1/Image__2025-07-15__15-24-28.bmp  \n",
            "  inflating: Данные/Положение 1/Image__2025-07-15__15-24-35.bmp  \n",
            "  inflating: Данные/Положение 1/Image__2025-07-15__15-24-40.bmp  \n",
            "  inflating: Данные/Положение 1/Image__2025-07-15__15-24-58.bmp  \n",
            "  inflating: Данные/Положение 1/Image__2025-07-15__15-25-06.bmp  \n",
            "  inflating: Данные/Положение 1/Image__2025-07-15__15-25-54.bmp  \n",
            "  inflating: Данные/Положение 1/Image__2025-07-15__15-26-30.bmp  \n",
            "  inflating: Данные/Положение 1/Image__2025-07-15__15-26-34.bmp  \n",
            "  inflating: Данные/Положение 1/Image__2025-07-15__15-26-48.bmp  \n",
            "  inflating: Данные/Положение 1/Image__2025-07-15__15-30-00.bmp  \n",
            "  inflating: Данные/Положение 1/Image__2025-07-15__15-30-23.bmp  \n",
            "  inflating: Данные/Положение 1/Image__2025-07-15__15-30-32.bmp  \n",
            "  inflating: Данные/Положение 1/Image__2025-07-15__15-31-12.bmp  \n",
            "  inflating: Данные/Положение 1/Image__2025-07-15__15-31-52.bmp  \n",
            "  inflating: Данные/Положение 1/Image__2025-07-15__15-32-10.bmp  \n",
            "  inflating: Данные/Положение 1/Image__2025-07-15__15-32-52.bmp  \n",
            "  inflating: Данные/Положение 1/Image__2025-07-15__15-33-05.bmp  \n",
            "  inflating: Данные/Положение 1/Image__2025-07-15__15-33-20.bmp  \n",
            "   creating: Данные/Положение 10/\n",
            "  inflating: Данные/Положение 10/Image__2025-07-15__16-34-13.bmp  \n",
            "  inflating: Данные/Положение 10/Image__2025-07-15__16-34-44.bmp  \n",
            "  inflating: Данные/Положение 10/Image__2025-07-15__16-36-11.bmp  \n",
            "  inflating: Данные/Положение 10/Image__2025-07-15__16-36-18.bmp  \n",
            "  inflating: Данные/Положение 10/Image__2025-07-15__16-36-37.bmp  \n",
            "  inflating: Данные/Положение 10/Image__2025-07-15__16-36-58.bmp  \n",
            "  inflating: Данные/Положение 10/Image__2025-07-15__16-37-03.bmp  \n",
            "  inflating: Данные/Положение 10/Image__2025-07-15__16-37-13.bmp  \n",
            "  inflating: Данные/Положение 10/Image__2025-07-15__16-37-40.bmp  \n",
            "  inflating: Данные/Положение 10/Image__2025-07-15__16-37-46.bmp  \n",
            "  inflating: Данные/Положение 10/Image__2025-07-15__16-41-04.bmp  \n",
            "  inflating: Данные/Положение 10/Image__2025-07-15__16-41-18.bmp  \n",
            "  inflating: Данные/Положение 10/Image__2025-07-15__16-41-25.bmp  \n",
            "  inflating: Данные/Положение 10/Image__2025-07-15__16-41-53.bmp  \n",
            "  inflating: Данные/Положение 10/Image__2025-07-15__16-42-00.bmp  \n",
            "  inflating: Данные/Положение 10/Image__2025-07-15__16-42-08.bmp  \n",
            "   creating: Данные/Положение 11/\n",
            "  inflating: Данные/Положение 11/Image__2025-07-15__16-42-55.bmp  \n",
            "  inflating: Данные/Положение 11/Image__2025-07-15__16-43-30.bmp  \n",
            "  inflating: Данные/Положение 11/Image__2025-07-15__16-43-38.bmp  \n",
            "  inflating: Данные/Положение 11/Image__2025-07-15__16-43-49.bmp  \n",
            "  inflating: Данные/Положение 11/Image__2025-07-15__16-43-56.bmp  \n",
            "  inflating: Данные/Положение 11/Image__2025-07-15__16-44-17.bmp  \n",
            "  inflating: Данные/Положение 11/Image__2025-07-15__16-45-01.bmp  \n",
            "  inflating: Данные/Положение 11/Image__2025-07-15__16-45-22.bmp  \n",
            "  inflating: Данные/Положение 11/Image__2025-07-15__16-45-36.bmp  \n",
            "  inflating: Данные/Положение 11/Image__2025-07-15__16-45-53.bmp  \n",
            "   creating: Данные/Положение 12/\n",
            "  inflating: Данные/Положение 12/Image__2025-07-15__16-45-59.bmp  \n",
            "  inflating: Данные/Положение 12/Image__2025-07-15__16-47-12.bmp  \n",
            "  inflating: Данные/Положение 12/Image__2025-07-15__16-47-21.bmp  \n",
            "  inflating: Данные/Положение 12/Image__2025-07-15__16-47-25.bmp  \n",
            "  inflating: Данные/Положение 12/Image__2025-07-15__16-47-28.bmp  \n",
            "  inflating: Данные/Положение 12/Image__2025-07-15__16-47-58.bmp  \n",
            "  inflating: Данные/Положение 12/Image__2025-07-15__16-48-07.bmp  \n",
            "  inflating: Данные/Положение 12/Image__2025-07-15__16-48-13.bmp  \n",
            "  inflating: Данные/Положение 12/Image__2025-07-15__16-48-33.bmp  \n",
            "  inflating: Данные/Положение 12/Image__2025-07-15__16-48-41.bmp  \n",
            "  inflating: Данные/Положение 12/Image__2025-07-15__16-49-22.bmp  \n",
            "  inflating: Данные/Положение 12/Image__2025-07-15__16-49-34.bmp  \n",
            "  inflating: Данные/Положение 12/Image__2025-07-15__16-49-41.bmp  \n",
            "  inflating: Данные/Положение 12/Image__2025-07-15__16-49-49.bmp  \n",
            "  inflating: Данные/Положение 12/Image__2025-07-15__16-49-55.bmp  \n",
            "   creating: Данные/Положение 13/\n",
            "  inflating: Данные/Положение 13/Image__2025-07-15__16-51-43.bmp  \n",
            "  inflating: Данные/Положение 13/Image__2025-07-15__16-52-09.bmp  \n",
            "  inflating: Данные/Положение 13/Image__2025-07-15__16-52-15.bmp  \n",
            "  inflating: Данные/Положение 13/Image__2025-07-15__16-52-20.bmp  \n",
            "  inflating: Данные/Положение 13/Image__2025-07-15__16-52-26.bmp  \n",
            "  inflating: Данные/Положение 13/Image__2025-07-15__16-52-35.bmp  \n",
            "  inflating: Данные/Положение 13/Image__2025-07-15__16-52-42.bmp  \n",
            "  inflating: Данные/Положение 13/Image__2025-07-15__16-52-49.bmp  \n",
            "  inflating: Данные/Положение 13/Image__2025-07-15__16-53-03.bmp  \n",
            "  inflating: Данные/Положение 13/Image__2025-07-15__16-53-24.bmp  \n",
            "  inflating: Данные/Положение 13/Image__2025-07-15__16-53-31.bmp  \n",
            "  inflating: Данные/Положение 13/Image__2025-07-15__16-53-39.bmp  \n",
            "  inflating: Данные/Положение 13/Image__2025-07-15__16-53-57.bmp  \n",
            "  inflating: Данные/Положение 13/Image__2025-07-15__16-54-07.bmp  \n",
            "  inflating: Данные/Положение 13/Image__2025-07-15__16-54-29.bmp  \n",
            "  inflating: Данные/Положение 13/Image__2025-07-15__16-54-41.bmp  \n",
            "  inflating: Данные/Положение 13/Image__2025-07-15__16-54-52.bmp  \n",
            "  inflating: Данные/Положение 13/Image__2025-07-15__16-55-05.bmp  \n",
            "  inflating: Данные/Положение 13/Image__2025-07-15__16-55-18.bmp  \n",
            "  inflating: Данные/Положение 13/Image__2025-07-15__16-55-27.bmp  \n",
            "   creating: Данные/Положение 2/\n",
            "  inflating: Данные/Положение 2/Image__2025-07-15__15-35-54.bmp  \n",
            "  inflating: Данные/Положение 2/Image__2025-07-15__15-36-16.bmp  \n",
            "  inflating: Данные/Положение 2/Image__2025-07-15__15-36-26.bmp  \n",
            "  inflating: Данные/Положение 2/Image__2025-07-15__15-36-39.bmp  \n",
            "  inflating: Данные/Положение 2/Image__2025-07-15__15-36-50.bmp  \n",
            "  inflating: Данные/Положение 2/Image__2025-07-15__15-36-56.bmp  \n",
            "  inflating: Данные/Положение 2/Image__2025-07-15__15-37-01.bmp  \n",
            "  inflating: Данные/Положение 2/Image__2025-07-15__15-37-07.bmp  \n",
            "  inflating: Данные/Положение 2/Image__2025-07-15__15-37-16.bmp  \n",
            "  inflating: Данные/Положение 2/Image__2025-07-15__15-37-36.bmp  \n",
            "  inflating: Данные/Положение 2/Image__2025-07-15__15-37-59.bmp  \n",
            "  inflating: Данные/Положение 2/Image__2025-07-15__15-38-24.bmp  \n",
            "  inflating: Данные/Положение 2/Image__2025-07-15__15-38-41.bmp  \n",
            "  inflating: Данные/Положение 2/Image__2025-07-15__15-38-54.bmp  \n",
            "  inflating: Данные/Положение 2/Image__2025-07-15__15-39-07.bmp  \n",
            "  inflating: Данные/Положение 2/Image__2025-07-15__15-39-16.bmp  \n",
            "  inflating: Данные/Положение 2/Image__2025-07-15__15-39-26.bmp  \n",
            "  inflating: Данные/Положение 2/Image__2025-07-15__15-39-31.bmp  \n",
            "  inflating: Данные/Положение 2/Image__2025-07-15__15-39-53.bmp  \n",
            "  inflating: Данные/Положение 2/Image__2025-07-15__15-40-35.bmp  \n",
            "  inflating: Данные/Положение 2/Image__2025-07-15__15-40-54.bmp  \n",
            "  inflating: Данные/Положение 2/Image__2025-07-15__15-41-04.bmp  \n",
            "  inflating: Данные/Положение 2/Image__2025-07-15__15-41-12.bmp  \n",
            "  inflating: Данные/Положение 2/Image__2025-07-15__15-41-20.bmp  \n",
            "  inflating: Данные/Положение 2/Image__2025-07-15__15-42-03.bmp  \n",
            "  inflating: Данные/Положение 2/Image__2025-07-15__15-42-30.bmp  \n",
            "   creating: Данные/Положение 3/\n",
            "  inflating: Данные/Положение 3/Image__2025-07-15__15-43-11.bmp  \n",
            "  inflating: Данные/Положение 3/Image__2025-07-15__15-43-23.bmp  \n",
            "  inflating: Данные/Положение 3/Image__2025-07-15__15-43-50.bmp  \n",
            "  inflating: Данные/Положение 3/Image__2025-07-15__15-44-31.bmp  \n",
            "  inflating: Данные/Положение 3/Image__2025-07-15__15-44-46.bmp  \n",
            "  inflating: Данные/Положение 3/Image__2025-07-15__15-44-50.bmp  \n",
            "  inflating: Данные/Положение 3/Image__2025-07-15__15-44-52.bmp  \n",
            "  inflating: Данные/Положение 3/Image__2025-07-15__15-44-58.bmp  \n",
            "  inflating: Данные/Положение 3/Image__2025-07-15__15-45-03.bmp  \n",
            "  inflating: Данные/Положение 3/Image__2025-07-15__15-45-08.bmp  \n",
            "  inflating: Данные/Положение 3/Image__2025-07-15__15-45-14.bmp  \n",
            "  inflating: Данные/Положение 3/Image__2025-07-15__15-45-24.bmp  \n",
            "  inflating: Данные/Положение 3/Image__2025-07-15__15-45-32.bmp  \n",
            "  inflating: Данные/Положение 3/Image__2025-07-15__15-45-42.bmp  \n",
            "  inflating: Данные/Положение 3/Image__2025-07-15__15-45-47.bmp  \n",
            "  inflating: Данные/Положение 3/Image__2025-07-15__15-45-55.bmp  \n",
            "  inflating: Данные/Положение 3/Image__2025-07-15__15-46-07.bmp  \n",
            "  inflating: Данные/Положение 3/Image__2025-07-15__15-46-17.bmp  \n",
            "  inflating: Данные/Положение 3/Image__2025-07-15__15-46-27.bmp  \n",
            "  inflating: Данные/Положение 3/Image__2025-07-15__15-46-57.bmp  \n",
            "  inflating: Данные/Положение 3/Image__2025-07-15__15-47-29.bmp  \n",
            "  inflating: Данные/Положение 3/Image__2025-07-15__15-47-34.bmp  \n",
            "  inflating: Данные/Положение 3/Image__2025-07-15__15-47-40.bmp  \n",
            "  inflating: Данные/Положение 3/Image__2025-07-15__15-47-52.bmp  \n",
            "  inflating: Данные/Положение 3/Image__2025-07-15__15-47-58.bmp  \n",
            "  inflating: Данные/Положение 3/Image__2025-07-15__15-48-07.bmp  \n",
            "   creating: Данные/Положение 4/\n",
            "  inflating: Данные/Положение 4/Image__2025-07-15__15-49-03.bmp  \n",
            "  inflating: Данные/Положение 4/Image__2025-07-15__15-49-23.bmp  \n",
            "  inflating: Данные/Положение 4/Image__2025-07-15__15-49-37.bmp  \n",
            "  inflating: Данные/Положение 4/Image__2025-07-15__15-49-45.bmp  \n",
            "  inflating: Данные/Положение 4/Image__2025-07-15__15-50-08.bmp  \n",
            "  inflating: Данные/Положение 4/Image__2025-07-15__15-50-15.bmp  \n",
            "  inflating: Данные/Положение 4/Image__2025-07-15__15-50-43.bmp  \n",
            "  inflating: Данные/Положение 4/Image__2025-07-15__15-51-05.bmp  \n",
            "  inflating: Данные/Положение 4/Image__2025-07-15__15-51-18.bmp  \n",
            "  inflating: Данные/Положение 4/Image__2025-07-15__15-51-24.bmp  \n",
            "  inflating: Данные/Положение 4/Image__2025-07-15__15-51-42.bmp  \n",
            "  inflating: Данные/Положение 4/Image__2025-07-15__15-51-57.bmp  \n",
            "  inflating: Данные/Положение 4/Image__2025-07-15__15-52-04.bmp  \n",
            "  inflating: Данные/Положение 4/Image__2025-07-15__15-52-27.bmp  \n",
            "  inflating: Данные/Положение 4/Image__2025-07-15__15-52-33.bmp  \n",
            "  inflating: Данные/Положение 4/Image__2025-07-15__15-52-42.bmp  \n",
            "  inflating: Данные/Положение 4/Image__2025-07-15__15-52-49.bmp  \n",
            "  inflating: Данные/Положение 4/Image__2025-07-15__15-52-59.bmp  \n",
            "  inflating: Данные/Положение 4/Image__2025-07-15__15-53-21.bmp  \n",
            "  inflating: Данные/Положение 4/Image__2025-07-15__15-53-28.bmp  \n",
            "  inflating: Данные/Положение 4/Image__2025-07-15__15-53-54.bmp  \n",
            "   creating: Данные/Положение 5/\n",
            "  inflating: Данные/Положение 5/Image__2025-07-15__15-54-24.bmp  \n",
            "  inflating: Данные/Положение 5/Image__2025-07-15__15-55-03.bmp  \n",
            "  inflating: Данные/Положение 5/Image__2025-07-15__15-55-24.bmp  \n",
            "  inflating: Данные/Положение 5/Image__2025-07-15__15-55-31.bmp  \n",
            "  inflating: Данные/Положение 5/Image__2025-07-15__15-55-36.bmp  \n",
            "  inflating: Данные/Положение 5/Image__2025-07-15__15-55-40.bmp  \n",
            "  inflating: Данные/Положение 5/Image__2025-07-15__15-55-43.bmp  \n",
            "  inflating: Данные/Положение 5/Image__2025-07-15__15-55-46.bmp  \n",
            "  inflating: Данные/Положение 5/Image__2025-07-15__15-55-51.bmp  \n",
            "  inflating: Данные/Положение 5/Image__2025-07-15__15-56-10.bmp  \n",
            "  inflating: Данные/Положение 5/Image__2025-07-15__15-56-21.bmp  \n",
            "  inflating: Данные/Положение 5/Image__2025-07-15__15-56-32.bmp  \n",
            "  inflating: Данные/Положение 5/Image__2025-07-15__15-56-48.bmp  \n",
            "  inflating: Данные/Положение 5/Image__2025-07-15__15-57-02.bmp  \n",
            "  inflating: Данные/Положение 5/Image__2025-07-15__15-57-05.bmp  \n",
            "  inflating: Данные/Положение 5/Image__2025-07-15__15-57-45.bmp  \n",
            "  inflating: Данные/Положение 5/Image__2025-07-15__15-58-06.bmp  \n",
            "  inflating: Данные/Положение 5/Image__2025-07-15__15-58-13.bmp  \n",
            "  inflating: Данные/Положение 5/Image__2025-07-15__15-58-24.bmp  \n",
            "  inflating: Данные/Положение 5/Image__2025-07-15__15-58-38.bmp  \n",
            "  inflating: Данные/Положение 5/Image__2025-07-15__15-58-45.bmp  \n",
            "  inflating: Данные/Положение 5/Image__2025-07-15__15-58-53.bmp  \n",
            "  inflating: Данные/Положение 5/Image__2025-07-15__15-59-14.bmp  \n",
            "  inflating: Данные/Положение 5/Image__2025-07-15__15-59-25.bmp  \n",
            "  inflating: Данные/Положение 5/Image__2025-07-15__15-59-34.bmp  \n",
            "  inflating: Данные/Положение 5/Image__2025-07-15__15-59-41.bmp  \n",
            "  inflating: Данные/Положение 5/Image__2025-07-15__15-59-51.bmp  \n",
            "   creating: Данные/Положение 6/\n",
            "  inflating: Данные/Положение 6/Image__2025-07-15__16-00-15.bmp  \n",
            "  inflating: Данные/Положение 6/Image__2025-07-15__16-00-40.bmp  \n",
            "  inflating: Данные/Положение 6/Image__2025-07-15__16-00-54.bmp  \n",
            "  inflating: Данные/Положение 6/Image__2025-07-15__16-01-04.bmp  \n",
            "  inflating: Данные/Положение 6/Image__2025-07-15__16-02-00.bmp  \n",
            "  inflating: Данные/Положение 6/Image__2025-07-15__16-02-10.bmp  \n",
            "  inflating: Данные/Положение 6/Image__2025-07-15__16-02-25.bmp  \n",
            "  inflating: Данные/Положение 6/Image__2025-07-15__16-02-41.bmp  \n",
            "  inflating: Данные/Положение 6/Image__2025-07-15__16-02-45.bmp  \n",
            "  inflating: Данные/Положение 6/Image__2025-07-15__16-03-01.bmp  \n",
            "  inflating: Данные/Положение 6/Image__2025-07-15__16-03-46.bmp  \n",
            "  inflating: Данные/Положение 6/Image__2025-07-15__16-04-46.bmp  \n",
            "  inflating: Данные/Положение 6/Image__2025-07-15__16-05-06.bmp  \n",
            "  inflating: Данные/Положение 6/Image__2025-07-15__16-05-16.bmp  \n",
            "  inflating: Данные/Положение 6/Image__2025-07-15__16-05-25.bmp  \n",
            "  inflating: Данные/Положение 6/Image__2025-07-15__16-05-33.bmp  \n",
            "  inflating: Данные/Положение 6/Image__2025-07-15__16-06-03.bmp  \n",
            "  inflating: Данные/Положение 6/Image__2025-07-15__16-06-33.bmp  \n",
            "  inflating: Данные/Положение 6/Image__2025-07-15__16-08-25.bmp  \n",
            "   creating: Данные/Положение 7/\n",
            "  inflating: Данные/Положение 7/Image__2025-07-15__16-09-55.bmp  \n",
            "  inflating: Данные/Положение 7/Image__2025-07-15__16-10-39.bmp  \n",
            "  inflating: Данные/Положение 7/Image__2025-07-15__16-10-49.bmp  \n",
            "  inflating: Данные/Положение 7/Image__2025-07-15__16-10-52.bmp  \n",
            "  inflating: Данные/Положение 7/Image__2025-07-15__16-11-13.bmp  \n",
            "  inflating: Данные/Положение 7/Image__2025-07-15__16-11-36.bmp  \n",
            "  inflating: Данные/Положение 7/Image__2025-07-15__16-11-46.bmp  \n",
            "  inflating: Данные/Положение 7/Image__2025-07-15__16-12-04.bmp  \n",
            "  inflating: Данные/Положение 7/Image__2025-07-15__16-12-49.bmp  \n",
            "  inflating: Данные/Положение 7/Image__2025-07-15__16-13-17.bmp  \n",
            "  inflating: Данные/Положение 7/Image__2025-07-15__16-13-39.bmp  \n",
            "  inflating: Данные/Положение 7/Image__2025-07-15__16-13-49.bmp  \n",
            "  inflating: Данные/Положение 7/Image__2025-07-15__16-14-19.bmp  \n",
            "  inflating: Данные/Положение 7/Image__2025-07-15__16-14-30.bmp  \n",
            "  inflating: Данные/Положение 7/Image__2025-07-15__16-14-47.bmp  \n",
            "  inflating: Данные/Положение 7/Image__2025-07-15__16-14-56.bmp  \n",
            "  inflating: Данные/Положение 7/Image__2025-07-15__16-15-22.bmp  \n",
            "   creating: Данные/Положение 8/\n",
            "  inflating: Данные/Положение 8/Image__2025-07-15__16-20-42.bmp  \n",
            "  inflating: Данные/Положение 8/Image__2025-07-15__16-21-04.bmp  \n",
            "  inflating: Данные/Положение 8/Image__2025-07-15__16-21-13.bmp  \n",
            "  inflating: Данные/Положение 8/Image__2025-07-15__16-21-41.bmp  \n",
            "  inflating: Данные/Положение 8/Image__2025-07-15__16-21-51.bmp  \n",
            "  inflating: Данные/Положение 8/Image__2025-07-15__16-21-56.bmp  \n",
            "  inflating: Данные/Положение 8/Image__2025-07-15__16-22-17.bmp  \n",
            "  inflating: Данные/Положение 8/Image__2025-07-15__16-22-45.bmp  \n",
            "  inflating: Данные/Положение 8/Image__2025-07-15__16-22-56.bmp  \n",
            "  inflating: Данные/Положение 8/Image__2025-07-15__16-23-07.bmp  \n",
            "  inflating: Данные/Положение 8/Image__2025-07-15__16-23-22.bmp  \n",
            "  inflating: Данные/Положение 8/Image__2025-07-15__16-23-45.bmp  \n",
            "  inflating: Данные/Положение 8/Image__2025-07-15__16-24-03.bmp  \n",
            "  inflating: Данные/Положение 8/Image__2025-07-15__16-24-20.bmp  \n",
            "  inflating: Данные/Положение 8/Image__2025-07-15__16-24-52.bmp  \n",
            "  inflating: Данные/Положение 8/Image__2025-07-15__16-25-07.bmp  \n",
            "  inflating: Данные/Положение 8/Image__2025-07-15__16-25-22.bmp  \n",
            "  inflating: Данные/Положение 8/Image__2025-07-15__16-25-40.bmp  \n",
            "  inflating: Данные/Положение 8/Image__2025-07-15__16-25-49.bmp  \n",
            "  inflating: Данные/Положение 8/Image__2025-07-15__16-26-02.bmp  \n",
            "  inflating: Данные/Положение 8/Image__2025-07-15__16-26-16.bmp  \n",
            "  inflating: Данные/Положение 8/Image__2025-07-15__16-27-31.bmp  \n",
            "   creating: Данные/Положение 9/\n",
            "  inflating: Данные/Положение 9/Image__2025-07-15__16-29-31.bmp  \n",
            "  inflating: Данные/Положение 9/Image__2025-07-15__16-29-56.bmp  \n",
            "  inflating: Данные/Положение 9/Image__2025-07-15__16-30-06.bmp  \n",
            "  inflating: Данные/Положение 9/Image__2025-07-15__16-30-16.bmp  \n",
            "  inflating: Данные/Положение 9/Image__2025-07-15__16-30-29.bmp  \n",
            "  inflating: Данные/Положение 9/Image__2025-07-15__16-30-42.bmp  \n",
            "  inflating: Данные/Положение 9/Image__2025-07-15__16-30-57.bmp  \n",
            "  inflating: Данные/Положение 9/Image__2025-07-15__16-31-00.bmp  \n",
            "  inflating: Данные/Положение 9/Image__2025-07-15__16-31-08.bmp  \n",
            "  inflating: Данные/Положение 9/Image__2025-07-15__16-31-17.bmp  \n",
            "  inflating: Данные/Положение 9/Image__2025-07-15__16-31-24.bmp  \n",
            "  inflating: Данные/Положение 9/Image__2025-07-15__16-31-28.bmp  \n",
            "  inflating: Данные/Положение 9/Image__2025-07-15__16-31-32.bmp  \n",
            "  inflating: Данные/Положение 9/Image__2025-07-15__16-31-45.bmp  \n",
            "  inflating: Данные/Положение 9/Image__2025-07-15__16-32-10.bmp  \n",
            "  inflating: Данные/Положение 9/Image__2025-07-15__16-32-56.bmp  \n"
          ]
        }
      ]
    },
    {
      "cell_type": "markdown",
      "source": [
        "1 - Преобразование данных в нормальный вид"
      ],
      "metadata": {
        "id": "s_VJlK_j9bOu"
      }
    },
    {
      "cell_type": "code",
      "source": [
        "import os\n",
        "import cv2\n",
        "import numpy as np\n",
        "import pandas as pd\n",
        "from glob import glob\n",
        "from tqdm import tqdm\n",
        "from sklearn.model_selection import train_test_split\n",
        "import ast\n",
        "import torch\n",
        "import torch.nn as nn\n",
        "import torch.nn.functional as F\n",
        "from torch.utils.data import Dataset, DataLoader\n",
        "from torchvision import models\n",
        "\n",
        "# ==== ПУТИ ====\n",
        "ROOT_DIR = \"Данные\"\n",
        "XLSX_PATH = os.path.join(ROOT_DIR, \"Координаты.xlsx\")\n",
        "OUTPUT_DIR = \"dataset\"\n",
        "\n",
        "IMG_SIZE = (512, 256)  # (W, H)\n",
        "ORIG_WIDTH, ORIG_HEIGHT = 2048, 1088\n",
        "NUM_CLASSES = 3\n",
        "\n",
        "# ==== ВЫХОДНЫЕ ПАПКИ ====\n",
        "for subset in [\"train\", \"val\"]:\n",
        "    os.makedirs(f\"{OUTPUT_DIR}/images/{subset}\", exist_ok=True)\n",
        "    os.makedirs(f\"{OUTPUT_DIR}/masks/{subset}\", exist_ok=True)\n",
        "\n",
        "# ==== ЗАГРУЗКА XLSX ====\n",
        "df = pd.read_excel(XLSX_PATH)\n",
        "df[\"folder\"] = df[\"Положение \"].str.strip()\n",
        "df = df.set_index(\"folder\")\n",
        "\n",
        "# ==== ПРЕДОБРАБОТКА ИЗОБРАЖЕНИЙ ====\n",
        "def preprocess_image(image_path):\n",
        "    image = cv2.imread(image_path, cv2.IMREAD_GRAYSCALE)\n",
        "    if image is None:\n",
        "        raise ValueError(f\"Ошибка чтения изображения: {image_path}\")\n",
        "    clahe = cv2.createCLAHE(clipLimit=2.0, tileGridSize=(8, 8))\n",
        "    normalized = clahe.apply(image)\n",
        "    blurred = cv2.GaussianBlur(normalized, (5, 5), 0)\n",
        "    return cv2.resize(blurred, IMG_SIZE)  # uint8, (H, W)\n",
        "\n",
        "# ==== КОНВЕРТАЦИЯ YOLO В БИНАРНЫЕ МАСКИ ====\n",
        "def denormalize_coords(coords, width, height):\n",
        "    coords = np.array(coords).reshape(-1, 2)\n",
        "    coords[:, 0] *= width\n",
        "    coords[:, 1] *= height\n",
        "    return coords.astype(np.int32)\n",
        "\n",
        "def generate_binary_mask(txt_path, height=ORIG_HEIGHT, width=ORIG_WIDTH, out_size=IMG_SIZE, num_classes=NUM_CLASSES):\n",
        "    masks = np.zeros((num_classes, height, width), dtype=np.uint8)\n",
        "    if not os.path.exists(txt_path):\n",
        "        return np.zeros((out_size[1], out_size[0], num_classes), dtype=np.uint8)\n",
        "\n",
        "    with open(txt_path, 'r') as f:\n",
        "        for line in f:\n",
        "            parts = line.strip().split()\n",
        "            if len(parts) < 7:\n",
        "                continue\n",
        "            class_id = int(parts[0])\n",
        "            coords = list(map(float, parts[1:]))\n",
        "            polygon = denormalize_coords(coords, width, height)\n",
        "            cv2.fillPoly(masks[class_id], [polygon], 255)\n",
        "\n",
        "    # Resize каждый канал\n",
        "    resized_masks = [cv2.resize(m, out_size, interpolation=cv2.INTER_NEAREST) for m in masks]\n",
        "    return np.stack(resized_masks, axis=-1)  # (H, W, 3)\n",
        "\n",
        "# ==== СБОР ВСЕХ ПУТЕЙ ====\n",
        "items = []  # (img_path, txt_path, folder_name, file_key)\n",
        "\n",
        "for folder_path in sorted(glob(os.path.join(ROOT_DIR, \"Положение *\"))):\n",
        "    folder_name = os.path.basename(folder_path)\n",
        "    image_paths = sorted(glob(os.path.join(folder_path, \"*.bmp\")))\n",
        "    for img_path in image_paths:\n",
        "        fname = os.path.splitext(os.path.basename(img_path))[0]\n",
        "        txt_path = os.path.join(ROOT_DIR, \"Annotations\", folder_name, f\"{fname}.txt\")\n",
        "        if os.path.exists(txt_path):\n",
        "            items.append((img_path, txt_path, folder_name, fname))\n",
        "\n",
        "# ==== SPLIT ====\n",
        "train_items, val_items = train_test_split(items, test_size=0.2, random_state=42)\n",
        "\n",
        "# ==== СОХРАНЕНИЕ ====\n",
        "regression_rows = []\n",
        "\n",
        "def process(items, split):\n",
        "    for img_path, txt_path, folder_name, fname in tqdm(items, desc=f\"Processing {split}\"):\n",
        "        try:\n",
        "            img_out = preprocess_image(img_path)       # (H, W)\n",
        "            mask_out = generate_binary_mask(txt_path)  # (H, W, 3)\n",
        "\n",
        "            # Пути вывода\n",
        "            img_name = f\"{folder_name}_{fname}.npy\"\n",
        "            img_out_path = os.path.join(OUTPUT_DIR, f\"images/{split}/{img_name}\")\n",
        "            mask_out_path = os.path.join(OUTPUT_DIR, f\"masks/{split}/{img_name}\")\n",
        "\n",
        "            # Сохранение в .npy\n",
        "            np.save(img_out_path, img_out.astype(np.uint8))\n",
        "            np.save(mask_out_path, mask_out.astype(np.uint8))\n",
        "\n",
        "            # Регрессионные метки\n",
        "            if folder_name in df.index:\n",
        "                coord_raw = df.loc[folder_name][\"Координаты центра X, Y\"]\n",
        "                angle = df.loc[folder_name][\"Угол поворота в градусах (Относительно центра образца)\"]\n",
        "                if isinstance(coord_raw, str) and \"(\" in coord_raw:\n",
        "                    x, y = ast.literal_eval(coord_raw)\n",
        "                    regression_rows.append({\n",
        "                        \"filename\": f\"{split}/{img_name}\",\n",
        "                        \"x_mm\": x,\n",
        "                        \"y_mm\": y,\n",
        "                        \"angle_deg\": angle\n",
        "                    })\n",
        "\n",
        "        except Exception as e:\n",
        "            print(f\"❌ Ошибка при обработке {img_path}: {e}\")\n",
        "\n",
        "# ==== ЗАПУСК ====\n",
        "process(train_items, \"train\")\n",
        "process(val_items, \"val\")\n",
        "\n",
        "# ==== CSV ====\n",
        "df_out = pd.DataFrame(regression_rows)\n",
        "df_out.to_csv(os.path.join(OUTPUT_DIR, \"labels.csv\"), index=False)\n",
        "print(\"✅ Датасет подготовлен и сохранён в\", OUTPUT_DIR)"
      ],
      "metadata": {
        "colab": {
          "base_uri": "https://localhost:8080/"
        },
        "id": "4-SbNXPvRJPu",
        "outputId": "f7db85a0-815e-41aa-a720-62dde9574d16"
      },
      "execution_count": null,
      "outputs": [
        {
          "output_type": "stream",
          "name": "stderr",
          "text": [
            "Processing train: 100%|██████████| 220/220 [00:04<00:00, 48.83it/s]\n",
            "Processing val: 100%|██████████| 55/55 [00:01<00:00, 45.98it/s]"
          ]
        },
        {
          "output_type": "stream",
          "name": "stdout",
          "text": [
            "✅ Датасет подготовлен и сохранён в dataset\n"
          ]
        },
        {
          "output_type": "stream",
          "name": "stderr",
          "text": [
            "\n"
          ]
        }
      ]
    },
    {
      "cell_type": "code",
      "source": [
        "df = pd.read_csv('dataset/labels.csv')\n",
        "df"
      ],
      "metadata": {
        "colab": {
          "base_uri": "https://localhost:8080/",
          "height": 423
        },
        "id": "ALlgfJdJWxQL",
        "outputId": "589f086c-86c0-4acf-823c-95e0991bb408"
      },
      "execution_count": null,
      "outputs": [
        {
          "output_type": "execute_result",
          "data": {
            "text/plain": [
              "                                              filename  x_mm  y_mm  angle_deg\n",
              "0    train/Положение 9_Image__2025-07-15__16-29-56.npy     4    18          0\n",
              "1    train/Положение 9_Image__2025-07-15__16-31-08.npy     4    18          0\n",
              "2    train/Положение 1_Image__2025-07-15__15-30-32.npy     4     6         37\n",
              "3    train/Положение 7_Image__2025-07-15__16-10-49.npy     8     0          0\n",
              "4    train/Положение 3_Image__2025-07-15__15-47-29.npy    30    -2          0\n",
              "..                                                 ...   ...   ...        ...\n",
              "251    val/Положение 2_Image__2025-07-15__15-36-39.npy     0     0          0\n",
              "252   val/Положение 13_Image__2025-07-15__16-52-35.npy    10    -4         42\n",
              "253    val/Положение 5_Image__2025-07-15__15-56-32.npy    -5    -1         75\n",
              "254    val/Положение 4_Image__2025-07-15__15-50-15.npy     7   -26         15\n",
              "255    val/Положение 4_Image__2025-07-15__15-50-08.npy     7   -26         15\n",
              "\n",
              "[256 rows x 4 columns]"
            ],
            "text/html": [
              "\n",
              "  <div id=\"df-319ce505-110a-4d10-b274-2fb19a10eea7\" class=\"colab-df-container\">\n",
              "    <div>\n",
              "<style scoped>\n",
              "    .dataframe tbody tr th:only-of-type {\n",
              "        vertical-align: middle;\n",
              "    }\n",
              "\n",
              "    .dataframe tbody tr th {\n",
              "        vertical-align: top;\n",
              "    }\n",
              "\n",
              "    .dataframe thead th {\n",
              "        text-align: right;\n",
              "    }\n",
              "</style>\n",
              "<table border=\"1\" class=\"dataframe\">\n",
              "  <thead>\n",
              "    <tr style=\"text-align: right;\">\n",
              "      <th></th>\n",
              "      <th>filename</th>\n",
              "      <th>x_mm</th>\n",
              "      <th>y_mm</th>\n",
              "      <th>angle_deg</th>\n",
              "    </tr>\n",
              "  </thead>\n",
              "  <tbody>\n",
              "    <tr>\n",
              "      <th>0</th>\n",
              "      <td>train/Положение 9_Image__2025-07-15__16-29-56.npy</td>\n",
              "      <td>4</td>\n",
              "      <td>18</td>\n",
              "      <td>0</td>\n",
              "    </tr>\n",
              "    <tr>\n",
              "      <th>1</th>\n",
              "      <td>train/Положение 9_Image__2025-07-15__16-31-08.npy</td>\n",
              "      <td>4</td>\n",
              "      <td>18</td>\n",
              "      <td>0</td>\n",
              "    </tr>\n",
              "    <tr>\n",
              "      <th>2</th>\n",
              "      <td>train/Положение 1_Image__2025-07-15__15-30-32.npy</td>\n",
              "      <td>4</td>\n",
              "      <td>6</td>\n",
              "      <td>37</td>\n",
              "    </tr>\n",
              "    <tr>\n",
              "      <th>3</th>\n",
              "      <td>train/Положение 7_Image__2025-07-15__16-10-49.npy</td>\n",
              "      <td>8</td>\n",
              "      <td>0</td>\n",
              "      <td>0</td>\n",
              "    </tr>\n",
              "    <tr>\n",
              "      <th>4</th>\n",
              "      <td>train/Положение 3_Image__2025-07-15__15-47-29.npy</td>\n",
              "      <td>30</td>\n",
              "      <td>-2</td>\n",
              "      <td>0</td>\n",
              "    </tr>\n",
              "    <tr>\n",
              "      <th>...</th>\n",
              "      <td>...</td>\n",
              "      <td>...</td>\n",
              "      <td>...</td>\n",
              "      <td>...</td>\n",
              "    </tr>\n",
              "    <tr>\n",
              "      <th>251</th>\n",
              "      <td>val/Положение 2_Image__2025-07-15__15-36-39.npy</td>\n",
              "      <td>0</td>\n",
              "      <td>0</td>\n",
              "      <td>0</td>\n",
              "    </tr>\n",
              "    <tr>\n",
              "      <th>252</th>\n",
              "      <td>val/Положение 13_Image__2025-07-15__16-52-35.npy</td>\n",
              "      <td>10</td>\n",
              "      <td>-4</td>\n",
              "      <td>42</td>\n",
              "    </tr>\n",
              "    <tr>\n",
              "      <th>253</th>\n",
              "      <td>val/Положение 5_Image__2025-07-15__15-56-32.npy</td>\n",
              "      <td>-5</td>\n",
              "      <td>-1</td>\n",
              "      <td>75</td>\n",
              "    </tr>\n",
              "    <tr>\n",
              "      <th>254</th>\n",
              "      <td>val/Положение 4_Image__2025-07-15__15-50-15.npy</td>\n",
              "      <td>7</td>\n",
              "      <td>-26</td>\n",
              "      <td>15</td>\n",
              "    </tr>\n",
              "    <tr>\n",
              "      <th>255</th>\n",
              "      <td>val/Положение 4_Image__2025-07-15__15-50-08.npy</td>\n",
              "      <td>7</td>\n",
              "      <td>-26</td>\n",
              "      <td>15</td>\n",
              "    </tr>\n",
              "  </tbody>\n",
              "</table>\n",
              "<p>256 rows × 4 columns</p>\n",
              "</div>\n",
              "    <div class=\"colab-df-buttons\">\n",
              "\n",
              "  <div class=\"colab-df-container\">\n",
              "    <button class=\"colab-df-convert\" onclick=\"convertToInteractive('df-319ce505-110a-4d10-b274-2fb19a10eea7')\"\n",
              "            title=\"Convert this dataframe to an interactive table.\"\n",
              "            style=\"display:none;\">\n",
              "\n",
              "  <svg xmlns=\"http://www.w3.org/2000/svg\" height=\"24px\" viewBox=\"0 -960 960 960\">\n",
              "    <path d=\"M120-120v-720h720v720H120Zm60-500h600v-160H180v160Zm220 220h160v-160H400v160Zm0 220h160v-160H400v160ZM180-400h160v-160H180v160Zm440 0h160v-160H620v160ZM180-180h160v-160H180v160Zm440 0h160v-160H620v160Z\"/>\n",
              "  </svg>\n",
              "    </button>\n",
              "\n",
              "  <style>\n",
              "    .colab-df-container {\n",
              "      display:flex;\n",
              "      gap: 12px;\n",
              "    }\n",
              "\n",
              "    .colab-df-convert {\n",
              "      background-color: #E8F0FE;\n",
              "      border: none;\n",
              "      border-radius: 50%;\n",
              "      cursor: pointer;\n",
              "      display: none;\n",
              "      fill: #1967D2;\n",
              "      height: 32px;\n",
              "      padding: 0 0 0 0;\n",
              "      width: 32px;\n",
              "    }\n",
              "\n",
              "    .colab-df-convert:hover {\n",
              "      background-color: #E2EBFA;\n",
              "      box-shadow: 0px 1px 2px rgba(60, 64, 67, 0.3), 0px 1px 3px 1px rgba(60, 64, 67, 0.15);\n",
              "      fill: #174EA6;\n",
              "    }\n",
              "\n",
              "    .colab-df-buttons div {\n",
              "      margin-bottom: 4px;\n",
              "    }\n",
              "\n",
              "    [theme=dark] .colab-df-convert {\n",
              "      background-color: #3B4455;\n",
              "      fill: #D2E3FC;\n",
              "    }\n",
              "\n",
              "    [theme=dark] .colab-df-convert:hover {\n",
              "      background-color: #434B5C;\n",
              "      box-shadow: 0px 1px 3px 1px rgba(0, 0, 0, 0.15);\n",
              "      filter: drop-shadow(0px 1px 2px rgba(0, 0, 0, 0.3));\n",
              "      fill: #FFFFFF;\n",
              "    }\n",
              "  </style>\n",
              "\n",
              "    <script>\n",
              "      const buttonEl =\n",
              "        document.querySelector('#df-319ce505-110a-4d10-b274-2fb19a10eea7 button.colab-df-convert');\n",
              "      buttonEl.style.display =\n",
              "        google.colab.kernel.accessAllowed ? 'block' : 'none';\n",
              "\n",
              "      async function convertToInteractive(key) {\n",
              "        const element = document.querySelector('#df-319ce505-110a-4d10-b274-2fb19a10eea7');\n",
              "        const dataTable =\n",
              "          await google.colab.kernel.invokeFunction('convertToInteractive',\n",
              "                                                    [key], {});\n",
              "        if (!dataTable) return;\n",
              "\n",
              "        const docLinkHtml = 'Like what you see? Visit the ' +\n",
              "          '<a target=\"_blank\" href=https://colab.research.google.com/notebooks/data_table.ipynb>data table notebook</a>'\n",
              "          + ' to learn more about interactive tables.';\n",
              "        element.innerHTML = '';\n",
              "        dataTable['output_type'] = 'display_data';\n",
              "        await google.colab.output.renderOutput(dataTable, element);\n",
              "        const docLink = document.createElement('div');\n",
              "        docLink.innerHTML = docLinkHtml;\n",
              "        element.appendChild(docLink);\n",
              "      }\n",
              "    </script>\n",
              "  </div>\n",
              "\n",
              "\n",
              "    <div id=\"df-95a2bfc7-cfff-4ce2-b01f-ccfa30e29c90\">\n",
              "      <button class=\"colab-df-quickchart\" onclick=\"quickchart('df-95a2bfc7-cfff-4ce2-b01f-ccfa30e29c90')\"\n",
              "                title=\"Suggest charts\"\n",
              "                style=\"display:none;\">\n",
              "\n",
              "<svg xmlns=\"http://www.w3.org/2000/svg\" height=\"24px\"viewBox=\"0 0 24 24\"\n",
              "     width=\"24px\">\n",
              "    <g>\n",
              "        <path d=\"M19 3H5c-1.1 0-2 .9-2 2v14c0 1.1.9 2 2 2h14c1.1 0 2-.9 2-2V5c0-1.1-.9-2-2-2zM9 17H7v-7h2v7zm4 0h-2V7h2v10zm4 0h-2v-4h2v4z\"/>\n",
              "    </g>\n",
              "</svg>\n",
              "      </button>\n",
              "\n",
              "<style>\n",
              "  .colab-df-quickchart {\n",
              "      --bg-color: #E8F0FE;\n",
              "      --fill-color: #1967D2;\n",
              "      --hover-bg-color: #E2EBFA;\n",
              "      --hover-fill-color: #174EA6;\n",
              "      --disabled-fill-color: #AAA;\n",
              "      --disabled-bg-color: #DDD;\n",
              "  }\n",
              "\n",
              "  [theme=dark] .colab-df-quickchart {\n",
              "      --bg-color: #3B4455;\n",
              "      --fill-color: #D2E3FC;\n",
              "      --hover-bg-color: #434B5C;\n",
              "      --hover-fill-color: #FFFFFF;\n",
              "      --disabled-bg-color: #3B4455;\n",
              "      --disabled-fill-color: #666;\n",
              "  }\n",
              "\n",
              "  .colab-df-quickchart {\n",
              "    background-color: var(--bg-color);\n",
              "    border: none;\n",
              "    border-radius: 50%;\n",
              "    cursor: pointer;\n",
              "    display: none;\n",
              "    fill: var(--fill-color);\n",
              "    height: 32px;\n",
              "    padding: 0;\n",
              "    width: 32px;\n",
              "  }\n",
              "\n",
              "  .colab-df-quickchart:hover {\n",
              "    background-color: var(--hover-bg-color);\n",
              "    box-shadow: 0 1px 2px rgba(60, 64, 67, 0.3), 0 1px 3px 1px rgba(60, 64, 67, 0.15);\n",
              "    fill: var(--button-hover-fill-color);\n",
              "  }\n",
              "\n",
              "  .colab-df-quickchart-complete:disabled,\n",
              "  .colab-df-quickchart-complete:disabled:hover {\n",
              "    background-color: var(--disabled-bg-color);\n",
              "    fill: var(--disabled-fill-color);\n",
              "    box-shadow: none;\n",
              "  }\n",
              "\n",
              "  .colab-df-spinner {\n",
              "    border: 2px solid var(--fill-color);\n",
              "    border-color: transparent;\n",
              "    border-bottom-color: var(--fill-color);\n",
              "    animation:\n",
              "      spin 1s steps(1) infinite;\n",
              "  }\n",
              "\n",
              "  @keyframes spin {\n",
              "    0% {\n",
              "      border-color: transparent;\n",
              "      border-bottom-color: var(--fill-color);\n",
              "      border-left-color: var(--fill-color);\n",
              "    }\n",
              "    20% {\n",
              "      border-color: transparent;\n",
              "      border-left-color: var(--fill-color);\n",
              "      border-top-color: var(--fill-color);\n",
              "    }\n",
              "    30% {\n",
              "      border-color: transparent;\n",
              "      border-left-color: var(--fill-color);\n",
              "      border-top-color: var(--fill-color);\n",
              "      border-right-color: var(--fill-color);\n",
              "    }\n",
              "    40% {\n",
              "      border-color: transparent;\n",
              "      border-right-color: var(--fill-color);\n",
              "      border-top-color: var(--fill-color);\n",
              "    }\n",
              "    60% {\n",
              "      border-color: transparent;\n",
              "      border-right-color: var(--fill-color);\n",
              "    }\n",
              "    80% {\n",
              "      border-color: transparent;\n",
              "      border-right-color: var(--fill-color);\n",
              "      border-bottom-color: var(--fill-color);\n",
              "    }\n",
              "    90% {\n",
              "      border-color: transparent;\n",
              "      border-bottom-color: var(--fill-color);\n",
              "    }\n",
              "  }\n",
              "</style>\n",
              "\n",
              "      <script>\n",
              "        async function quickchart(key) {\n",
              "          const quickchartButtonEl =\n",
              "            document.querySelector('#' + key + ' button');\n",
              "          quickchartButtonEl.disabled = true;  // To prevent multiple clicks.\n",
              "          quickchartButtonEl.classList.add('colab-df-spinner');\n",
              "          try {\n",
              "            const charts = await google.colab.kernel.invokeFunction(\n",
              "                'suggestCharts', [key], {});\n",
              "          } catch (error) {\n",
              "            console.error('Error during call to suggestCharts:', error);\n",
              "          }\n",
              "          quickchartButtonEl.classList.remove('colab-df-spinner');\n",
              "          quickchartButtonEl.classList.add('colab-df-quickchart-complete');\n",
              "        }\n",
              "        (() => {\n",
              "          let quickchartButtonEl =\n",
              "            document.querySelector('#df-95a2bfc7-cfff-4ce2-b01f-ccfa30e29c90 button');\n",
              "          quickchartButtonEl.style.display =\n",
              "            google.colab.kernel.accessAllowed ? 'block' : 'none';\n",
              "        })();\n",
              "      </script>\n",
              "    </div>\n",
              "    </div>\n",
              "  </div>\n"
            ],
            "application/vnd.google.colaboratory.intrinsic+json": {
              "type": "dataframe",
              "variable_name": "df",
              "summary": "{\n  \"name\": \"df\",\n  \"rows\": 256,\n  \"fields\": [\n    {\n      \"column\": \"filename\",\n      \"properties\": {\n        \"dtype\": \"string\",\n        \"num_unique_values\": 256,\n        \"samples\": [\n          \"val/\\u041f\\u043e\\u043b\\u043e\\u0436\\u0435\\u043d\\u0438\\u0435 5_Image__2025-07-15__15-55-51.npy\",\n          \"train/\\u041f\\u043e\\u043b\\u043e\\u0436\\u0435\\u043d\\u0438\\u0435 1_Image__2025-07-15__15-32-52.npy\",\n          \"train/\\u041f\\u043e\\u043b\\u043e\\u0436\\u0435\\u043d\\u0438\\u0435 10_Image__2025-07-15__16-34-44.npy\"\n        ],\n        \"semantic_type\": \"\",\n        \"description\": \"\"\n      }\n    },\n    {\n      \"column\": \"x_mm\",\n      \"properties\": {\n        \"dtype\": \"number\",\n        \"std\": 12,\n        \"min\": -20,\n        \"max\": 30,\n        \"num_unique_values\": 10,\n        \"samples\": [\n          -5,\n          8,\n          7\n        ],\n        \"semantic_type\": \"\",\n        \"description\": \"\"\n      }\n    },\n    {\n      \"column\": \"y_mm\",\n      \"properties\": {\n        \"dtype\": \"number\",\n        \"std\": 11,\n        \"min\": -26,\n        \"max\": 19,\n        \"num_unique_values\": 10,\n        \"samples\": [\n          -1,\n          6,\n          5\n        ],\n        \"semantic_type\": \"\",\n        \"description\": \"\"\n      }\n    },\n    {\n      \"column\": \"angle_deg\",\n      \"properties\": {\n        \"dtype\": \"number\",\n        \"std\": 29,\n        \"min\": 0,\n        \"max\": 87,\n        \"num_unique_values\": 9,\n        \"samples\": [\n          75,\n          37,\n          22\n        ],\n        \"semantic_type\": \"\",\n        \"description\": \"\"\n      }\n    }\n  ]\n}"
            }
          },
          "metadata": {},
          "execution_count": 36
        }
      ]
    },
    {
      "cell_type": "code",
      "source": [
        "# Очистка данных от несуществующих картинок\n",
        "import cv2\n",
        "\n",
        "df = pd.read_csv(\"dataset/labels.csv\")\n",
        "good_rows = []\n",
        "\n",
        "for row in df.itertuples():\n",
        "    img_path = os.path.join(\"dataset/images\", row.filename)\n",
        "    mask_path = os.path.join(\"dataset/masks\", row.filename)\n",
        "\n",
        "    print(img_path)\n",
        "    img_ok = os.path.exists(img_path) and isinstance(np.load(img_path), np.ndarray)\n",
        "    mask_ok = os.path.exists(mask_path) and isinstance(np.load(mask_path), np.ndarray)\n",
        "\n",
        "    if img_ok and mask_ok:\n",
        "        good_rows.append(row)\n",
        "\n",
        "print(pd.DataFrame(good_rows))\n",
        "clean_df = pd.DataFrame(good_rows)[['filename', 'x_mm', 'y_mm', 'angle_deg']]\n",
        "clean_df.to_csv(\"dataset/labels.csv\", index=False)\n",
        "\n",
        "print(f\"✔️ Очищено: {len(df)} → {len(clean_df)} строк сохранено в labels.csv\")"
      ],
      "metadata": {
        "id": "rF5WI5DDAmGB"
      },
      "execution_count": null,
      "outputs": []
    },
    {
      "cell_type": "code",
      "source": [
        "!zip -r dataset.zip dataset  # Бэкап)"
      ],
      "metadata": {
        "colab": {
          "base_uri": "https://localhost:8080/"
        },
        "id": "PiOM6A6mXJnx",
        "outputId": "de8456e6-a590-4e67-c3f1-72895e9e6907",
        "collapsed": true
      },
      "execution_count": null,
      "outputs": [
        {
          "output_type": "stream",
          "name": "stdout",
          "text": [
            "  adding: dataset/ (stored 0%)\n",
            "  adding: dataset/masks/ (stored 0%)\n",
            "  adding: dataset/masks/val/ (stored 0%)\n",
            "  adding: dataset/masks/val/Положение 4_Image__2025-07-15__15-52-04.npy (deflated 100%)\n",
            "  adding: dataset/masks/val/Положение 12_Image__2025-07-15__16-47-21.npy (deflated 100%)\n",
            "  adding: dataset/masks/val/Положение 2_Image__2025-07-15__15-36-39.npy (deflated 100%)\n",
            "  adding: dataset/masks/val/Положение 6_Image__2025-07-15__16-00-40.npy (deflated 100%)\n",
            "  adding: dataset/masks/val/Положение 2_Image__2025-07-15__15-42-03.npy (deflated 100%)\n",
            "  adding: dataset/masks/val/Положение 5_Image__2025-07-15__15-55-51.npy (deflated 100%)\n",
            "  adding: dataset/masks/val/Положение 12_Image__2025-07-15__16-48-13.npy (deflated 100%)\n",
            "  adding: dataset/masks/val/Положение 8_Image__2025-07-15__16-21-04.npy (deflated 100%)\n",
            "  adding: dataset/masks/val/Положение 3_Image__2025-07-15__15-43-11.npy (deflated 100%)\n",
            "  adding: dataset/masks/val/Положение 3_Image__2025-07-15__15-46-57.npy (deflated 100%)\n",
            "  adding: dataset/masks/val/Положение 1_Image__2025-07-15__15-24-40.npy (deflated 100%)\n",
            "  adding: dataset/masks/val/Положение 8_Image__2025-07-15__16-25-22.npy (deflated 100%)\n",
            "  adding: dataset/masks/val/Положение 5_Image__2025-07-15__15-58-53.npy (deflated 100%)\n",
            "  adding: dataset/masks/val/Положение 7_Image__2025-07-15__16-13-39.npy (deflated 100%)\n",
            "  adding: dataset/masks/val/Положение 2_Image__2025-07-15__15-37-07.npy (deflated 100%)\n",
            "  adding: dataset/masks/val/Положение 5_Image__2025-07-15__15-56-32.npy (deflated 100%)\n",
            "  adding: dataset/masks/val/Положение 8_Image__2025-07-15__16-24-20.npy (deflated 100%)\n",
            "  adding: dataset/masks/val/Положение 4_Image__2025-07-15__15-50-08.npy (deflated 100%)\n",
            "  adding: dataset/masks/val/Положение 1_Image__2025-07-15__15-24-58.npy (deflated 100%)\n",
            "  adding: dataset/masks/val/Положение 3_Image__2025-07-15__15-44-50.npy (deflated 100%)\n",
            "  adding: dataset/masks/val/Положение 10_Image__2025-07-15__16-37-03.npy (deflated 100%)\n",
            "  adding: dataset/masks/val/Положение 5_Image__2025-07-15__15-59-51.npy (deflated 100%)\n",
            "  adding: dataset/masks/val/Положение 13_Image__2025-07-15__16-52-35.npy (deflated 100%)\n",
            "  adding: dataset/masks/val/Положение 13_Image__2025-07-15__16-52-20.npy (deflated 100%)\n",
            "  adding: dataset/masks/val/Положение 1_Image__2025-07-15__15-24-28.npy (deflated 100%)\n",
            "  adding: dataset/masks/val/Положение 2_Image__2025-07-15__15-39-53.npy (deflated 100%)\n",
            "  adding: dataset/masks/val/Положение 9_Image__2025-07-15__16-30-42.npy (deflated 100%)\n",
            "  adding: dataset/masks/val/Положение 5_Image__2025-07-15__15-59-25.npy (deflated 100%)\n",
            "  adding: dataset/masks/val/Положение 6_Image__2025-07-15__16-02-45.npy (deflated 100%)\n",
            "  adding: dataset/masks/val/Положение 7_Image__2025-07-15__16-14-19.npy (deflated 100%)\n",
            "  adding: dataset/masks/val/Положение 7_Image__2025-07-15__16-14-30.npy (deflated 100%)\n",
            "  adding: dataset/masks/val/Положение 2_Image__2025-07-15__15-39-07.npy (deflated 100%)\n",
            "  adding: dataset/masks/val/Положение 5_Image__2025-07-15__15-55-40.npy (deflated 100%)\n",
            "  adding: dataset/masks/val/Положение 6_Image__2025-07-15__16-05-25.npy (deflated 100%)\n",
            "  adding: dataset/masks/val/Положение 9_Image__2025-07-15__16-30-29.npy (deflated 100%)\n",
            "  adding: dataset/masks/val/Положение 12_Image__2025-07-15__16-49-49.npy (deflated 100%)\n",
            "  adding: dataset/masks/val/Положение 10_Image__2025-07-15__16-36-11.npy (deflated 100%)\n",
            "  adding: dataset/masks/val/Положение 11_Image__2025-07-15__16-43-56.npy (deflated 100%)\n",
            "  adding: dataset/masks/val/Положение 4_Image__2025-07-15__15-50-15.npy (deflated 100%)\n",
            "  adding: dataset/masks/val/Положение 1_Image__2025-07-15__15-22-22.npy (deflated 100%)\n",
            "  adding: dataset/masks/val/Положение 3_Image__2025-07-15__15-45-32.npy (deflated 100%)\n",
            "  adding: dataset/masks/val/Положение 0_40.npy (deflated 100%)\n",
            "  adding: dataset/masks/val/Положение 7_Image__2025-07-15__16-12-04.npy (deflated 100%)\n",
            "  adding: dataset/masks/val/Положение 6_Image__2025-07-15__16-03-01.npy (deflated 100%)\n",
            "  adding: dataset/masks/val/Положение 12_Image__2025-07-15__16-45-59.npy (deflated 100%)\n",
            "  adding: dataset/masks/val/Положение 2_Image__2025-07-15__15-42-30.npy (deflated 100%)\n",
            "  adding: dataset/masks/val/Положение 2_Image__2025-07-15__15-38-41.npy (deflated 100%)\n",
            "  adding: dataset/masks/val/Положение 6_Image__2025-07-15__16-04-46.npy (deflated 100%)\n",
            "  adding: dataset/masks/val/Положение 9_Image__2025-07-15__16-29-31.npy (deflated 100%)\n",
            "  adding: dataset/masks/val/Положение 1_Image__2025-07-15__15-26-48.npy (deflated 100%)\n",
            "  adding: dataset/masks/val/Положение 3_Image__2025-07-15__15-45-55.npy (deflated 100%)\n",
            "  adding: dataset/masks/val/Положение 0_85.npy (deflated 100%)\n",
            "  adding: dataset/masks/val/Положение 10_Image__2025-07-15__16-36-58.npy (deflated 100%)\n",
            "  adding: dataset/masks/val/Положение 0_6.npy (deflated 100%)\n",
            "  adding: dataset/masks/val/Положение 12_Image__2025-07-15__16-48-41.npy (deflated 100%)\n",
            "  adding: dataset/masks/train/ (stored 0%)\n",
            "  adding: dataset/masks/train/Положение 4_Image__2025-07-15__15-51-57.npy (deflated 100%)\n",
            "  adding: dataset/masks/train/Положение 5_Image__2025-07-15__15-58-06.npy (deflated 100%)\n",
            "  adding: dataset/masks/train/Положение 8_Image__2025-07-15__16-20-42.npy (deflated 100%)\n",
            "  adding: dataset/masks/train/Положение 7_Image__2025-07-15__16-11-36.npy (deflated 100%)\n",
            "  adding: dataset/masks/train/Положение 11_Image__2025-07-15__16-43-30.npy (deflated 100%)\n",
            "  adding: dataset/masks/train/Положение 13_Image__2025-07-15__16-55-18.npy (deflated 100%)\n",
            "  adding: dataset/masks/train/Положение 4_Image__2025-07-15__15-51-24.npy (deflated 100%)\n",
            "  adding: dataset/masks/train/Положение 3_Image__2025-07-15__15-44-46.npy (deflated 100%)\n",
            "  adding: dataset/masks/train/Положение 10_Image__2025-07-15__16-34-13.npy (deflated 100%)\n",
            "  adding: dataset/masks/train/Положение 2_Image__2025-07-15__15-37-36.npy (deflated 100%)\n",
            "  adding: dataset/masks/train/Положение 6_Image__2025-07-15__16-03-46.npy (deflated 100%)\n",
            "  adding: dataset/masks/train/Положение 0_1.npy (deflated 100%)\n",
            "  adding: dataset/masks/train/Положение 13_Image__2025-07-15__16-54-41.npy (deflated 100%)\n",
            "  adding: dataset/masks/train/Положение 5_Image__2025-07-15__15-59-34.npy (deflated 100%)\n",
            "  adding: dataset/masks/train/Положение 10_Image__2025-07-15__16-41-25.npy (deflated 100%)\n",
            "  adding: dataset/masks/train/Положение 5_Image__2025-07-15__15-58-38.npy (deflated 100%)\n",
            "  adding: dataset/masks/train/Положение 9_Image__2025-07-15__16-31-28.npy (deflated 100%)\n",
            "  adding: dataset/masks/train/Положение 1_Image__2025-07-15__15-30-23.npy (deflated 100%)\n",
            "  adding: dataset/masks/train/Положение 7_Image__2025-07-15__16-14-56.npy (deflated 100%)\n",
            "  adding: dataset/masks/train/Положение 13_Image__2025-07-15__16-52-26.npy (deflated 100%)\n",
            "  adding: dataset/masks/train/Положение 6_Image__2025-07-15__16-05-06.npy (deflated 100%)\n",
            "  adding: dataset/masks/train/Положение 4_Image__2025-07-15__15-53-54.npy (deflated 100%)\n",
            "  adding: dataset/masks/train/Положение 11_Image__2025-07-15__16-45-36.npy (deflated 100%)\n",
            "  adding: dataset/masks/train/Положение 9_Image__2025-07-15__16-30-57.npy (deflated 100%)\n",
            "  adding: dataset/masks/train/Положение 2_Image__2025-07-15__15-40-54.npy (deflated 100%)\n",
            "  adding: dataset/masks/train/Положение 12_Image__2025-07-15__16-48-07.npy (deflated 100%)\n",
            "  adding: dataset/masks/train/Положение 5_Image__2025-07-15__15-56-48.npy (deflated 100%)\n",
            "  adding: dataset/masks/train/Положение 1_Image__2025-07-15__15-31-12.npy (deflated 100%)\n",
            "  adding: dataset/masks/train/Положение 5_Image__2025-07-15__15-58-24.npy (deflated 100%)\n",
            "  adding: dataset/masks/train/Положение 4_Image__2025-07-15__15-52-33.npy (deflated 100%)\n",
            "  adding: dataset/masks/train/Положение 5_Image__2025-07-15__15-57-45.npy (deflated 100%)\n",
            "  adding: dataset/masks/train/Положение 7_Image__2025-07-15__16-10-49.npy (deflated 100%)\n",
            "  adding: dataset/masks/train/Положение 12_Image__2025-07-15__16-47-28.npy (deflated 100%)\n",
            "  adding: dataset/masks/train/Положение 1_Image__2025-07-15__15-25-06.npy (deflated 100%)\n",
            "  adding: dataset/masks/train/Положение 3_Image__2025-07-15__15-43-23.npy (deflated 100%)\n",
            "  adding: dataset/masks/train/Положение 7_Image__2025-07-15__16-13-49.npy (deflated 100%)\n",
            "  adding: dataset/masks/train/Положение 9_Image__2025-07-15__16-30-06.npy (deflated 100%)\n",
            "  adding: dataset/masks/train/Положение 1_Image__2025-07-15__15-30-00.npy (deflated 100%)\n",
            "  adding: dataset/masks/train/Положение 5_Image__2025-07-15__15-55-03.npy (deflated 100%)\n",
            "  adding: dataset/masks/train/Положение 2_Image__2025-07-15__15-36-56.npy (deflated 100%)\n",
            "  adding: dataset/masks/train/Положение 4_Image__2025-07-15__15-51-05.npy (deflated 100%)\n",
            "  adding: dataset/masks/train/Положение 1_Image__2025-07-15__15-30-32.npy (deflated 100%)\n",
            "  adding: dataset/masks/train/Положение 5_Image__2025-07-15__15-56-21.npy (deflated 100%)\n",
            "  adding: dataset/masks/train/Положение 0_80.npy (deflated 100%)\n",
            "  adding: dataset/masks/train/Положение 4_Image__2025-07-15__15-52-27.npy (deflated 100%)\n",
            "  adding: dataset/masks/train/Положение 9_Image__2025-07-15__16-31-32.npy (deflated 100%)\n",
            "  adding: dataset/masks/train/Положение 13_Image__2025-07-15__16-53-03.npy (deflated 100%)\n",
            "  adding: dataset/masks/train/Положение 3_Image__2025-07-15__15-46-17.npy (deflated 100%)\n",
            "  adding: dataset/masks/train/Положение 1_Image__2025-07-15__15-24-23.npy (deflated 100%)\n",
            "  adding: dataset/masks/train/Положение 6_Image__2025-07-15__16-06-33.npy (deflated 100%)\n",
            "  adding: dataset/masks/train/Положение 4_Image__2025-07-15__15-52-42.npy (deflated 100%)\n",
            "  adding: dataset/masks/train/Положение 4_Image__2025-07-15__15-49-23.npy (deflated 100%)\n",
            "  adding: dataset/masks/train/Положение 5_Image__2025-07-15__15-55-24.npy (deflated 100%)\n",
            "  adding: dataset/masks/train/Положение 3_Image__2025-07-15__15-44-58.npy (deflated 100%)\n",
            "  adding: dataset/masks/train/Положение 9_Image__2025-07-15__16-31-45.npy (deflated 100%)\n",
            "  adding: dataset/masks/train/Положение 3_Image__2025-07-15__15-47-40.npy (deflated 100%)\n",
            "  adding: dataset/masks/train/Положение 7_Image__2025-07-15__16-12-49.npy (deflated 100%)\n",
            "  adding: dataset/masks/train/Положение 0_9.npy (deflated 100%)\n",
            "  adding: dataset/masks/train/Положение 13_Image__2025-07-15__16-55-05.npy (deflated 100%)\n",
            "  adding: dataset/masks/train/Положение 9_Image__2025-07-15__16-31-08.npy (deflated 100%)\n",
            "  adding: dataset/masks/train/Положение 13_Image__2025-07-15__16-51-43.npy (deflated 100%)\n",
            "  adding: dataset/masks/train/Положение 8_Image__2025-07-15__16-21-41.npy (deflated 100%)\n",
            "  adding: dataset/masks/train/Положение 12_Image__2025-07-15__16-49-22.npy (deflated 100%)\n",
            "  adding: dataset/masks/train/Положение 7_Image__2025-07-15__16-09-55.npy (deflated 100%)\n",
            "  adding: dataset/masks/train/Положение 10_Image__2025-07-15__16-42-08.npy (deflated 100%)\n",
            "  adding: dataset/masks/train/Положение 10_Image__2025-07-15__16-36-18.npy (deflated 100%)\n",
            "  adding: dataset/masks/train/Положение 13_Image__2025-07-15__16-54-07.npy (deflated 100%)\n",
            "  adding: dataset/masks/train/Положение 9_Image__2025-07-15__16-31-24.npy (deflated 100%)\n",
            "  adding: dataset/masks/train/Положение 6_Image__2025-07-15__16-02-41.npy (deflated 100%)\n",
            "  adding: dataset/masks/train/Положение 0_30.npy (deflated 100%)\n",
            "  adding: dataset/masks/train/Положение 3_Image__2025-07-15__15-44-31.npy (deflated 100%)\n",
            "  adding: dataset/masks/train/Положение 5_Image__2025-07-15__15-58-45.npy (deflated 100%)\n",
            "  adding: dataset/masks/train/Положение 10_Image__2025-07-15__16-42-00.npy (deflated 100%)\n",
            "  adding: dataset/masks/train/Положение 8_Image__2025-07-15__16-24-52.npy (deflated 100%)\n",
            "  adding: dataset/masks/train/Положение 2_Image__2025-07-15__15-40-35.npy (deflated 100%)\n",
            "  adding: dataset/masks/train/Положение 10_Image__2025-07-15__16-37-40.npy (deflated 100%)\n",
            "  adding: dataset/masks/train/Положение 12_Image__2025-07-15__16-49-55.npy (deflated 100%)\n",
            "  adding: dataset/masks/train/Положение 4_Image__2025-07-15__15-49-45.npy (deflated 100%)\n",
            "  adding: dataset/masks/train/Положение 6_Image__2025-07-15__16-06-03.npy (deflated 100%)\n",
            "  adding: dataset/masks/train/Положение 13_Image__2025-07-15__16-54-29.npy (deflated 100%)\n",
            "  adding: dataset/masks/train/Положение 8_Image__2025-07-15__16-24-03.npy (deflated 100%)\n",
            "  adding: dataset/masks/train/Положение 13_Image__2025-07-15__16-53-39.npy (deflated 100%)\n",
            "  adding: dataset/masks/train/Положение 0_Image__2025-07-15__16-57-50.npy (deflated 100%)\n",
            "  adding: dataset/masks/train/Положение 2_Image__2025-07-15__15-39-26.npy (deflated 100%)\n",
            "  adding: dataset/masks/train/Положение 10_Image__2025-07-15__16-41-53.npy (deflated 100%)\n",
            "  adding: dataset/masks/train/Положение 2_Image__2025-07-15__15-37-16.npy (deflated 100%)\n",
            "  adding: dataset/masks/train/Положение 1_Image__2025-07-15__15-24-18.npy (deflated 100%)\n",
            "  adding: dataset/masks/train/Положение 1_Image__2025-07-15__15-33-05.npy (deflated 100%)\n",
            "  adding: dataset/masks/train/Положение 6_Image__2025-07-15__16-05-16.npy (deflated 100%)\n",
            "  adding: dataset/masks/train/Положение 13_Image__2025-07-15__16-52-49.npy (deflated 100%)\n",
            "  adding: dataset/masks/train/Положение 11_Image__2025-07-15__16-44-17.npy (deflated 100%)\n",
            "  adding: dataset/masks/train/Положение 0_5.npy (deflated 100%)\n",
            "  adding: dataset/masks/train/Положение 13_Image__2025-07-15__16-52-15.npy (deflated 100%)\n",
            "  adding: dataset/masks/train/Положение 7_Image__2025-07-15__16-15-22.npy (deflated 100%)\n",
            "  adding: dataset/masks/train/Положение 13_Image__2025-07-15__16-53-57.npy (deflated 100%)\n",
            "  adding: dataset/masks/train/Положение 9_Image__2025-07-15__16-30-16.npy (deflated 100%)\n",
            "  adding: dataset/masks/train/Положение 2_Image__2025-07-15__15-39-16.npy (deflated 100%)\n",
            "  adding: dataset/masks/train/Положение 3_Image__2025-07-15__15-45-14.npy (deflated 100%)\n",
            "  adding: dataset/masks/train/Положение 2_Image__2025-07-15__15-37-59.npy (deflated 100%)\n",
            "  adding: dataset/masks/train/Положение 11_Image__2025-07-15__16-42-55.npy (deflated 100%)\n",
            "  adding: dataset/masks/train/Положение 5_Image__2025-07-15__15-55-46.npy (deflated 100%)\n",
            "  adding: dataset/masks/train/Положение 8_Image__2025-07-15__16-26-16.npy (deflated 100%)\n",
            "  adding: dataset/masks/train/Положение 11_Image__2025-07-15__16-43-49.npy (deflated 100%)\n",
            "  adding: dataset/masks/train/Положение 1_Image__2025-07-15__15-32-10.npy (deflated 100%)\n",
            "  adding: dataset/masks/train/Положение 6_Image__2025-07-15__16-00-15.npy (deflated 100%)\n",
            "  adding: dataset/masks/train/Положение 5_Image__2025-07-15__15-58-13.npy (deflated 100%)\n",
            "  adding: dataset/masks/train/Положение 3_Image__2025-07-15__15-43-50.npy (deflated 100%)\n",
            "  adding: dataset/masks/train/Положение 3_Image__2025-07-15__15-44-52.npy (deflated 100%)\n",
            "  adding: dataset/masks/train/Положение 1_Image__2025-07-15__15-25-54.npy (deflated 100%)\n",
            "  adding: dataset/masks/train/Положение 10_Image__2025-07-15__16-36-37.npy (deflated 100%)\n",
            "  adding: dataset/masks/train/Положение 2_Image__2025-07-15__15-38-54.npy (deflated 100%)\n",
            "  adding: dataset/masks/train/Положение 1_Image__2025-07-15__15-26-34.npy (deflated 100%)\n",
            "  adding: dataset/masks/train/Положение 5_Image__2025-07-15__15-57-02.npy (deflated 100%)\n",
            "  adding: dataset/masks/train/Положение 8_Image__2025-07-15__16-27-31.npy (deflated 100%)\n",
            "  adding: dataset/masks/train/Положение 3_Image__2025-07-15__15-45-03.npy (deflated 100%)\n",
            "  adding: dataset/masks/train/Положение 1_Image__2025-07-15__15-33-20.npy (deflated 100%)\n",
            "  adding: dataset/masks/train/Положение 9_Image__2025-07-15__16-32-56.npy (deflated 100%)\n",
            "  adding: dataset/masks/train/Положение 1_Image__2025-07-15__15-24-35.npy (deflated 100%)\n",
            "  adding: dataset/masks/train/Положение 11_Image__2025-07-15__16-45-22.npy (deflated 100%)\n",
            "  adding: dataset/masks/train/Положение 9_Image__2025-07-15__16-32-10.npy (deflated 100%)\n",
            "  adding: dataset/masks/train/Положение 9_Image__2025-07-15__16-31-17.npy (deflated 100%)\n",
            "  adding: dataset/masks/train/Положение 2_Image__2025-07-15__15-36-50.npy (deflated 100%)\n",
            "  adding: dataset/masks/train/Положение 13_Image__2025-07-15__16-53-24.npy (deflated 100%)\n",
            "  adding: dataset/masks/train/Положение 8_Image__2025-07-15__16-23-07.npy (deflated 100%)\n",
            "  adding: dataset/masks/train/Положение 4_Image__2025-07-15__15-52-59.npy (deflated 100%)\n",
            "  adding: dataset/masks/train/Положение 6_Image__2025-07-15__16-02-10.npy (deflated 100%)\n",
            "  adding: dataset/masks/train/Положение 5_Image__2025-07-15__15-57-05.npy (deflated 100%)\n",
            "  adding: dataset/masks/train/Положение 3_Image__2025-07-15__15-47-34.npy (deflated 100%)\n",
            "  adding: dataset/masks/train/Положение 8_Image__2025-07-15__16-26-02.npy (deflated 100%)\n",
            "  adding: dataset/masks/train/Положение 6_Image__2025-07-15__16-02-00.npy (deflated 100%)\n",
            "  adding: dataset/masks/train/Положение 0_01.npy (deflated 100%)\n",
            "  adding: dataset/masks/train/Положение 0_4.npy (deflated 100%)\n",
            "  adding: dataset/masks/train/Положение 5_Image__2025-07-15__15-55-36.npy (deflated 100%)\n",
            "  adding: dataset/masks/train/Положение 5_Image__2025-07-15__15-55-43.npy (deflated 100%)\n",
            "  adding: dataset/masks/train/Положение 11_Image__2025-07-15__16-45-01.npy (deflated 100%)\n",
            "  adding: dataset/masks/train/Положение 10_Image__2025-07-15__16-34-44.npy (deflated 100%)\n",
            "  adding: dataset/masks/train/Положение 3_Image__2025-07-15__15-45-47.npy (deflated 100%)\n",
            "  adding: dataset/masks/train/Положение 13_Image__2025-07-15__16-52-09.npy (deflated 100%)\n",
            "  adding: dataset/masks/train/Положение 10_Image__2025-07-15__16-41-18.npy (deflated 100%)\n",
            "  adding: dataset/masks/train/Положение 3_Image__2025-07-15__15-47-52.npy (deflated 100%)\n",
            "  adding: dataset/masks/train/Положение 12_Image__2025-07-15__16-48-33.npy (deflated 100%)\n",
            "  adding: dataset/masks/train/Положение 3_Image__2025-07-15__15-45-42.npy (deflated 100%)\n",
            "  adding: dataset/masks/train/Положение 10_Image__2025-07-15__16-37-13.npy (deflated 100%)\n",
            "  adding: dataset/masks/train/Положение 4_Image__2025-07-15__15-53-21.npy (deflated 100%)\n",
            "  adding: dataset/masks/train/Положение 12_Image__2025-07-15__16-47-12.npy (deflated 100%)\n",
            "  adding: dataset/masks/train/Положение 3_Image__2025-07-15__15-47-58.npy (deflated 100%)\n",
            "  adding: dataset/masks/train/Положение 0_50.npy (deflated 100%)\n",
            "  adding: dataset/masks/train/Положение 8_Image__2025-07-15__16-23-22.npy (deflated 100%)\n",
            "  adding: dataset/masks/train/Положение 12_Image__2025-07-15__16-47-25.npy (deflated 100%)\n",
            "  adding: dataset/masks/train/Положение 7_Image__2025-07-15__16-14-47.npy (deflated 100%)\n",
            "  adding: dataset/masks/train/Положение 12_Image__2025-07-15__16-47-58.npy (deflated 100%)\n",
            "  adding: dataset/masks/train/Положение 9_Image__2025-07-15__16-29-56.npy (deflated 100%)\n",
            "  adding: dataset/masks/train/Положение 5_Image__2025-07-15__15-59-14.npy (deflated 100%)\n",
            "  adding: dataset/masks/train/Положение 2_Image__2025-07-15__15-41-04.npy (deflated 100%)\n",
            "  adding: dataset/masks/train/Положение 3_Image__2025-07-15__15-46-07.npy (deflated 100%)\n",
            "  adding: dataset/masks/train/Положение 0_70.npy (deflated 100%)\n",
            "  adding: dataset/masks/train/Положение 9_Image__2025-07-15__16-31-00.npy (deflated 100%)\n",
            "  adding: dataset/masks/train/Положение 0_60.npy (deflated 100%)\n",
            "  adding: dataset/masks/train/Положение 6_Image__2025-07-15__16-02-25.npy (deflated 100%)\n",
            "  adding: dataset/masks/train/Положение 12_Image__2025-07-15__16-49-41.npy (deflated 100%)\n",
            "  adding: dataset/masks/train/Положение 2_Image__2025-07-15__15-35-54.npy (deflated 100%)\n",
            "  adding: dataset/masks/train/Положение 7_Image__2025-07-15__16-13-17.npy (deflated 100%)\n",
            "  adding: dataset/masks/train/Положение 5_Image__2025-07-15__15-59-41.npy (deflated 100%)\n",
            "  adding: dataset/masks/train/Положение 4_Image__2025-07-15__15-50-43.npy (deflated 100%)\n",
            "  adding: dataset/masks/train/Положение 6_Image__2025-07-15__16-08-25.npy (deflated 100%)\n",
            "  adding: dataset/masks/train/Положение 3_Image__2025-07-15__15-45-24.npy (deflated 100%)\n",
            "  adding: dataset/masks/train/Положение 2_Image__2025-07-15__15-36-16.npy (deflated 100%)\n",
            "  adding: dataset/masks/train/Положение 13_Image__2025-07-15__16-52-42.npy (deflated 100%)\n",
            "  adding: dataset/masks/train/Положение 8_Image__2025-07-15__16-23-45.npy (deflated 100%)\n",
            "  adding: dataset/masks/train/Положение 11_Image__2025-07-15__16-43-38.npy (deflated 100%)\n",
            "  adding: dataset/masks/train/Положение 8_Image__2025-07-15__16-21-51.npy (deflated 100%)\n",
            "  adding: dataset/masks/train/Положение 8_Image__2025-07-15__16-22-17.npy (deflated 100%)\n",
            "  adding: dataset/masks/train/Положение 5_Image__2025-07-15__15-56-10.npy (deflated 100%)\n",
            "  adding: dataset/masks/train/Положение 7_Image__2025-07-15__16-10-52.npy (deflated 100%)\n",
            "  adding: dataset/masks/train/Положение 7_Image__2025-07-15__16-11-46.npy (deflated 100%)\n",
            "  adding: dataset/masks/train/Положение 0_7.npy (deflated 100%)\n",
            "  adding: dataset/masks/train/Положение 7_Image__2025-07-15__16-10-39.npy (deflated 100%)\n",
            "  adding: dataset/masks/train/Положение 6_Image__2025-07-15__16-01-04.npy (deflated 100%)\n",
            "  adding: dataset/masks/train/Положение 4_Image__2025-07-15__15-51-18.npy (deflated 100%)\n",
            "  adding: dataset/masks/train/Положение 2_Image__2025-07-15__15-36-26.npy (deflated 100%)\n",
            "  adding: dataset/masks/train/Положение 3_Image__2025-07-15__15-45-08.npy (deflated 100%)\n",
            "  adding: dataset/masks/train/Положение 8_Image__2025-07-15__16-21-56.npy (deflated 100%)\n",
            "  adding: dataset/masks/train/Положение 0_3.npy (deflated 100%)\n",
            "  adding: dataset/masks/train/Положение 5_Image__2025-07-15__15-54-24.npy (deflated 100%)\n",
            "  adding: dataset/masks/train/Положение 3_Image__2025-07-15__15-48-07.npy (deflated 100%)\n",
            "  adding: dataset/masks/train/Положение 7_Image__2025-07-15__16-11-13.npy (deflated 100%)\n",
            "  adding: dataset/masks/train/Положение 10_Image__2025-07-15__16-37-46.npy (deflated 100%)\n",
            "  adding: dataset/masks/train/Положение 2_Image__2025-07-15__15-41-12.npy (deflated 100%)\n",
            "  adding: dataset/masks/train/Положение 6_Image__2025-07-15__16-00-54.npy (deflated 100%)\n",
            "  adding: dataset/masks/train/Положение 0_8.npy (deflated 100%)\n",
            "  adding: dataset/masks/train/Положение 8_Image__2025-07-15__16-25-49.npy (deflated 100%)\n",
            "  adding: dataset/masks/train/Положение 2_Image__2025-07-15__15-37-01.npy (deflated 100%)\n",
            "  adding: dataset/masks/train/Положение 1_Image__2025-07-15__15-31-52.npy (deflated 100%)\n",
            "  adding: dataset/masks/train/Положение 4_Image__2025-07-15__15-53-28.npy (deflated 100%)\n",
            "  adding: dataset/masks/train/Положение 8_Image__2025-07-15__16-25-40.npy (deflated 100%)\n",
            "  adding: dataset/masks/train/Положение 2_Image__2025-07-15__15-38-24.npy (deflated 100%)\n",
            "  adding: dataset/masks/train/Положение 13_Image__2025-07-15__16-55-27.npy (deflated 100%)\n",
            "  adding: dataset/masks/train/Положение 2_Image__2025-07-15__15-39-31.npy (deflated 100%)\n",
            "  adding: dataset/masks/train/Положение 1_Image__2025-07-15__15-26-30.npy (deflated 100%)\n",
            "  adding: dataset/masks/train/Положение 0_20.npy (deflated 100%)\n",
            "  adding: dataset/masks/train/Положение 3_Image__2025-07-15__15-47-29.npy (deflated 100%)\n",
            "  adding: dataset/masks/train/Положение 3_Image__2025-07-15__15-46-27.npy (deflated 100%)\n",
            "  adding: dataset/masks/train/Положение 10_Image__2025-07-15__16-41-04.npy (deflated 100%)\n",
            "  adding: dataset/masks/train/Положение 8_Image__2025-07-15__16-22-45.npy (deflated 100%)\n",
            "  adding: dataset/masks/train/Положение 4_Image__2025-07-15__15-52-49.npy (deflated 100%)\n",
            "  adding: dataset/masks/train/Положение 8_Image__2025-07-15__16-25-07.npy (deflated 100%)\n",
            "  adding: dataset/masks/train/Положение 4_Image__2025-07-15__15-49-03.npy (deflated 100%)\n",
            "  adding: dataset/masks/train/Положение 13_Image__2025-07-15__16-53-31.npy (deflated 100%)\n",
            "  adding: dataset/masks/train/Положение 1_Image__2025-07-15__15-32-52.npy (deflated 100%)\n",
            "  adding: dataset/masks/train/Положение 4_Image__2025-07-15__15-49-37.npy (deflated 100%)\n",
            "  adding: dataset/masks/train/Положение 11_Image__2025-07-15__16-45-53.npy (deflated 100%)\n",
            "  adding: dataset/masks/train/Положение 4_Image__2025-07-15__15-51-42.npy (deflated 100%)\n",
            "  adding: dataset/masks/train/Положение 6_Image__2025-07-15__16-05-33.npy (deflated 100%)\n",
            "  adding: dataset/masks/train/Положение 2_Image__2025-07-15__15-41-20.npy (deflated 100%)\n",
            "  adding: dataset/masks/train/Положение 5_Image__2025-07-15__15-55-31.npy (deflated 100%)\n",
            "  adding: dataset/masks/train/Положение 12_Image__2025-07-15__16-49-34.npy (deflated 100%)\n",
            "  adding: dataset/masks/train/Положение 13_Image__2025-07-15__16-54-52.npy (deflated 100%)\n",
            "  adding: dataset/masks/train/Положение 8_Image__2025-07-15__16-22-56.npy (deflated 100%)\n",
            "  adding: dataset/masks/train/Положение 8_Image__2025-07-15__16-21-13.npy (deflated 100%)\n",
            "  adding: dataset/masks/train/Положение 0_Image__2025-07-15__16-59-57.npy (deflated 100%)\n",
            "  adding: dataset/labels.csv (deflated 90%)\n",
            "  adding: dataset/images/ (stored 0%)\n",
            "  adding: dataset/images/val/ (stored 0%)\n",
            "  adding: dataset/images/val/Положение 4_Image__2025-07-15__15-52-04.npy (deflated 48%)\n",
            "  adding: dataset/images/val/Положение 12_Image__2025-07-15__16-47-21.npy (deflated 36%)\n",
            "  adding: dataset/images/val/Положение 2_Image__2025-07-15__15-36-39.npy (deflated 59%)\n",
            "  adding: dataset/images/val/Положение 6_Image__2025-07-15__16-00-40.npy (deflated 37%)\n",
            "  adding: dataset/images/val/Положение 2_Image__2025-07-15__15-42-03.npy (deflated 20%)\n",
            "  adding: dataset/images/val/Положение 5_Image__2025-07-15__15-55-51.npy (deflated 47%)\n",
            "  adding: dataset/images/val/Положение 12_Image__2025-07-15__16-48-13.npy (deflated 26%)\n",
            "  adding: dataset/images/val/Положение 8_Image__2025-07-15__16-21-04.npy (deflated 62%)\n",
            "  adding: dataset/images/val/Положение 3_Image__2025-07-15__15-43-11.npy (deflated 61%)\n",
            "  adding: dataset/images/val/Положение 3_Image__2025-07-15__15-46-57.npy (deflated 20%)\n",
            "  adding: dataset/images/val/Положение 1_Image__2025-07-15__15-24-40.npy (deflated 40%)\n",
            "  adding: dataset/images/val/Положение 8_Image__2025-07-15__16-25-22.npy (deflated 50%)\n",
            "  adding: dataset/images/val/Положение 5_Image__2025-07-15__15-58-53.npy (deflated 47%)\n",
            "  adding: dataset/images/val/Положение 7_Image__2025-07-15__16-13-39.npy (deflated 56%)\n",
            "  adding: dataset/images/val/Положение 2_Image__2025-07-15__15-37-07.npy (deflated 49%)\n",
            "  adding: dataset/images/val/Положение 5_Image__2025-07-15__15-56-32.npy (deflated 50%)\n",
            "  adding: dataset/images/val/Положение 8_Image__2025-07-15__16-24-20.npy (deflated 54%)\n",
            "  adding: dataset/images/val/Положение 4_Image__2025-07-15__15-50-08.npy (deflated 48%)\n",
            "  adding: dataset/images/val/Положение 1_Image__2025-07-15__15-24-58.npy (deflated 28%)\n",
            "  adding: dataset/images/val/Положение 3_Image__2025-07-15__15-44-50.npy (deflated 49%)\n",
            "  adding: dataset/images/val/Положение 10_Image__2025-07-15__16-37-03.npy (deflated 50%)\n",
            "  adding: dataset/images/val/Положение 5_Image__2025-07-15__15-59-51.npy (deflated 29%)\n",
            "  adding: dataset/images/val/Положение 13_Image__2025-07-15__16-52-35.npy (deflated 34%)\n",
            "  adding: dataset/images/val/Положение 13_Image__2025-07-15__16-52-20.npy (deflated 32%)\n",
            "  adding: dataset/images/val/Положение 1_Image__2025-07-15__15-24-28.npy (deflated 45%)\n",
            "  adding: dataset/images/val/Положение 2_Image__2025-07-15__15-39-53.npy (deflated 48%)\n",
            "  adding: dataset/images/val/Положение 9_Image__2025-07-15__16-30-42.npy (deflated 49%)\n",
            "  adding: dataset/images/val/Положение 5_Image__2025-07-15__15-59-25.npy (deflated 24%)\n",
            "  adding: dataset/images/val/Положение 6_Image__2025-07-15__16-02-45.npy (deflated 40%)\n",
            "  adding: dataset/images/val/Положение 7_Image__2025-07-15__16-14-19.npy (deflated 54%)\n",
            "  adding: dataset/images/val/Положение 7_Image__2025-07-15__16-14-30.npy (deflated 48%)\n",
            "  adding: dataset/images/val/Положение 2_Image__2025-07-15__15-39-07.npy (deflated 50%)\n",
            "  adding: dataset/images/val/Положение 5_Image__2025-07-15__15-55-40.npy (deflated 43%)\n",
            "  adding: dataset/images/val/Положение 6_Image__2025-07-15__16-05-25.npy (deflated 48%)\n",
            "  adding: dataset/images/val/Положение 9_Image__2025-07-15__16-30-29.npy (deflated 45%)\n",
            "  adding: dataset/images/val/Положение 12_Image__2025-07-15__16-49-49.npy (deflated 27%)\n",
            "  adding: dataset/images/val/Положение 10_Image__2025-07-15__16-36-11.npy (deflated 50%)\n",
            "  adding: dataset/images/val/Положение 11_Image__2025-07-15__16-43-56.npy (deflated 45%)\n",
            "  adding: dataset/images/val/Положение 4_Image__2025-07-15__15-50-15.npy (deflated 49%)\n",
            "  adding: dataset/images/val/Положение 1_Image__2025-07-15__15-22-22.npy (deflated 48%)\n",
            "  adding: dataset/images/val/Положение 3_Image__2025-07-15__15-45-32.npy (deflated 36%)\n",
            "  adding: dataset/images/val/Положение 0_40.npy (deflated 47%)\n",
            "  adding: dataset/images/val/Положение 7_Image__2025-07-15__16-12-04.npy (deflated 40%)\n",
            "  adding: dataset/images/val/Положение 6_Image__2025-07-15__16-03-01.npy (deflated 39%)\n",
            "  adding: dataset/images/val/Положение 12_Image__2025-07-15__16-45-59.npy (deflated 52%)\n",
            "  adding: dataset/images/val/Положение 2_Image__2025-07-15__15-42-30.npy (deflated 61%)\n",
            "  adding: dataset/images/val/Положение 2_Image__2025-07-15__15-38-41.npy (deflated 50%)\n",
            "  adding: dataset/images/val/Положение 6_Image__2025-07-15__16-04-46.npy (deflated 40%)\n",
            "  adding: dataset/images/val/Положение 9_Image__2025-07-15__16-29-31.npy (deflated 45%)\n",
            "  adding: dataset/images/val/Положение 1_Image__2025-07-15__15-26-48.npy (deflated 44%)\n",
            "  adding: dataset/images/val/Положение 3_Image__2025-07-15__15-45-55.npy (deflated 40%)\n",
            "  adding: dataset/images/val/Положение 0_85.npy (deflated 47%)\n",
            "  adding: dataset/images/val/Положение 10_Image__2025-07-15__16-36-58.npy (deflated 48%)\n",
            "  adding: dataset/images/val/Положение 0_6.npy (deflated 47%)\n",
            "  adding: dataset/images/val/Положение 12_Image__2025-07-15__16-48-41.npy (deflated 37%)\n",
            "  adding: dataset/images/train/ (stored 0%)\n",
            "  adding: dataset/images/train/Положение 4_Image__2025-07-15__15-51-57.npy (deflated 46%)\n",
            "  adding: dataset/images/train/Положение 5_Image__2025-07-15__15-58-06.npy (deflated 49%)\n",
            "  adding: dataset/images/train/Положение 8_Image__2025-07-15__16-20-42.npy (deflated 58%)\n",
            "  adding: dataset/images/train/Положение 7_Image__2025-07-15__16-11-36.npy (deflated 58%)\n",
            "  adding: dataset/images/train/Положение 11_Image__2025-07-15__16-43-30.npy (deflated 43%)\n",
            "  adding: dataset/images/train/Положение 13_Image__2025-07-15__16-55-18.npy (deflated 49%)\n",
            "  adding: dataset/images/train/Положение 4_Image__2025-07-15__15-51-24.npy (deflated 43%)\n",
            "  adding: dataset/images/train/Положение 3_Image__2025-07-15__15-44-46.npy (deflated 49%)\n",
            "  adding: dataset/images/train/Положение 10_Image__2025-07-15__16-34-13.npy (deflated 50%)\n",
            "  adding: dataset/images/train/Положение 2_Image__2025-07-15__15-37-36.npy (deflated 45%)\n",
            "  adding: dataset/images/train/Положение 6_Image__2025-07-15__16-03-46.npy (deflated 34%)\n",
            "  adding: dataset/images/train/Положение 0_1.npy (deflated 51%)\n",
            "  adding: dataset/images/train/Положение 13_Image__2025-07-15__16-54-41.npy (deflated 53%)\n",
            "  adding: dataset/images/train/Положение 5_Image__2025-07-15__15-59-34.npy (deflated 30%)\n",
            "  adding: dataset/images/train/Положение 10_Image__2025-07-15__16-41-25.npy (deflated 50%)\n",
            "  adding: dataset/images/train/Положение 5_Image__2025-07-15__15-58-38.npy (deflated 39%)\n",
            "  adding: dataset/images/train/Положение 9_Image__2025-07-15__16-31-28.npy (deflated 48%)\n",
            "  adding: dataset/images/train/Положение 1_Image__2025-07-15__15-30-23.npy (deflated 41%)\n",
            "  adding: dataset/images/train/Положение 7_Image__2025-07-15__16-14-56.npy (deflated 32%)\n",
            "  adding: dataset/images/train/Положение 13_Image__2025-07-15__16-52-26.npy (deflated 38%)\n",
            "  adding: dataset/images/train/Положение 6_Image__2025-07-15__16-05-06.npy (deflated 57%)\n",
            "  adding: dataset/images/train/Положение 4_Image__2025-07-15__15-53-54.npy (deflated 31%)\n",
            "  adding: dataset/images/train/Положение 11_Image__2025-07-15__16-45-36.npy (deflated 53%)\n",
            "  adding: dataset/images/train/Положение 9_Image__2025-07-15__16-30-57.npy (deflated 39%)\n",
            "  adding: dataset/images/train/Положение 2_Image__2025-07-15__15-40-54.npy (deflated 37%)\n",
            "  adding: dataset/images/train/Положение 12_Image__2025-07-15__16-48-07.npy (deflated 33%)\n",
            "  adding: dataset/images/train/Положение 5_Image__2025-07-15__15-56-48.npy (deflated 48%)\n",
            "  adding: dataset/images/train/Положение 1_Image__2025-07-15__15-31-12.npy (deflated 44%)\n",
            "  adding: dataset/images/train/Положение 5_Image__2025-07-15__15-58-24.npy (deflated 33%)\n",
            "  adding: dataset/images/train/Положение 4_Image__2025-07-15__15-52-33.npy (deflated 39%)\n",
            "  adding: dataset/images/train/Положение 5_Image__2025-07-15__15-57-45.npy (deflated 28%)\n",
            "  adding: dataset/images/train/Положение 7_Image__2025-07-15__16-10-49.npy (deflated 49%)\n",
            "  adding: dataset/images/train/Положение 12_Image__2025-07-15__16-47-28.npy (deflated 43%)\n",
            "  adding: dataset/images/train/Положение 1_Image__2025-07-15__15-25-06.npy (deflated 37%)\n",
            "  adding: dataset/images/train/Положение 3_Image__2025-07-15__15-43-23.npy (deflated 56%)\n",
            "  adding: dataset/images/train/Положение 7_Image__2025-07-15__16-13-49.npy (deflated 56%)\n",
            "  adding: dataset/images/train/Положение 9_Image__2025-07-15__16-30-06.npy (deflated 54%)\n",
            "  adding: dataset/images/train/Положение 1_Image__2025-07-15__15-30-00.npy (deflated 46%)\n",
            "  adding: dataset/images/train/Положение 5_Image__2025-07-15__15-55-03.npy (deflated 45%)\n",
            "  adding: dataset/images/train/Положение 2_Image__2025-07-15__15-36-56.npy (deflated 50%)\n",
            "  adding: dataset/images/train/Положение 4_Image__2025-07-15__15-51-05.npy (deflated 57%)\n",
            "  adding: dataset/images/train/Положение 1_Image__2025-07-15__15-30-32.npy (deflated 50%)\n",
            "  adding: dataset/images/train/Положение 5_Image__2025-07-15__15-56-21.npy (deflated 48%)\n",
            "  adding: dataset/images/train/Положение 0_80.npy (deflated 47%)\n",
            "  adding: dataset/images/train/Положение 4_Image__2025-07-15__15-52-27.npy (deflated 38%)\n",
            "  adding: dataset/images/train/Положение 9_Image__2025-07-15__16-31-32.npy (deflated 48%)\n",
            "  adding: dataset/images/train/Положение 13_Image__2025-07-15__16-53-03.npy (deflated 46%)\n",
            "  adding: dataset/images/train/Положение 3_Image__2025-07-15__15-46-17.npy (deflated 47%)\n",
            "  adding: dataset/images/train/Положение 1_Image__2025-07-15__15-24-23.npy (deflated 47%)\n",
            "  adding: dataset/images/train/Положение 6_Image__2025-07-15__16-06-33.npy (deflated 52%)\n",
            "  adding: dataset/images/train/Положение 4_Image__2025-07-15__15-52-42.npy (deflated 43%)\n",
            "  adding: dataset/images/train/Положение 4_Image__2025-07-15__15-49-23.npy (deflated 54%)\n",
            "  adding: dataset/images/train/Положение 5_Image__2025-07-15__15-55-24.npy (deflated 49%)\n",
            "  adding: dataset/images/train/Положение 3_Image__2025-07-15__15-44-58.npy (deflated 56%)\n",
            "  adding: dataset/images/train/Положение 9_Image__2025-07-15__16-31-45.npy (deflated 47%)\n",
            "  adding: dataset/images/train/Положение 3_Image__2025-07-15__15-47-40.npy (deflated 54%)\n",
            "  adding: dataset/images/train/Положение 7_Image__2025-07-15__16-12-49.npy (deflated 42%)\n",
            "  adding: dataset/images/train/Положение 0_9.npy (deflated 47%)\n",
            "  adding: dataset/images/train/Положение 13_Image__2025-07-15__16-55-05.npy (deflated 52%)\n",
            "  adding: dataset/images/train/Положение 9_Image__2025-07-15__16-31-08.npy (deflated 38%)\n",
            "  adding: dataset/images/train/Положение 13_Image__2025-07-15__16-51-43.npy (deflated 24%)\n",
            "  adding: dataset/images/train/Положение 8_Image__2025-07-15__16-21-41.npy (deflated 51%)\n",
            "  adding: dataset/images/train/Положение 12_Image__2025-07-15__16-49-22.npy (deflated 25%)\n",
            "  adding: dataset/images/train/Положение 7_Image__2025-07-15__16-09-55.npy (deflated 55%)\n",
            "  adding: dataset/images/train/Положение 10_Image__2025-07-15__16-42-08.npy (deflated 47%)\n",
            "  adding: dataset/images/train/Положение 10_Image__2025-07-15__16-36-18.npy (deflated 44%)\n",
            "  adding: dataset/images/train/Положение 13_Image__2025-07-15__16-54-07.npy (deflated 49%)\n",
            "  adding: dataset/images/train/Положение 9_Image__2025-07-15__16-31-24.npy (deflated 48%)\n",
            "  adding: dataset/images/train/Положение 6_Image__2025-07-15__16-02-41.npy (deflated 41%)\n",
            "  adding: dataset/images/train/Положение 0_30.npy (deflated 47%)\n",
            "  adding: dataset/images/train/Положение 3_Image__2025-07-15__15-44-31.npy (deflated 52%)\n",
            "  adding: dataset/images/train/Положение 5_Image__2025-07-15__15-58-45.npy (deflated 44%)\n",
            "  adding: dataset/images/train/Положение 10_Image__2025-07-15__16-42-00.npy (deflated 46%)\n",
            "  adding: dataset/images/train/Положение 8_Image__2025-07-15__16-24-52.npy (deflated 51%)\n",
            "  adding: dataset/images/train/Положение 2_Image__2025-07-15__15-40-35.npy (deflated 36%)\n",
            "  adding: dataset/images/train/Положение 10_Image__2025-07-15__16-37-40.npy (deflated 51%)\n",
            "  adding: dataset/images/train/Положение 12_Image__2025-07-15__16-49-55.npy (deflated 23%)\n",
            "  adding: dataset/images/train/Положение 4_Image__2025-07-15__15-49-45.npy (deflated 45%)\n",
            "  adding: dataset/images/train/Положение 6_Image__2025-07-15__16-06-03.npy (deflated 57%)\n",
            "  adding: dataset/images/train/Положение 13_Image__2025-07-15__16-54-29.npy (deflated 49%)\n",
            "  adding: dataset/images/train/Положение 8_Image__2025-07-15__16-24-03.npy (deflated 48%)\n",
            "  adding: dataset/images/train/Положение 13_Image__2025-07-15__16-53-39.npy (deflated 44%)\n",
            "  adding: dataset/images/train/Положение 0_Image__2025-07-15__16-57-50.npy (deflated 47%)\n",
            "  adding: dataset/images/train/Положение 2_Image__2025-07-15__15-39-26.npy (deflated 46%)\n",
            "  adding: dataset/images/train/Положение 10_Image__2025-07-15__16-41-53.npy (deflated 43%)\n",
            "  adding: dataset/images/train/Положение 2_Image__2025-07-15__15-37-16.npy (deflated 47%)\n",
            "  adding: dataset/images/train/Положение 1_Image__2025-07-15__15-24-18.npy (deflated 51%)\n",
            "  adding: dataset/images/train/Положение 1_Image__2025-07-15__15-33-05.npy (deflated 54%)\n",
            "  adding: dataset/images/train/Положение 6_Image__2025-07-15__16-05-16.npy (deflated 40%)\n",
            "  adding: dataset/images/train/Положение 13_Image__2025-07-15__16-52-49.npy (deflated 33%)\n",
            "  adding: dataset/images/train/Положение 11_Image__2025-07-15__16-44-17.npy (deflated 45%)\n",
            "  adding: dataset/images/train/Положение 0_5.npy (deflated 47%)\n",
            "  adding: dataset/images/train/Положение 13_Image__2025-07-15__16-52-15.npy (deflated 28%)\n",
            "  adding: dataset/images/train/Положение 7_Image__2025-07-15__16-15-22.npy (deflated 57%)\n",
            "  adding: dataset/images/train/Положение 13_Image__2025-07-15__16-53-57.npy (deflated 45%)\n",
            "  adding: dataset/images/train/Положение 9_Image__2025-07-15__16-30-16.npy (deflated 41%)\n",
            "  adding: dataset/images/train/Положение 2_Image__2025-07-15__15-39-16.npy (deflated 46%)\n",
            "  adding: dataset/images/train/Положение 3_Image__2025-07-15__15-45-14.npy (deflated 53%)\n",
            "  adding: dataset/images/train/Положение 2_Image__2025-07-15__15-37-59.npy (deflated 38%)\n",
            "  adding: dataset/images/train/Положение 11_Image__2025-07-15__16-42-55.npy (deflated 26%)\n",
            "  adding: dataset/images/train/Положение 5_Image__2025-07-15__15-55-46.npy (deflated 44%)\n",
            "  adding: dataset/images/train/Положение 8_Image__2025-07-15__16-26-16.npy (deflated 42%)\n",
            "  adding: dataset/images/train/Положение 11_Image__2025-07-15__16-43-49.npy (deflated 39%)\n",
            "  adding: dataset/images/train/Положение 1_Image__2025-07-15__15-32-10.npy (deflated 28%)\n",
            "  adding: dataset/images/train/Положение 6_Image__2025-07-15__16-00-15.npy (deflated 29%)\n",
            "  adding: dataset/images/train/Положение 5_Image__2025-07-15__15-58-13.npy (deflated 37%)\n",
            "  adding: dataset/images/train/Положение 3_Image__2025-07-15__15-43-50.npy (deflated 49%)\n",
            "  adding: dataset/images/train/Положение 3_Image__2025-07-15__15-44-52.npy (deflated 49%)\n",
            "  adding: dataset/images/train/Положение 1_Image__2025-07-15__15-25-54.npy (deflated 21%)\n",
            "  adding: dataset/images/train/Положение 10_Image__2025-07-15__16-36-37.npy (deflated 56%)\n",
            "  adding: dataset/images/train/Положение 2_Image__2025-07-15__15-38-54.npy (deflated 46%)\n",
            "  adding: dataset/images/train/Положение 1_Image__2025-07-15__15-26-34.npy (deflated 42%)\n",
            "  adding: dataset/images/train/Положение 5_Image__2025-07-15__15-57-02.npy (deflated 45%)\n",
            "  adding: dataset/images/train/Положение 8_Image__2025-07-15__16-27-31.npy (deflated 42%)\n",
            "  adding: dataset/images/train/Положение 3_Image__2025-07-15__15-45-03.npy (deflated 51%)\n",
            "  adding: dataset/images/train/Положение 1_Image__2025-07-15__15-33-20.npy (deflated 57%)\n",
            "  adding: dataset/images/train/Положение 9_Image__2025-07-15__16-32-56.npy (deflated 53%)\n",
            "  adding: dataset/images/train/Положение 1_Image__2025-07-15__15-24-35.npy (deflated 42%)\n",
            "  adding: dataset/images/train/Положение 11_Image__2025-07-15__16-45-22.npy (deflated 43%)\n",
            "  adding: dataset/images/train/Положение 9_Image__2025-07-15__16-32-10.npy (deflated 31%)\n",
            "  adding: dataset/images/train/Положение 9_Image__2025-07-15__16-31-17.npy (deflated 57%)\n",
            "  adding: dataset/images/train/Положение 2_Image__2025-07-15__15-36-50.npy (deflated 59%)\n",
            "  adding: dataset/images/train/Положение 13_Image__2025-07-15__16-53-24.npy (deflated 44%)\n",
            "  adding: dataset/images/train/Положение 8_Image__2025-07-15__16-23-07.npy (deflated 39%)\n",
            "  adding: dataset/images/train/Положение 4_Image__2025-07-15__15-52-59.npy (deflated 46%)\n",
            "  adding: dataset/images/train/Положение 6_Image__2025-07-15__16-02-10.npy (deflated 48%)\n",
            "  adding: dataset/images/train/Положение 5_Image__2025-07-15__15-57-05.npy (deflated 43%)\n",
            "  adding: dataset/images/train/Положение 3_Image__2025-07-15__15-47-34.npy (deflated 54%)\n",
            "  adding: dataset/images/train/Положение 8_Image__2025-07-15__16-26-02.npy (deflated 45%)\n",
            "  adding: dataset/images/train/Положение 6_Image__2025-07-15__16-02-00.npy (deflated 54%)\n",
            "  adding: dataset/images/train/Положение 0_01.npy (deflated 47%)\n",
            "  adding: dataset/images/train/Положение 0_4.npy (deflated 47%)\n",
            "  adding: dataset/images/train/Положение 5_Image__2025-07-15__15-55-36.npy (deflated 41%)\n",
            "  adding: dataset/images/train/Положение 5_Image__2025-07-15__15-55-43.npy (deflated 38%)\n",
            "  adding: dataset/images/train/Положение 11_Image__2025-07-15__16-45-01.npy (deflated 44%)\n",
            "  adding: dataset/images/train/Положение 10_Image__2025-07-15__16-34-44.npy (deflated 51%)\n",
            "  adding: dataset/images/train/Положение 3_Image__2025-07-15__15-45-47.npy (deflated 29%)\n",
            "  adding: dataset/images/train/Положение 13_Image__2025-07-15__16-52-09.npy (deflated 24%)\n",
            "  adding: dataset/images/train/Положение 10_Image__2025-07-15__16-41-18.npy (deflated 51%)\n",
            "  adding: dataset/images/train/Положение 3_Image__2025-07-15__15-47-52.npy (deflated 38%)\n",
            "  adding: dataset/images/train/Положение 12_Image__2025-07-15__16-48-33.npy (deflated 37%)\n",
            "  adding: dataset/images/train/Положение 3_Image__2025-07-15__15-45-42.npy (deflated 33%)\n",
            "  adding: dataset/images/train/Положение 10_Image__2025-07-15__16-37-13.npy (deflated 50%)\n",
            "  adding: dataset/images/train/Положение 4_Image__2025-07-15__15-53-21.npy (deflated 56%)\n",
            "  adding: dataset/images/train/Положение 12_Image__2025-07-15__16-47-12.npy (deflated 52%)\n",
            "  adding: dataset/images/train/Положение 3_Image__2025-07-15__15-47-58.npy (deflated 39%)\n",
            "  adding: dataset/images/train/Положение 0_50.npy (deflated 47%)\n",
            "  adding: dataset/images/train/Положение 8_Image__2025-07-15__16-23-22.npy (deflated 35%)\n",
            "  adding: dataset/images/train/Положение 12_Image__2025-07-15__16-47-25.npy (deflated 41%)\n",
            "  adding: dataset/images/train/Положение 7_Image__2025-07-15__16-14-47.npy (deflated 39%)\n",
            "  adding: dataset/images/train/Положение 12_Image__2025-07-15__16-47-58.npy (deflated 33%)\n",
            "  adding: dataset/images/train/Положение 9_Image__2025-07-15__16-29-56.npy (deflated 42%)\n",
            "  adding: dataset/images/train/Положение 5_Image__2025-07-15__15-59-14.npy (deflated 17%)\n",
            "  adding: dataset/images/train/Положение 2_Image__2025-07-15__15-41-04.npy (deflated 45%)\n",
            "  adding: dataset/images/train/Положение 3_Image__2025-07-15__15-46-07.npy (deflated 34%)\n",
            "  adding: dataset/images/train/Положение 0_70.npy (deflated 47%)\n",
            "  adding: dataset/images/train/Положение 9_Image__2025-07-15__16-31-00.npy (deflated 40%)\n",
            "  adding: dataset/images/train/Положение 0_60.npy (deflated 47%)\n",
            "  adding: dataset/images/train/Положение 6_Image__2025-07-15__16-02-25.npy (deflated 48%)\n",
            "  adding: dataset/images/train/Положение 12_Image__2025-07-15__16-49-41.npy (deflated 31%)\n",
            "  adding: dataset/images/train/Положение 2_Image__2025-07-15__15-35-54.npy (deflated 56%)\n",
            "  adding: dataset/images/train/Положение 7_Image__2025-07-15__16-13-17.npy (deflated 31%)\n",
            "  adding: dataset/images/train/Положение 5_Image__2025-07-15__15-59-41.npy (deflated 25%)\n",
            "  adding: dataset/images/train/Положение 4_Image__2025-07-15__15-50-43.npy (deflated 34%)\n",
            "  adding: dataset/images/train/Положение 6_Image__2025-07-15__16-08-25.npy (deflated 52%)\n",
            "  adding: dataset/images/train/Положение 3_Image__2025-07-15__15-45-24.npy (deflated 44%)\n",
            "  adding: dataset/images/train/Положение 2_Image__2025-07-15__15-36-16.npy (deflated 61%)\n",
            "  adding: dataset/images/train/Положение 13_Image__2025-07-15__16-52-42.npy (deflated 46%)\n",
            "  adding: dataset/images/train/Положение 8_Image__2025-07-15__16-23-45.npy (deflated 35%)\n",
            "  adding: dataset/images/train/Положение 11_Image__2025-07-15__16-43-38.npy (deflated 40%)\n",
            "  adding: dataset/images/train/Положение 8_Image__2025-07-15__16-21-51.npy (deflated 33%)\n",
            "  adding: dataset/images/train/Положение 8_Image__2025-07-15__16-22-17.npy (deflated 56%)\n",
            "  adding: dataset/images/train/Положение 5_Image__2025-07-15__15-56-10.npy (deflated 47%)\n",
            "  adding: dataset/images/train/Положение 7_Image__2025-07-15__16-10-52.npy (deflated 49%)\n",
            "  adding: dataset/images/train/Положение 7_Image__2025-07-15__16-11-46.npy (deflated 39%)\n",
            "  adding: dataset/images/train/Положение 0_7.npy (deflated 47%)\n",
            "  adding: dataset/images/train/Положение 7_Image__2025-07-15__16-10-39.npy (deflated 49%)\n",
            "  adding: dataset/images/train/Положение 6_Image__2025-07-15__16-01-04.npy (deflated 38%)\n",
            "  adding: dataset/images/train/Положение 4_Image__2025-07-15__15-51-18.npy (deflated 44%)\n",
            "  adding: dataset/images/train/Положение 2_Image__2025-07-15__15-36-26.npy (deflated 57%)\n",
            "  adding: dataset/images/train/Положение 3_Image__2025-07-15__15-45-08.npy (deflated 49%)\n",
            "  adding: dataset/images/train/Положение 8_Image__2025-07-15__16-21-56.npy (deflated 31%)\n",
            "  adding: dataset/images/train/Положение 0_3.npy (deflated 47%)\n",
            "  adding: dataset/images/train/Положение 5_Image__2025-07-15__15-54-24.npy (deflated 31%)\n",
            "  adding: dataset/images/train/Положение 3_Image__2025-07-15__15-48-07.npy (deflated 38%)\n",
            "  adding: dataset/images/train/Положение 7_Image__2025-07-15__16-11-13.npy (deflated 50%)\n",
            "  adding: dataset/images/train/Положение 10_Image__2025-07-15__16-37-46.npy (deflated 47%)\n",
            "  adding: dataset/images/train/Положение 2_Image__2025-07-15__15-41-12.npy (deflated 48%)\n",
            "  adding: dataset/images/train/Положение 6_Image__2025-07-15__16-00-54.npy (deflated 18%)\n",
            "  adding: dataset/images/train/Положение 0_8.npy (deflated 47%)\n",
            "  adding: dataset/images/train/Положение 8_Image__2025-07-15__16-25-49.npy (deflated 42%)\n",
            "  adding: dataset/images/train/Положение 2_Image__2025-07-15__15-37-01.npy (deflated 59%)\n",
            "  adding: dataset/images/train/Положение 1_Image__2025-07-15__15-31-52.npy (deflated 30%)\n",
            "  adding: dataset/images/train/Положение 4_Image__2025-07-15__15-53-28.npy (deflated 47%)\n",
            "  adding: dataset/images/train/Положение 8_Image__2025-07-15__16-25-40.npy (deflated 50%)\n",
            "  adding: dataset/images/train/Положение 2_Image__2025-07-15__15-38-24.npy (deflated 49%)\n",
            "  adding: dataset/images/train/Положение 13_Image__2025-07-15__16-55-27.npy (deflated 58%)\n",
            "  adding: dataset/images/train/Положение 2_Image__2025-07-15__15-39-31.npy (deflated 49%)\n",
            "  adding: dataset/images/train/Положение 1_Image__2025-07-15__15-26-30.npy (deflated 41%)\n",
            "  adding: dataset/images/train/Положение 0_20.npy (deflated 47%)\n",
            "  adding: dataset/images/train/Положение 3_Image__2025-07-15__15-47-29.npy (deflated 48%)\n",
            "  adding: dataset/images/train/Положение 3_Image__2025-07-15__15-46-27.npy (deflated 50%)\n",
            "  adding: dataset/images/train/Положение 10_Image__2025-07-15__16-41-04.npy (deflated 51%)\n",
            "  adding: dataset/images/train/Положение 8_Image__2025-07-15__16-22-45.npy (deflated 54%)\n",
            "  adding: dataset/images/train/Положение 4_Image__2025-07-15__15-52-49.npy (deflated 43%)\n",
            "  adding: dataset/images/train/Положение 8_Image__2025-07-15__16-25-07.npy (deflated 51%)\n",
            "  adding: dataset/images/train/Положение 4_Image__2025-07-15__15-49-03.npy (deflated 55%)\n",
            "  adding: dataset/images/train/Положение 13_Image__2025-07-15__16-53-31.npy (deflated 54%)\n",
            "  adding: dataset/images/train/Положение 1_Image__2025-07-15__15-32-52.npy (deflated 24%)\n",
            "  adding: dataset/images/train/Положение 4_Image__2025-07-15__15-49-37.npy (deflated 44%)\n",
            "  adding: dataset/images/train/Положение 11_Image__2025-07-15__16-45-53.npy (deflated 52%)\n",
            "  adding: dataset/images/train/Положение 4_Image__2025-07-15__15-51-42.npy (deflated 47%)\n",
            "  adding: dataset/images/train/Положение 6_Image__2025-07-15__16-05-33.npy (deflated 53%)\n",
            "  adding: dataset/images/train/Положение 2_Image__2025-07-15__15-41-20.npy (deflated 58%)\n",
            "  adding: dataset/images/train/Положение 5_Image__2025-07-15__15-55-31.npy (deflated 33%)\n",
            "  adding: dataset/images/train/Положение 12_Image__2025-07-15__16-49-34.npy (deflated 31%)\n",
            "  adding: dataset/images/train/Положение 13_Image__2025-07-15__16-54-52.npy (deflated 52%)\n",
            "  adding: dataset/images/train/Положение 8_Image__2025-07-15__16-22-56.npy (deflated 41%)\n",
            "  adding: dataset/images/train/Положение 8_Image__2025-07-15__16-21-13.npy (deflated 58%)\n",
            "  adding: dataset/images/train/Положение 0_Image__2025-07-15__16-59-57.npy (deflated 47%)\n"
          ]
        }
      ]
    },
    {
      "cell_type": "code",
      "source": [
        "!apt-get install tree\n",
        "!tree dataset > tree.txt"
      ],
      "metadata": {
        "id": "o1z8DuxX_vAP"
      },
      "execution_count": null,
      "outputs": []
    },
    {
      "cell_type": "markdown",
      "source": [
        "2 - Датасет"
      ],
      "metadata": {
        "id": "775xuBle9uBq"
      }
    },
    {
      "cell_type": "code",
      "source": [
        "import os\n",
        "import numpy as np\n",
        "import pandas as pd\n",
        "import torch\n",
        "from torch.utils.data import Dataset\n",
        "\n",
        "class LaserVisionDataset(Dataset):\n",
        "    def __init__(self, image_dir, mask_dir, csv_path, split=\"train\", transform=None):\n",
        "        self.image_dir = os.path.join(image_dir, split)\n",
        "        self.mask_dir = os.path.join(mask_dir, split)\n",
        "        self.df = pd.read_csv(csv_path)\n",
        "        self.split = split\n",
        "        self.transform = transform\n",
        "\n",
        "        self.df = self.df[self.df[\"filename\"].str.startswith(split + \"/\")].reset_index(drop=True)\n",
        "\n",
        "    def __len__(self):\n",
        "        return len(self.df)\n",
        "\n",
        "    def __getitem__(self, idx):\n",
        "        row = self.df.iloc[idx]\n",
        "        filename = row[\"filename\"]\n",
        "        x, y, angle = row[\"x_mm\"], row[\"y_mm\"], row[\"angle_deg\"]\n",
        "\n",
        "        # === Загрузка изображений и масок ===\n",
        "        img_path = os.path.join(self.image_dir, os.path.basename(filename))\n",
        "        mask_path = os.path.join(self.mask_dir, os.path.basename(filename))\n",
        "\n",
        "        # .npy → np.array\n",
        "        image = np.load(img_path).astype(np.float32)  # [H, W]\n",
        "        mask = np.load(mask_path).astype(np.float32)  # [H, W, 3]\n",
        "\n",
        "        # === Нормализация ===\n",
        "        image /= 255.0\n",
        "        mask /= 255.0\n",
        "\n",
        "        # === grayscale → RGB (3 канала) ===\n",
        "        image = np.repeat(image[np.newaxis, :, :], 3, axis=0)  # [3, H, W]\n",
        "\n",
        "        # === Преобразование в тензоры ===\n",
        "        image = torch.from_numpy(image)\n",
        "        mask = torch.from_numpy(mask).permute(2, 0, 1)  # [3, H, W]\n",
        "        label = torch.tensor([x, y, angle], dtype=torch.float32)\n",
        "\n",
        "        # === Аугментации (если нужны) ===\n",
        "        if self.transform:\n",
        "            image, mask = self.transform(image, mask)\n",
        "\n",
        "        return image, mask, label"
      ],
      "metadata": {
        "id": "sraF6T7HZsTr"
      },
      "execution_count": 3,
      "outputs": []
    },
    {
      "cell_type": "markdown",
      "source": [
        "3 - Модель"
      ],
      "metadata": {
        "id": "6VTQJFRn-asR"
      }
    },
    {
      "cell_type": "code",
      "source": [
        "import torch\n",
        "import torch.nn as nn\n",
        "import torchvision.models as models\n",
        "\n",
        "class LaserVisionNet(nn.Module):\n",
        "    def __init__(self, backbone='resnet34', num_classes=3):\n",
        "        super().__init__()\n",
        "\n",
        "        # === ЭНКОДЕР ===\n",
        "        resnet = models.resnet34(weights='IMAGENET1K_V1')\n",
        "        self.encoder = nn.Sequential(*list(resnet.children())[:-2])  # [B, 512, H/32, W/32]\n",
        "\n",
        "        # === DECODER для сегментации ===\n",
        "        self.seg_decoder = nn.Sequential(\n",
        "            nn.ConvTranspose2d(512, 256, kernel_size=2, stride=2),\n",
        "            nn.ReLU(inplace=True),\n",
        "            nn.ConvTranspose2d(256, 128, kernel_size=2, stride=2),\n",
        "            nn.ReLU(inplace=True),\n",
        "            nn.ConvTranspose2d(128, 64, kernel_size=2, stride=2),\n",
        "            nn.ReLU(inplace=True),\n",
        "            nn.ConvTranspose2d(64, 32, kernel_size=2, stride=2),\n",
        "            nn.ReLU(inplace=True),\n",
        "            nn.ConvTranspose2d(32, num_classes, kernel_size=2, stride=2)\n",
        "        )\n",
        "\n",
        "        # === РЕГРЕССОР ===\n",
        "        self.regressor = nn.Sequential(\n",
        "            nn.AdaptiveAvgPool2d((1, 1)),\n",
        "            nn.Flatten(),\n",
        "            nn.Linear(512, 128),\n",
        "            nn.ReLU(inplace=True),\n",
        "            nn.Linear(128, 3)  # x, y, theta\n",
        "        )\n",
        "\n",
        "    def forward(self, x):\n",
        "        feats = self.encoder(x)             # [B, 512, H/32, W/32]\n",
        "        seg_out = self.seg_decoder(feats)   # [B, 3, H, W]\n",
        "        reg_out = self.regressor(feats)     # [B, 3]\n",
        "        return seg_out, reg_out"
      ],
      "metadata": {
        "id": "uRFj2IxXa6pc"
      },
      "execution_count": 4,
      "outputs": []
    },
    {
      "cell_type": "code",
      "source": [
        "# Кастомный loss\n",
        "class CombinedLoss(nn.Module):\n",
        "    def __init__(self):\n",
        "        super().__init__()\n",
        "        self.seg_loss = nn.BCEWithLogitsLoss()\n",
        "        self.reg_loss = nn.MSELoss()\n",
        "\n",
        "    def forward(self, seg_pred, reg_pred, seg_true, reg_true):\n",
        "        loss_seg = self.seg_loss(seg_pred, seg_true)\n",
        "        loss_reg = self.reg_loss(reg_pred, reg_true)\n",
        "        total = loss_seg + loss_reg\n",
        "        return total, loss_seg, loss_reg"
      ],
      "metadata": {
        "id": "IDFDXFaHa9ZA"
      },
      "execution_count": null,
      "outputs": []
    },
    {
      "cell_type": "markdown",
      "source": [
        "4 - Обучение"
      ],
      "metadata": {
        "id": "-EhXPiOQ_GCP"
      }
    },
    {
      "cell_type": "code",
      "source": [
        "def train_with_logging(model, train_loader, val_loader, loss_fn, optimizer, device,\n",
        "                       epochs=10, scheduler=None, save_path=\"laser_model.pth\", checkpoint_dir=None):\n",
        "    model.to(device)\n",
        "    history = []\n",
        "    best_val_loss = float('inf')\n",
        "    best_mean_rmse = float('inf')\n",
        "\n",
        "    if checkpoint_dir:\n",
        "        os.makedirs(checkpoint_dir, exist_ok=True)\n",
        "\n",
        "    for epoch in range(1, epochs + 1):\n",
        "        model.train()\n",
        "        train_loss, val_loss = 0.0, 0.0\n",
        "\n",
        "        for imgs, masks, labels in tqdm(train_loader, desc=f\"[Epoch {epoch}] Training\"):\n",
        "            imgs, masks, labels = imgs.to(device), masks.to(device), labels.to(device)\n",
        "            optimizer.zero_grad()\n",
        "            seg_out, reg_out = model(imgs)\n",
        "            loss, _, _ = loss_fn(seg_out, reg_out, masks, labels)\n",
        "            loss.backward()\n",
        "            optimizer.step()\n",
        "            train_loss += loss.item()\n",
        "\n",
        "        if scheduler is not None:\n",
        "          scheduler.step()\n",
        "\n",
        "        # === Валидация ===\n",
        "        model.eval()\n",
        "        with torch.no_grad():\n",
        "            for imgs, masks, labels in tqdm(val_loader, desc=f\"[Epoch {epoch}] Validation\"):\n",
        "                imgs, masks, labels = imgs.to(device), masks.to(device), labels.to(device)\n",
        "                seg_out, reg_out = model(imgs)\n",
        "                loss, _, _ = loss_fn(seg_out, reg_out, masks, labels)\n",
        "                val_loss += loss.item()\n",
        "\n",
        "        # === Метрики ===\n",
        "        def compute_iou(pred_mask, true_mask):\n",
        "            pred_mask = torch.sigmoid(pred_mask) > 0.5  # [B, 3, H, W]\n",
        "            true_mask = true_mask > 0.5\n",
        "            ious = []\n",
        "\n",
        "            for c in range(3):\n",
        "                intersection = ((pred_mask[:, c] & true_mask[:, c])).float().sum(dim=(1, 2))\n",
        "                union = ((pred_mask[:, c] | true_mask[:, c])).float().sum(dim=(1, 2))\n",
        "                iou = (intersection / (union + 1e-6)).mean()\n",
        "                ious.append(iou.item())\n",
        "\n",
        "            return sum(ious) / len(ious)\n",
        "\n",
        "        def compute_rmse(pred, true):\n",
        "            return torch.sqrt(F.mse_loss(pred, true)).item()\n",
        "\n",
        "        model.eval()\n",
        "        ious, rmses = [], []\n",
        "\n",
        "        with torch.no_grad():\n",
        "            for imgs, masks, labels in tqdm(val_loader, desc=f\"[Epoch {epoch}] Validation\"):\n",
        "                imgs, masks, labels = imgs.to(device), masks.to(device), labels.to(device)\n",
        "                seg_out, reg_out = model(imgs)\n",
        "                loss, _, _ = loss_fn(seg_out, reg_out, masks, labels)\n",
        "                val_loss += loss.item()\n",
        "\n",
        "                ious.append(compute_iou(seg_out.cpu(), masks.cpu()))\n",
        "                rmses.append(compute_rmse(reg_out.cpu(), labels.cpu()))\n",
        "\n",
        "        mean_iou = sum(ious) / len(ious)\n",
        "        mean_rmse = sum(rmses) / len(rmses)\n",
        "\n",
        "        print(f\"Epoch {epoch}: Train Loss = {train_loss:.4f}, Val Loss = {val_loss:.4f} | IoU = {mean_iou:.3f}, RMSE = {mean_rmse:.2f}\")\n",
        "        history.append((epoch, train_loss, val_loss))\n",
        "\n",
        "        # Порог допустимого ухудшения IoU или RMSE\n",
        "        rmse_delta = 0.33\n",
        "\n",
        "        # Условие: модель сохраняется, если val_loss улучшилась, и другие метрики не ухудшились значительно\n",
        "        if val_loss < best_val_loss and (mean_rmse <= best_mean_rmse + rmse_delta):\n",
        "            best_val_loss = val_loss\n",
        "            best_mean_rmse = mean_rmse\n",
        "            torch.save(model.state_dict(), save_path)\n",
        "            print(f\"📌 New best model saved (val loss = {best_val_loss:.4f}, IoU = {mean_iou:.3f}, RMSE = {best_mean_rmse:.2f}) → {save_path}\")\n",
        "\n",
        "        # === Сохраняем чекпоинт каждой эпохи ===\n",
        "        if checkpoint_dir:\n",
        "            ckpt_path = os.path.join(checkpoint_dir, f\"epoch_{epoch:02d}.pth\")\n",
        "            torch.save(model.state_dict(), ckpt_path)\n",
        "\n",
        "    print(f\"✅ Обучение завершено. Лучшая вал. потеря: {best_val_loss:.4f}\")"
      ],
      "metadata": {
        "id": "OznZYPCJa_YY"
      },
      "execution_count": 75,
      "outputs": []
    },
    {
      "cell_type": "code",
      "source": [
        "train_dataset = LaserVisionDataset(\n",
        "    'dataset/images',\n",
        "    'dataset/masks',\n",
        "    'dataset/labels.csv',\n",
        "    split=\"train\",\n",
        "    transform=None\n",
        ")\n",
        "\n",
        "val_dataset = LaserVisionDataset(\n",
        "    'dataset/images',\n",
        "    'dataset/masks',\n",
        "    'dataset/labels.csv',\n",
        "    split=\"val\",\n",
        "    transform=None\n",
        ")\n",
        "\n",
        "train_loader = DataLoader(train_dataset, batch_size=8, shuffle=True, num_workers=2)\n",
        "val_loader = DataLoader(val_dataset, batch_size=8, shuffle=False, num_workers=2)"
      ],
      "metadata": {
        "id": "pmV50fWyZ8rW"
      },
      "execution_count": 7,
      "outputs": []
    },
    {
      "cell_type": "code",
      "source": [
        "device = torch.device(\"cuda\" if torch.cuda.is_available() else \"cpu\")\n",
        "\n",
        "model = LaserVisionNet()\n",
        "loss_fn = CombinedLoss()"
      ],
      "metadata": {
        "id": "Cd0UQxKwfjGD"
      },
      "execution_count": 65,
      "outputs": []
    },
    {
      "cell_type": "code",
      "source": [
        "optimizer = torch.optim.Adam(model.parameters(), lr=1e-8, weight_decay=1e-5)\n",
        "scheduler = torch.optim.lr_scheduler.CosineAnnealingLR(optimizer, T_max=50)"
      ],
      "metadata": {
        "id": "6DP7Wp7i3UcM"
      },
      "execution_count": 78,
      "outputs": []
    },
    {
      "cell_type": "code",
      "source": [
        "model.load_state_dict(torch.load('./drive/MyDrive/laser_model_mk1_last.pth'))"
      ],
      "metadata": {
        "colab": {
          "base_uri": "https://localhost:8080/"
        },
        "id": "r_dMcQnYYm9n",
        "outputId": "9733fd36-3c42-4511-d4bf-d51461df7bb0"
      },
      "execution_count": 79,
      "outputs": [
        {
          "output_type": "execute_result",
          "data": {
            "text/plain": [
              "<All keys matched successfully>"
            ]
          },
          "metadata": {},
          "execution_count": 79
        }
      ]
    },
    {
      "cell_type": "code",
      "source": [
        "train_with_logging(\n",
        "    model=model,\n",
        "    train_loader=train_loader,\n",
        "    val_loader=val_loader,\n",
        "    loss_fn=loss_fn,\n",
        "    optimizer=optimizer,\n",
        "    device=device,\n",
        "    scheduler=scheduler,\n",
        "    epochs=500,\n",
        "    save_path=\"./drive/MyDrive/laser_model_mk1.5.pth\"\n",
        ")\n",
        "torch.save(model.state_dict(), './drive/MyDrive/laser_model_mk1.5_last.pth')"
      ],
      "metadata": {
        "colab": {
          "base_uri": "https://localhost:8080/"
        },
        "id": "Oo6E9F2_Iucw",
        "outputId": "4fdcb1ef-1eae-41b8-fc5d-a66db0370921"
      },
      "execution_count": null,
      "outputs": [
        {
          "output_type": "stream",
          "name": "stderr",
          "text": [
            "[Epoch 1] Training: 100%|██████████| 26/26 [00:04<00:00,  6.45it/s]\n",
            "[Epoch 1] Validation: 100%|██████████| 7/7 [00:00<00:00, 12.08it/s]\n",
            "[Epoch 1] Validation: 100%|██████████| 7/7 [00:00<00:00,  9.28it/s]\n"
          ]
        },
        {
          "output_type": "stream",
          "name": "stdout",
          "text": [
            "Epoch 1: Train Loss = 1.7833, Val Loss = 27.7532 | IoU = 0.932, RMSE = 0.89\n",
            "📌 New best model saved (val loss = 27.7532, IoU = 0.932, RMSE = 0.89) → ./drive/MyDrive/laser_model_mk1.5.pth\n"
          ]
        },
        {
          "output_type": "stream",
          "name": "stderr",
          "text": [
            "[Epoch 2] Training: 100%|██████████| 26/26 [00:03<00:00,  7.11it/s]\n",
            "[Epoch 2] Validation: 100%|██████████| 7/7 [00:00<00:00, 12.51it/s]\n",
            "[Epoch 2] Validation: 100%|██████████| 7/7 [00:00<00:00,  8.50it/s]\n"
          ]
        },
        {
          "output_type": "stream",
          "name": "stdout",
          "text": [
            "Epoch 2: Train Loss = 1.9862, Val Loss = 28.2805 | IoU = 0.931, RMSE = 0.93\n"
          ]
        },
        {
          "output_type": "stream",
          "name": "stderr",
          "text": [
            "[Epoch 3] Training: 100%|██████████| 26/26 [00:03<00:00,  7.02it/s]\n",
            "[Epoch 3] Validation: 100%|██████████| 7/7 [00:00<00:00,  9.25it/s]\n",
            "[Epoch 3] Validation: 100%|██████████| 7/7 [00:01<00:00,  6.47it/s]\n"
          ]
        },
        {
          "output_type": "stream",
          "name": "stdout",
          "text": [
            "Epoch 3: Train Loss = 2.7457, Val Loss = 33.4215 | IoU = 0.931, RMSE = 1.17\n"
          ]
        },
        {
          "output_type": "stream",
          "name": "stderr",
          "text": [
            "[Epoch 4] Training: 100%|██████████| 26/26 [00:04<00:00,  6.41it/s]\n",
            "[Epoch 4] Validation: 100%|██████████| 7/7 [00:00<00:00, 12.34it/s]\n",
            "[Epoch 4] Validation: 100%|██████████| 7/7 [00:00<00:00,  8.34it/s]\n"
          ]
        },
        {
          "output_type": "stream",
          "name": "stdout",
          "text": [
            "Epoch 4: Train Loss = 2.3236, Val Loss = 31.7591 | IoU = 0.931, RMSE = 1.10\n"
          ]
        },
        {
          "output_type": "stream",
          "name": "stderr",
          "text": [
            "[Epoch 5] Training: 100%|██████████| 26/26 [00:03<00:00,  7.02it/s]\n",
            "[Epoch 5] Validation: 100%|██████████| 7/7 [00:00<00:00, 12.42it/s]\n",
            "[Epoch 5] Validation: 100%|██████████| 7/7 [00:00<00:00,  8.88it/s]\n"
          ]
        },
        {
          "output_type": "stream",
          "name": "stdout",
          "text": [
            "Epoch 5: Train Loss = 17.8555, Val Loss = 35.1813 | IoU = 0.932, RMSE = 1.24\n"
          ]
        },
        {
          "output_type": "stream",
          "name": "stderr",
          "text": [
            "[Epoch 6] Training: 100%|██████████| 26/26 [00:03<00:00,  6.58it/s]\n",
            "[Epoch 6] Validation: 100%|██████████| 7/7 [00:00<00:00, 12.42it/s]\n",
            "[Epoch 6] Validation: 100%|██████████| 7/7 [00:00<00:00,  8.68it/s]\n"
          ]
        },
        {
          "output_type": "stream",
          "name": "stdout",
          "text": [
            "Epoch 6: Train Loss = 1.5924, Val Loss = 25.8200 | IoU = 0.932, RMSE = 0.78\n",
            "📌 New best model saved (val loss = 25.8200, IoU = 0.932, RMSE = 0.78) → ./drive/MyDrive/laser_model_mk1.5.pth\n"
          ]
        },
        {
          "output_type": "stream",
          "name": "stderr",
          "text": [
            "[Epoch 7] Training: 100%|██████████| 26/26 [00:03<00:00,  6.99it/s]\n",
            "[Epoch 7] Validation: 100%|██████████| 7/7 [00:00<00:00, 12.40it/s]\n",
            "[Epoch 7] Validation: 100%|██████████| 7/7 [00:00<00:00,  8.69it/s]\n"
          ]
        },
        {
          "output_type": "stream",
          "name": "stdout",
          "text": [
            "Epoch 7: Train Loss = 2.7592, Val Loss = 29.7695 | IoU = 0.932, RMSE = 1.02\n"
          ]
        },
        {
          "output_type": "stream",
          "name": "stderr",
          "text": [
            "[Epoch 8] Training: 100%|██████████| 26/26 [00:03<00:00,  7.08it/s]\n",
            "[Epoch 8] Validation: 100%|██████████| 7/7 [00:00<00:00,  9.56it/s]\n",
            "[Epoch 8] Validation: 100%|██████████| 7/7 [00:01<00:00,  6.16it/s]\n"
          ]
        },
        {
          "output_type": "stream",
          "name": "stdout",
          "text": [
            "Epoch 8: Train Loss = 1.4013, Val Loss = 25.9259 | IoU = 0.933, RMSE = 0.79\n"
          ]
        },
        {
          "output_type": "stream",
          "name": "stderr",
          "text": [
            "[Epoch 9] Training: 100%|██████████| 26/26 [00:04<00:00,  6.26it/s]\n",
            "[Epoch 9] Validation: 100%|██████████| 7/7 [00:00<00:00, 12.11it/s]\n",
            "[Epoch 9] Validation: 100%|██████████| 7/7 [00:00<00:00,  8.41it/s]\n"
          ]
        },
        {
          "output_type": "stream",
          "name": "stdout",
          "text": [
            "Epoch 9: Train Loss = 2.2615, Val Loss = 29.0343 | IoU = 0.932, RMSE = 0.99\n"
          ]
        },
        {
          "output_type": "stream",
          "name": "stderr",
          "text": [
            "[Epoch 10] Training: 100%|██████████| 26/26 [00:03<00:00,  7.03it/s]\n",
            "[Epoch 10] Validation: 100%|██████████| 7/7 [00:00<00:00, 12.47it/s]\n",
            "[Epoch 10] Validation: 100%|██████████| 7/7 [00:00<00:00,  9.20it/s]\n"
          ]
        },
        {
          "output_type": "stream",
          "name": "stdout",
          "text": [
            "Epoch 10: Train Loss = 2.7250, Val Loss = 25.8780 | IoU = 0.932, RMSE = 0.81\n"
          ]
        },
        {
          "output_type": "stream",
          "name": "stderr",
          "text": [
            "[Epoch 11] Training: 100%|██████████| 26/26 [00:03<00:00,  6.67it/s]\n",
            "[Epoch 11] Validation: 100%|██████████| 7/7 [00:00<00:00, 12.57it/s]\n",
            "[Epoch 11] Validation: 100%|██████████| 7/7 [00:00<00:00,  8.32it/s]\n"
          ]
        },
        {
          "output_type": "stream",
          "name": "stdout",
          "text": [
            "Epoch 11: Train Loss = 3.3154, Val Loss = 31.3100 | IoU = 0.932, RMSE = 1.08\n"
          ]
        },
        {
          "output_type": "stream",
          "name": "stderr",
          "text": [
            "[Epoch 12] Training: 100%|██████████| 26/26 [00:03<00:00,  7.18it/s]\n",
            "[Epoch 12] Validation: 100%|██████████| 7/7 [00:00<00:00, 12.25it/s]\n",
            "[Epoch 12] Validation: 100%|██████████| 7/7 [00:00<00:00,  9.27it/s]\n"
          ]
        },
        {
          "output_type": "stream",
          "name": "stdout",
          "text": [
            "Epoch 12: Train Loss = 2.1023, Val Loss = 29.2106 | IoU = 0.932, RMSE = 0.99\n"
          ]
        },
        {
          "output_type": "stream",
          "name": "stderr",
          "text": [
            "[Epoch 13] Training: 100%|██████████| 26/26 [00:03<00:00,  7.10it/s]\n",
            "[Epoch 13] Validation: 100%|██████████| 7/7 [00:00<00:00,  8.77it/s]\n",
            "[Epoch 13] Validation: 100%|██████████| 7/7 [00:01<00:00,  6.40it/s]\n"
          ]
        },
        {
          "output_type": "stream",
          "name": "stdout",
          "text": [
            "Epoch 13: Train Loss = 2.4368, Val Loss = 29.1231 | IoU = 0.933, RMSE = 0.97\n"
          ]
        },
        {
          "output_type": "stream",
          "name": "stderr",
          "text": [
            "[Epoch 14] Training: 100%|██████████| 26/26 [00:03<00:00,  6.87it/s]\n",
            "[Epoch 14] Validation: 100%|██████████| 7/7 [00:00<00:00, 12.54it/s]\n",
            "[Epoch 14] Validation: 100%|██████████| 7/7 [00:00<00:00,  8.32it/s]\n"
          ]
        },
        {
          "output_type": "stream",
          "name": "stdout",
          "text": [
            "Epoch 14: Train Loss = 3.0437, Val Loss = 28.5861 | IoU = 0.930, RMSE = 0.95\n"
          ]
        },
        {
          "output_type": "stream",
          "name": "stderr",
          "text": [
            "[Epoch 15] Training: 100%|██████████| 26/26 [00:03<00:00,  7.21it/s]\n",
            "[Epoch 15] Validation: 100%|██████████| 7/7 [00:00<00:00, 12.28it/s]\n",
            "[Epoch 15] Validation: 100%|██████████| 7/7 [00:00<00:00,  8.94it/s]\n"
          ]
        },
        {
          "output_type": "stream",
          "name": "stdout",
          "text": [
            "Epoch 15: Train Loss = 3.9547, Val Loss = 30.8340 | IoU = 0.932, RMSE = 1.06\n"
          ]
        },
        {
          "output_type": "stream",
          "name": "stderr",
          "text": [
            "[Epoch 16] Training: 100%|██████████| 26/26 [00:03<00:00,  6.76it/s]\n",
            "[Epoch 16] Validation: 100%|██████████| 7/7 [00:00<00:00,  9.51it/s]\n",
            "[Epoch 16] Validation: 100%|██████████| 7/7 [00:00<00:00,  8.96it/s]\n"
          ]
        },
        {
          "output_type": "stream",
          "name": "stdout",
          "text": [
            "Epoch 16: Train Loss = 2.0523, Val Loss = 29.1341 | IoU = 0.931, RMSE = 0.98\n"
          ]
        },
        {
          "output_type": "stream",
          "name": "stderr",
          "text": [
            "[Epoch 17] Training: 100%|██████████| 26/26 [00:03<00:00,  7.18it/s]\n",
            "[Epoch 17] Validation: 100%|██████████| 7/7 [00:00<00:00, 12.29it/s]\n",
            "[Epoch 17] Validation: 100%|██████████| 7/7 [00:00<00:00,  9.09it/s]\n"
          ]
        },
        {
          "output_type": "stream",
          "name": "stdout",
          "text": [
            "Epoch 17: Train Loss = 1.7422, Val Loss = 29.0568 | IoU = 0.930, RMSE = 0.98\n"
          ]
        },
        {
          "output_type": "stream",
          "name": "stderr",
          "text": [
            "[Epoch 18] Training: 100%|██████████| 26/26 [00:03<00:00,  7.13it/s]\n",
            "[Epoch 18] Validation: 100%|██████████| 7/7 [00:00<00:00, 11.99it/s]\n",
            "[Epoch 18] Validation: 100%|██████████| 7/7 [00:01<00:00,  6.18it/s]\n"
          ]
        },
        {
          "output_type": "stream",
          "name": "stdout",
          "text": [
            "Epoch 18: Train Loss = 1.9295, Val Loss = 28.9992 | IoU = 0.931, RMSE = 0.97\n"
          ]
        },
        {
          "output_type": "stream",
          "name": "stderr",
          "text": [
            "[Epoch 19] Training: 100%|██████████| 26/26 [00:03<00:00,  6.61it/s]\n",
            "[Epoch 19] Validation: 100%|██████████| 7/7 [00:00<00:00, 11.85it/s]\n",
            "[Epoch 19] Validation: 100%|██████████| 7/7 [00:00<00:00,  8.64it/s]\n"
          ]
        },
        {
          "output_type": "stream",
          "name": "stdout",
          "text": [
            "Epoch 19: Train Loss = 2.0371, Val Loss = 31.7572 | IoU = 0.931, RMSE = 1.09\n"
          ]
        },
        {
          "output_type": "stream",
          "name": "stderr",
          "text": [
            "[Epoch 20] Training: 100%|██████████| 26/26 [00:03<00:00,  7.17it/s]\n",
            "[Epoch 20] Validation: 100%|██████████| 7/7 [00:00<00:00, 12.17it/s]\n",
            "[Epoch 20] Validation: 100%|██████████| 7/7 [00:00<00:00,  9.22it/s]\n"
          ]
        },
        {
          "output_type": "stream",
          "name": "stdout",
          "text": [
            "Epoch 20: Train Loss = 4.1744, Val Loss = 37.6113 | IoU = 0.931, RMSE = 1.31\n"
          ]
        },
        {
          "output_type": "stream",
          "name": "stderr",
          "text": [
            "[Epoch 21] Training: 100%|██████████| 26/26 [00:03<00:00,  6.97it/s]\n",
            "[Epoch 21] Validation: 100%|██████████| 7/7 [00:00<00:00,  9.47it/s]\n",
            "[Epoch 21] Validation: 100%|██████████| 7/7 [00:01<00:00,  6.30it/s]\n"
          ]
        },
        {
          "output_type": "stream",
          "name": "stdout",
          "text": [
            "Epoch 21: Train Loss = 2.6117, Val Loss = 31.4445 | IoU = 0.931, RMSE = 1.09\n"
          ]
        },
        {
          "output_type": "stream",
          "name": "stderr",
          "text": [
            "[Epoch 22] Training: 100%|██████████| 26/26 [00:03<00:00,  7.12it/s]\n",
            "[Epoch 22] Validation: 100%|██████████| 7/7 [00:00<00:00, 12.28it/s]\n",
            "[Epoch 22] Validation: 100%|██████████| 7/7 [00:00<00:00,  9.12it/s]\n"
          ]
        },
        {
          "output_type": "stream",
          "name": "stdout",
          "text": [
            "Epoch 22: Train Loss = 1.8665, Val Loss = 28.1364 | IoU = 0.932, RMSE = 0.94\n"
          ]
        },
        {
          "output_type": "stream",
          "name": "stderr",
          "text": [
            "[Epoch 23] Training: 100%|██████████| 26/26 [00:03<00:00,  7.16it/s]\n",
            "[Epoch 23] Validation: 100%|██████████| 7/7 [00:00<00:00, 11.98it/s]\n",
            "[Epoch 23] Validation: 100%|██████████| 7/7 [00:00<00:00,  8.12it/s]\n"
          ]
        },
        {
          "output_type": "stream",
          "name": "stdout",
          "text": [
            "Epoch 23: Train Loss = 1.8179, Val Loss = 25.9671 | IoU = 0.933, RMSE = 0.79\n"
          ]
        },
        {
          "output_type": "stream",
          "name": "stderr",
          "text": [
            "[Epoch 24] Training: 100%|██████████| 26/26 [00:03<00:00,  6.54it/s]\n",
            "[Epoch 24] Validation: 100%|██████████| 7/7 [00:00<00:00, 12.30it/s]\n",
            "[Epoch 24] Validation: 100%|██████████| 7/7 [00:00<00:00,  8.01it/s]\n"
          ]
        },
        {
          "output_type": "stream",
          "name": "stdout",
          "text": [
            "Epoch 24: Train Loss = 2.5975, Val Loss = 36.7551 | IoU = 0.929, RMSE = 1.28\n"
          ]
        },
        {
          "output_type": "stream",
          "name": "stderr",
          "text": [
            "[Epoch 25] Training: 100%|██████████| 26/26 [00:03<00:00,  7.16it/s]\n",
            "[Epoch 25] Validation: 100%|██████████| 7/7 [00:00<00:00, 12.21it/s]\n",
            "[Epoch 25] Validation: 100%|██████████| 7/7 [00:00<00:00,  8.87it/s]\n"
          ]
        },
        {
          "output_type": "stream",
          "name": "stdout",
          "text": [
            "Epoch 25: Train Loss = 2.0812, Val Loss = 29.7528 | IoU = 0.932, RMSE = 1.01\n"
          ]
        },
        {
          "output_type": "stream",
          "name": "stderr",
          "text": [
            "[Epoch 26] Training: 100%|██████████| 26/26 [00:03<00:00,  7.05it/s]\n",
            "[Epoch 26] Validation: 100%|██████████| 7/7 [00:00<00:00,  9.34it/s]\n",
            "[Epoch 26] Validation: 100%|██████████| 7/7 [00:01<00:00,  6.03it/s]\n"
          ]
        },
        {
          "output_type": "stream",
          "name": "stdout",
          "text": [
            "Epoch 26: Train Loss = 2.9377, Val Loss = 29.0840 | IoU = 0.931, RMSE = 0.97\n"
          ]
        },
        {
          "output_type": "stream",
          "name": "stderr",
          "text": [
            "[Epoch 27] Training: 100%|██████████| 26/26 [00:03<00:00,  6.88it/s]\n",
            "[Epoch 27] Validation: 100%|██████████| 7/7 [00:00<00:00, 12.67it/s]\n",
            "[Epoch 27] Validation: 100%|██████████| 7/7 [00:00<00:00,  8.62it/s]\n"
          ]
        },
        {
          "output_type": "stream",
          "name": "stdout",
          "text": [
            "Epoch 27: Train Loss = 2.8312, Val Loss = 27.6024 | IoU = 0.929, RMSE = 0.89\n"
          ]
        },
        {
          "output_type": "stream",
          "name": "stderr",
          "text": [
            "[Epoch 28] Training: 100%|██████████| 26/26 [00:03<00:00,  7.17it/s]\n",
            "[Epoch 28] Validation: 100%|██████████| 7/7 [00:00<00:00, 12.08it/s]\n",
            "[Epoch 28] Validation: 100%|██████████| 7/7 [00:00<00:00,  8.93it/s]\n"
          ]
        },
        {
          "output_type": "stream",
          "name": "stdout",
          "text": [
            "Epoch 28: Train Loss = 3.4239, Val Loss = 34.5426 | IoU = 0.931, RMSE = 1.20\n"
          ]
        },
        {
          "output_type": "stream",
          "name": "stderr",
          "text": [
            "[Epoch 29] Training: 100%|██████████| 26/26 [00:03<00:00,  6.69it/s]\n",
            "[Epoch 29] Validation: 100%|██████████| 7/7 [00:00<00:00, 12.25it/s]\n",
            "[Epoch 29] Validation: 100%|██████████| 7/7 [00:00<00:00,  8.97it/s]\n"
          ]
        },
        {
          "output_type": "stream",
          "name": "stdout",
          "text": [
            "Epoch 29: Train Loss = 1.8197, Val Loss = 27.9232 | IoU = 0.933, RMSE = 0.92\n"
          ]
        },
        {
          "output_type": "stream",
          "name": "stderr",
          "text": [
            "[Epoch 30] Training: 100%|██████████| 26/26 [00:03<00:00,  7.15it/s]\n",
            "[Epoch 30] Validation: 100%|██████████| 7/7 [00:00<00:00, 12.93it/s]\n",
            "[Epoch 30] Validation: 100%|██████████| 7/7 [00:00<00:00,  8.22it/s]\n"
          ]
        },
        {
          "output_type": "stream",
          "name": "stdout",
          "text": [
            "Epoch 30: Train Loss = 1.7244, Val Loss = 27.4114 | IoU = 0.931, RMSE = 0.89\n"
          ]
        },
        {
          "output_type": "stream",
          "name": "stderr",
          "text": [
            "[Epoch 31] Training: 100%|██████████| 26/26 [00:03<00:00,  7.07it/s]\n",
            "[Epoch 31] Validation: 100%|██████████| 7/7 [00:00<00:00,  9.75it/s]\n",
            "[Epoch 31] Validation: 100%|██████████| 7/7 [00:01<00:00,  5.89it/s]\n"
          ]
        },
        {
          "output_type": "stream",
          "name": "stdout",
          "text": [
            "Epoch 31: Train Loss = 4.3163, Val Loss = 31.6619 | IoU = 0.933, RMSE = 1.10\n"
          ]
        },
        {
          "output_type": "stream",
          "name": "stderr",
          "text": [
            "[Epoch 32] Training: 100%|██████████| 26/26 [00:03<00:00,  6.76it/s]\n",
            "[Epoch 32] Validation: 100%|██████████| 7/7 [00:00<00:00, 12.10it/s]\n",
            "[Epoch 32] Validation: 100%|██████████| 7/7 [00:00<00:00,  8.87it/s]\n"
          ]
        },
        {
          "output_type": "stream",
          "name": "stdout",
          "text": [
            "Epoch 32: Train Loss = 4.3905, Val Loss = 32.6553 | IoU = 0.930, RMSE = 1.14\n"
          ]
        },
        {
          "output_type": "stream",
          "name": "stderr",
          "text": [
            "[Epoch 33] Training: 100%|██████████| 26/26 [00:03<00:00,  7.17it/s]\n",
            "[Epoch 33] Validation: 100%|██████████| 7/7 [00:00<00:00, 12.32it/s]\n",
            "[Epoch 33] Validation: 100%|██████████| 7/7 [00:00<00:00,  8.88it/s]\n"
          ]
        },
        {
          "output_type": "stream",
          "name": "stdout",
          "text": [
            "Epoch 33: Train Loss = 3.0140, Val Loss = 29.1691 | IoU = 0.932, RMSE = 0.99\n"
          ]
        },
        {
          "output_type": "stream",
          "name": "stderr",
          "text": [
            "[Epoch 34] Training: 100%|██████████| 26/26 [00:03<00:00,  6.87it/s]\n",
            "[Epoch 34] Validation: 100%|██████████| 7/7 [00:00<00:00,  9.49it/s]\n",
            "[Epoch 34] Validation: 100%|██████████| 7/7 [00:00<00:00,  8.43it/s]\n"
          ]
        },
        {
          "output_type": "stream",
          "name": "stdout",
          "text": [
            "Epoch 34: Train Loss = 2.0527, Val Loss = 27.1911 | IoU = 0.931, RMSE = 0.87\n"
          ]
        },
        {
          "output_type": "stream",
          "name": "stderr",
          "text": [
            "[Epoch 35] Training: 100%|██████████| 26/26 [00:03<00:00,  7.21it/s]\n",
            "[Epoch 35] Validation: 100%|██████████| 7/7 [00:00<00:00, 12.43it/s]\n",
            "[Epoch 35] Validation: 100%|██████████| 7/7 [00:00<00:00,  8.97it/s]\n"
          ]
        },
        {
          "output_type": "stream",
          "name": "stdout",
          "text": [
            "Epoch 35: Train Loss = 1.5144, Val Loss = 31.7164 | IoU = 0.932, RMSE = 1.10\n"
          ]
        },
        {
          "output_type": "stream",
          "name": "stderr",
          "text": [
            "[Epoch 36] Training: 100%|██████████| 26/26 [00:03<00:00,  7.08it/s]\n",
            "[Epoch 36] Validation: 100%|██████████| 7/7 [00:00<00:00, 11.79it/s]\n",
            "[Epoch 36] Validation: 100%|██████████| 7/7 [00:01<00:00,  6.34it/s]\n"
          ]
        },
        {
          "output_type": "stream",
          "name": "stdout",
          "text": [
            "Epoch 36: Train Loss = 2.3446, Val Loss = 28.1690 | IoU = 0.932, RMSE = 0.93\n"
          ]
        },
        {
          "output_type": "stream",
          "name": "stderr",
          "text": [
            "[Epoch 37] Training: 100%|██████████| 26/26 [00:03<00:00,  6.67it/s]\n",
            "[Epoch 37] Validation: 100%|██████████| 7/7 [00:00<00:00, 12.08it/s]\n",
            "[Epoch 37] Validation: 100%|██████████| 7/7 [00:00<00:00,  8.38it/s]\n"
          ]
        },
        {
          "output_type": "stream",
          "name": "stdout",
          "text": [
            "Epoch 37: Train Loss = 7.6720, Val Loss = 38.2244 | IoU = 0.931, RMSE = 1.33\n"
          ]
        },
        {
          "output_type": "stream",
          "name": "stderr",
          "text": [
            "[Epoch 38] Training: 100%|██████████| 26/26 [00:03<00:00,  7.14it/s]\n",
            "[Epoch 38] Validation: 100%|██████████| 7/7 [00:00<00:00, 12.27it/s]\n",
            "[Epoch 38] Validation: 100%|██████████| 7/7 [00:00<00:00,  8.91it/s]\n"
          ]
        },
        {
          "output_type": "stream",
          "name": "stdout",
          "text": [
            "Epoch 38: Train Loss = 1.6978, Val Loss = 29.6132 | IoU = 0.931, RMSE = 1.01\n"
          ]
        },
        {
          "output_type": "stream",
          "name": "stderr",
          "text": [
            "[Epoch 39] Training: 100%|██████████| 26/26 [00:03<00:00,  6.89it/s]\n",
            "[Epoch 39] Validation: 100%|██████████| 7/7 [00:00<00:00,  9.02it/s]\n",
            "[Epoch 39] Validation: 100%|██████████| 7/7 [00:01<00:00,  6.89it/s]\n"
          ]
        },
        {
          "output_type": "stream",
          "name": "stdout",
          "text": [
            "Epoch 39: Train Loss = 1.7230, Val Loss = 30.8006 | IoU = 0.931, RMSE = 1.06\n"
          ]
        },
        {
          "output_type": "stream",
          "name": "stderr",
          "text": [
            "[Epoch 40] Training: 100%|██████████| 26/26 [00:03<00:00,  7.17it/s]\n",
            "[Epoch 40] Validation: 100%|██████████| 7/7 [00:00<00:00, 12.28it/s]\n",
            "[Epoch 40] Validation: 100%|██████████| 7/7 [00:00<00:00,  8.60it/s]\n"
          ]
        },
        {
          "output_type": "stream",
          "name": "stdout",
          "text": [
            "Epoch 40: Train Loss = 6.9486, Val Loss = 36.1336 | IoU = 0.931, RMSE = 1.27\n"
          ]
        },
        {
          "output_type": "stream",
          "name": "stderr",
          "text": [
            "[Epoch 41] Training: 100%|██████████| 26/26 [00:03<00:00,  7.09it/s]\n",
            "[Epoch 41] Validation: 100%|██████████| 7/7 [00:00<00:00, 12.67it/s]\n",
            "[Epoch 41] Validation: 100%|██████████| 7/7 [00:00<00:00,  7.54it/s]\n"
          ]
        },
        {
          "output_type": "stream",
          "name": "stdout",
          "text": [
            "Epoch 41: Train Loss = 6.5824, Val Loss = 27.7489 | IoU = 0.932, RMSE = 0.93\n"
          ]
        },
        {
          "output_type": "stream",
          "name": "stderr",
          "text": [
            "[Epoch 42] Training: 100%|██████████| 26/26 [00:03<00:00,  6.57it/s]\n",
            "[Epoch 42] Validation: 100%|██████████| 7/7 [00:00<00:00, 12.03it/s]\n",
            "[Epoch 42] Validation: 100%|██████████| 7/7 [00:00<00:00,  8.62it/s]\n"
          ]
        },
        {
          "output_type": "stream",
          "name": "stdout",
          "text": [
            "Epoch 42: Train Loss = 1.9396, Val Loss = 27.0773 | IoU = 0.932, RMSE = 0.86\n"
          ]
        },
        {
          "output_type": "stream",
          "name": "stderr",
          "text": [
            "[Epoch 43] Training: 100%|██████████| 26/26 [00:03<00:00,  7.16it/s]\n",
            "[Epoch 43] Validation: 100%|██████████| 7/7 [00:00<00:00, 12.53it/s]\n",
            "[Epoch 43] Validation: 100%|██████████| 7/7 [00:00<00:00,  8.37it/s]\n"
          ]
        },
        {
          "output_type": "stream",
          "name": "stdout",
          "text": [
            "Epoch 43: Train Loss = 3.4787, Val Loss = 35.7860 | IoU = 0.931, RMSE = 1.25\n"
          ]
        },
        {
          "output_type": "stream",
          "name": "stderr",
          "text": [
            "[Epoch 44] Training: 100%|██████████| 26/26 [00:03<00:00,  6.99it/s]\n",
            "[Epoch 44] Validation: 100%|██████████| 7/7 [00:00<00:00,  9.38it/s]\n",
            "[Epoch 44] Validation: 100%|██████████| 7/7 [00:01<00:00,  5.98it/s]\n"
          ]
        },
        {
          "output_type": "stream",
          "name": "stdout",
          "text": [
            "Epoch 44: Train Loss = 3.4197, Val Loss = 28.1651 | IoU = 0.932, RMSE = 0.93\n"
          ]
        },
        {
          "output_type": "stream",
          "name": "stderr",
          "text": [
            "[Epoch 45] Training: 100%|██████████| 26/26 [00:03<00:00,  6.96it/s]\n",
            "[Epoch 45] Validation: 100%|██████████| 7/7 [00:00<00:00, 12.34it/s]\n",
            "[Epoch 45] Validation: 100%|██████████| 7/7 [00:00<00:00,  9.05it/s]\n"
          ]
        },
        {
          "output_type": "stream",
          "name": "stdout",
          "text": [
            "Epoch 45: Train Loss = 3.4378, Val Loss = 33.2987 | IoU = 0.931, RMSE = 1.16\n"
          ]
        },
        {
          "output_type": "stream",
          "name": "stderr",
          "text": [
            "[Epoch 46] Training: 100%|██████████| 26/26 [00:03<00:00,  7.14it/s]\n",
            "[Epoch 46] Validation: 100%|██████████| 7/7 [00:00<00:00, 12.36it/s]\n",
            "[Epoch 46] Validation: 100%|██████████| 7/7 [00:00<00:00,  8.95it/s]\n"
          ]
        },
        {
          "output_type": "stream",
          "name": "stdout",
          "text": [
            "Epoch 46: Train Loss = 3.1102, Val Loss = 28.2650 | IoU = 0.933, RMSE = 0.95\n"
          ]
        },
        {
          "output_type": "stream",
          "name": "stderr",
          "text": [
            "[Epoch 47] Training: 100%|██████████| 26/26 [00:03<00:00,  6.82it/s]\n",
            "[Epoch 47] Validation: 100%|██████████| 7/7 [00:00<00:00, 12.45it/s]\n",
            "[Epoch 47] Validation: 100%|██████████| 7/7 [00:00<00:00,  8.98it/s]\n"
          ]
        },
        {
          "output_type": "stream",
          "name": "stdout",
          "text": [
            "Epoch 47: Train Loss = 2.5315, Val Loss = 30.0809 | IoU = 0.932, RMSE = 1.05\n"
          ]
        },
        {
          "output_type": "stream",
          "name": "stderr",
          "text": [
            "[Epoch 48] Training: 100%|██████████| 26/26 [00:03<00:00,  7.11it/s]\n",
            "[Epoch 48] Validation: 100%|██████████| 7/7 [00:00<00:00, 12.50it/s]\n",
            "[Epoch 48] Validation: 100%|██████████| 7/7 [00:00<00:00,  8.54it/s]\n"
          ]
        },
        {
          "output_type": "stream",
          "name": "stdout",
          "text": [
            "Epoch 48: Train Loss = 1.2997, Val Loss = 27.0536 | IoU = 0.929, RMSE = 0.86\n"
          ]
        },
        {
          "output_type": "stream",
          "name": "stderr",
          "text": [
            "[Epoch 49] Training: 100%|██████████| 26/26 [00:03<00:00,  7.14it/s]\n",
            "[Epoch 49] Validation: 100%|██████████| 7/7 [00:00<00:00,  8.97it/s]\n",
            "[Epoch 49] Validation: 100%|██████████| 7/7 [00:01<00:00,  6.60it/s]\n"
          ]
        },
        {
          "output_type": "stream",
          "name": "stdout",
          "text": [
            "Epoch 49: Train Loss = 2.0183, Val Loss = 28.9585 | IoU = 0.932, RMSE = 0.96\n"
          ]
        },
        {
          "output_type": "stream",
          "name": "stderr",
          "text": [
            "[Epoch 50] Training: 100%|██████████| 26/26 [00:03<00:00,  6.84it/s]\n",
            "[Epoch 50] Validation: 100%|██████████| 7/7 [00:00<00:00, 12.18it/s]\n",
            "[Epoch 50] Validation: 100%|██████████| 7/7 [00:00<00:00,  8.72it/s]\n"
          ]
        },
        {
          "output_type": "stream",
          "name": "stdout",
          "text": [
            "Epoch 50: Train Loss = 2.4590, Val Loss = 32.5176 | IoU = 0.931, RMSE = 1.13\n"
          ]
        },
        {
          "output_type": "stream",
          "name": "stderr",
          "text": [
            "[Epoch 51] Training: 100%|██████████| 26/26 [00:03<00:00,  7.10it/s]\n",
            "[Epoch 51] Validation: 100%|██████████| 7/7 [00:00<00:00, 12.26it/s]\n",
            "[Epoch 51] Validation: 100%|██████████| 7/7 [00:00<00:00,  8.84it/s]\n"
          ]
        },
        {
          "output_type": "stream",
          "name": "stdout",
          "text": [
            "Epoch 51: Train Loss = 1.7662, Val Loss = 26.9622 | IoU = 0.933, RMSE = 0.86\n"
          ]
        },
        {
          "output_type": "stream",
          "name": "stderr",
          "text": [
            "[Epoch 52] Training: 100%|██████████| 26/26 [00:03<00:00,  6.85it/s]\n",
            "[Epoch 52] Validation: 100%|██████████| 7/7 [00:00<00:00,  9.73it/s]\n",
            "[Epoch 52] Validation: 100%|██████████| 7/7 [00:00<00:00,  7.91it/s]\n"
          ]
        },
        {
          "output_type": "stream",
          "name": "stdout",
          "text": [
            "Epoch 52: Train Loss = 1.8325, Val Loss = 31.3742 | IoU = 0.931, RMSE = 1.08\n"
          ]
        },
        {
          "output_type": "stream",
          "name": "stderr",
          "text": [
            "[Epoch 53] Training: 100%|██████████| 26/26 [00:03<00:00,  7.10it/s]\n",
            "[Epoch 53] Validation: 100%|██████████| 7/7 [00:00<00:00, 12.59it/s]\n",
            "[Epoch 53] Validation: 100%|██████████| 7/7 [00:00<00:00,  8.72it/s]\n"
          ]
        },
        {
          "output_type": "stream",
          "name": "stdout",
          "text": [
            "Epoch 53: Train Loss = 2.0398, Val Loss = 27.9115 | IoU = 0.931, RMSE = 0.90\n"
          ]
        },
        {
          "output_type": "stream",
          "name": "stderr",
          "text": [
            "[Epoch 54] Training: 100%|██████████| 26/26 [00:03<00:00,  7.09it/s]\n",
            "[Epoch 54] Validation: 100%|██████████| 7/7 [00:00<00:00, 12.19it/s]\n",
            "[Epoch 54] Validation: 100%|██████████| 7/7 [00:01<00:00,  6.54it/s]\n"
          ]
        },
        {
          "output_type": "stream",
          "name": "stdout",
          "text": [
            "Epoch 54: Train Loss = 1.6602, Val Loss = 30.2722 | IoU = 0.932, RMSE = 1.04\n"
          ]
        },
        {
          "output_type": "stream",
          "name": "stderr",
          "text": [
            "[Epoch 55] Training: 100%|██████████| 26/26 [00:03<00:00,  6.62it/s]\n",
            "[Epoch 55] Validation: 100%|██████████| 7/7 [00:00<00:00, 12.57it/s]\n",
            "[Epoch 55] Validation: 100%|██████████| 7/7 [00:00<00:00,  8.73it/s]\n"
          ]
        },
        {
          "output_type": "stream",
          "name": "stdout",
          "text": [
            "Epoch 55: Train Loss = 2.3330, Val Loss = 29.7141 | IoU = 0.931, RMSE = 1.02\n"
          ]
        },
        {
          "output_type": "stream",
          "name": "stderr",
          "text": [
            "[Epoch 56] Training: 100%|██████████| 26/26 [00:03<00:00,  7.13it/s]\n",
            "[Epoch 56] Validation: 100%|██████████| 7/7 [00:00<00:00, 12.85it/s]\n",
            "[Epoch 56] Validation: 100%|██████████| 7/7 [00:00<00:00,  8.56it/s]\n"
          ]
        },
        {
          "output_type": "stream",
          "name": "stdout",
          "text": [
            "Epoch 56: Train Loss = 5.1038, Val Loss = 29.5617 | IoU = 0.932, RMSE = 1.01\n"
          ]
        },
        {
          "output_type": "stream",
          "name": "stderr",
          "text": [
            "[Epoch 57] Training: 100%|██████████| 26/26 [00:03<00:00,  7.00it/s]\n",
            "[Epoch 57] Validation: 100%|██████████| 7/7 [00:00<00:00,  9.27it/s]\n",
            "[Epoch 57] Validation: 100%|██████████| 7/7 [00:01<00:00,  6.56it/s]\n"
          ]
        },
        {
          "output_type": "stream",
          "name": "stdout",
          "text": [
            "Epoch 57: Train Loss = 11.5402, Val Loss = 36.0152 | IoU = 0.928, RMSE = 1.26\n"
          ]
        },
        {
          "output_type": "stream",
          "name": "stderr",
          "text": [
            "[Epoch 58] Training: 100%|██████████| 26/26 [00:03<00:00,  7.04it/s]\n",
            "[Epoch 58] Validation: 100%|██████████| 7/7 [00:00<00:00, 12.70it/s]\n",
            "[Epoch 58] Validation: 100%|██████████| 7/7 [00:00<00:00,  8.98it/s]\n"
          ]
        },
        {
          "output_type": "stream",
          "name": "stdout",
          "text": [
            "Epoch 58: Train Loss = 1.7062, Val Loss = 29.1384 | IoU = 0.931, RMSE = 0.98\n"
          ]
        },
        {
          "output_type": "stream",
          "name": "stderr",
          "text": [
            "[Epoch 59] Training: 100%|██████████| 26/26 [00:03<00:00,  7.14it/s]\n",
            "[Epoch 59] Validation: 100%|██████████| 7/7 [00:00<00:00, 12.48it/s]\n",
            "[Epoch 59] Validation: 100%|██████████| 7/7 [00:00<00:00,  8.41it/s]\n"
          ]
        },
        {
          "output_type": "stream",
          "name": "stdout",
          "text": [
            "Epoch 59: Train Loss = 1.3180, Val Loss = 27.3052 | IoU = 0.932, RMSE = 0.88\n"
          ]
        },
        {
          "output_type": "stream",
          "name": "stderr",
          "text": [
            "[Epoch 60] Training: 100%|██████████| 26/26 [00:03<00:00,  6.53it/s]\n",
            "[Epoch 60] Validation: 100%|██████████| 7/7 [00:00<00:00, 12.38it/s]\n",
            "[Epoch 60] Validation: 100%|██████████| 7/7 [00:00<00:00,  8.33it/s]\n"
          ]
        },
        {
          "output_type": "stream",
          "name": "stdout",
          "text": [
            "Epoch 60: Train Loss = 1.7162, Val Loss = 26.1795 | IoU = 0.932, RMSE = 0.80\n"
          ]
        },
        {
          "output_type": "stream",
          "name": "stderr",
          "text": [
            "[Epoch 61] Training: 100%|██████████| 26/26 [00:03<00:00,  7.12it/s]\n",
            "[Epoch 61] Validation: 100%|██████████| 7/7 [00:00<00:00, 12.58it/s]\n",
            "[Epoch 61] Validation: 100%|██████████| 7/7 [00:00<00:00,  8.36it/s]\n"
          ]
        },
        {
          "output_type": "stream",
          "name": "stdout",
          "text": [
            "Epoch 61: Train Loss = 1.7182, Val Loss = 27.6006 | IoU = 0.933, RMSE = 0.88\n"
          ]
        },
        {
          "output_type": "stream",
          "name": "stderr",
          "text": [
            "[Epoch 62] Training: 100%|██████████| 26/26 [00:03<00:00,  7.08it/s]\n",
            "[Epoch 62] Validation: 100%|██████████| 7/7 [00:00<00:00,  9.16it/s]\n",
            "[Epoch 62] Validation: 100%|██████████| 7/7 [00:01<00:00,  6.08it/s]\n"
          ]
        },
        {
          "output_type": "stream",
          "name": "stdout",
          "text": [
            "Epoch 62: Train Loss = 1.5926, Val Loss = 27.0785 | IoU = 0.931, RMSE = 0.85\n"
          ]
        },
        {
          "output_type": "stream",
          "name": "stderr",
          "text": [
            "[Epoch 63] Training: 100%|██████████| 26/26 [00:03<00:00,  6.80it/s]\n",
            "[Epoch 63] Validation: 100%|██████████| 7/7 [00:00<00:00, 12.84it/s]\n",
            "[Epoch 63] Validation: 100%|██████████| 7/7 [00:00<00:00,  8.86it/s]\n"
          ]
        },
        {
          "output_type": "stream",
          "name": "stdout",
          "text": [
            "Epoch 63: Train Loss = 3.9884, Val Loss = 26.6691 | IoU = 0.932, RMSE = 0.85\n"
          ]
        },
        {
          "output_type": "stream",
          "name": "stderr",
          "text": [
            "[Epoch 64] Training: 100%|██████████| 26/26 [00:03<00:00,  7.12it/s]\n",
            "[Epoch 64] Validation: 100%|██████████| 7/7 [00:00<00:00, 12.71it/s]\n",
            "[Epoch 64] Validation: 100%|██████████| 7/7 [00:00<00:00,  8.85it/s]\n"
          ]
        },
        {
          "output_type": "stream",
          "name": "stdout",
          "text": [
            "Epoch 64: Train Loss = 1.7589, Val Loss = 28.4438 | IoU = 0.933, RMSE = 0.95\n"
          ]
        },
        {
          "output_type": "stream",
          "name": "stderr",
          "text": [
            "[Epoch 65] Training: 100%|██████████| 26/26 [00:03<00:00,  6.62it/s]\n",
            "[Epoch 65] Validation: 100%|██████████| 7/7 [00:00<00:00, 10.63it/s]\n",
            "[Epoch 65] Validation: 100%|██████████| 7/7 [00:00<00:00,  9.39it/s]\n"
          ]
        },
        {
          "output_type": "stream",
          "name": "stdout",
          "text": [
            "Epoch 65: Train Loss = 2.6538, Val Loss = 33.5168 | IoU = 0.931, RMSE = 1.16\n"
          ]
        },
        {
          "output_type": "stream",
          "name": "stderr",
          "text": [
            "[Epoch 66] Training: 100%|██████████| 26/26 [00:03<00:00,  7.13it/s]\n",
            "[Epoch 66] Validation: 100%|██████████| 7/7 [00:00<00:00, 12.77it/s]\n",
            "[Epoch 66] Validation: 100%|██████████| 7/7 [00:00<00:00,  8.93it/s]\n"
          ]
        },
        {
          "output_type": "stream",
          "name": "stdout",
          "text": [
            "Epoch 66: Train Loss = 1.8828, Val Loss = 31.2443 | IoU = 0.932, RMSE = 1.08\n"
          ]
        },
        {
          "output_type": "stream",
          "name": "stderr",
          "text": [
            "[Epoch 67] Training: 100%|██████████| 26/26 [00:03<00:00,  7.16it/s]\n",
            "[Epoch 67] Validation: 100%|██████████| 7/7 [00:00<00:00, 11.41it/s]\n",
            "[Epoch 67] Validation: 100%|██████████| 7/7 [00:01<00:00,  6.37it/s]\n"
          ]
        },
        {
          "output_type": "stream",
          "name": "stdout",
          "text": [
            "Epoch 67: Train Loss = 1.7211, Val Loss = 29.1466 | IoU = 0.930, RMSE = 0.97\n"
          ]
        },
        {
          "output_type": "stream",
          "name": "stderr",
          "text": [
            "[Epoch 68] Training: 100%|██████████| 26/26 [00:03<00:00,  6.63it/s]\n",
            "[Epoch 68] Validation: 100%|██████████| 7/7 [00:00<00:00, 12.19it/s]\n",
            "[Epoch 68] Validation: 100%|██████████| 7/7 [00:00<00:00,  9.21it/s]\n"
          ]
        },
        {
          "output_type": "stream",
          "name": "stdout",
          "text": [
            "Epoch 68: Train Loss = 3.0997, Val Loss = 36.9836 | IoU = 0.931, RMSE = 1.29\n"
          ]
        },
        {
          "output_type": "stream",
          "name": "stderr",
          "text": [
            "[Epoch 69] Training: 100%|██████████| 26/26 [00:03<00:00,  7.16it/s]\n",
            "[Epoch 69] Validation: 100%|██████████| 7/7 [00:00<00:00, 12.30it/s]\n",
            "[Epoch 69] Validation: 100%|██████████| 7/7 [00:00<00:00,  8.33it/s]\n"
          ]
        },
        {
          "output_type": "stream",
          "name": "stdout",
          "text": [
            "Epoch 69: Train Loss = 1.7224, Val Loss = 26.7964 | IoU = 0.933, RMSE = 0.85\n"
          ]
        },
        {
          "output_type": "stream",
          "name": "stderr",
          "text": [
            "[Epoch 70] Training: 100%|██████████| 26/26 [00:03<00:00,  6.85it/s]\n",
            "[Epoch 70] Validation: 100%|██████████| 7/7 [00:00<00:00,  9.33it/s]\n",
            "[Epoch 70] Validation: 100%|██████████| 7/7 [00:00<00:00,  7.55it/s]\n"
          ]
        },
        {
          "output_type": "stream",
          "name": "stdout",
          "text": [
            "Epoch 70: Train Loss = 1.6629, Val Loss = 28.1817 | IoU = 0.933, RMSE = 0.93\n"
          ]
        },
        {
          "output_type": "stream",
          "name": "stderr",
          "text": [
            "[Epoch 71] Training: 100%|██████████| 26/26 [00:03<00:00,  7.11it/s]\n",
            "[Epoch 71] Validation: 100%|██████████| 7/7 [00:00<00:00, 12.66it/s]\n",
            "[Epoch 71] Validation: 100%|██████████| 7/7 [00:00<00:00,  8.91it/s]\n"
          ]
        },
        {
          "output_type": "stream",
          "name": "stdout",
          "text": [
            "Epoch 71: Train Loss = 7.4225, Val Loss = 32.4578 | IoU = 0.931, RMSE = 1.13\n"
          ]
        },
        {
          "output_type": "stream",
          "name": "stderr",
          "text": [
            "[Epoch 72] Training: 100%|██████████| 26/26 [00:03<00:00,  7.19it/s]\n",
            "[Epoch 72] Validation: 100%|██████████| 7/7 [00:00<00:00, 12.72it/s]\n",
            "[Epoch 72] Validation: 100%|██████████| 7/7 [00:00<00:00,  7.93it/s]\n"
          ]
        },
        {
          "output_type": "stream",
          "name": "stdout",
          "text": [
            "Epoch 72: Train Loss = 2.7531, Val Loss = 28.7294 | IoU = 0.932, RMSE = 0.97\n"
          ]
        },
        {
          "output_type": "stream",
          "name": "stderr",
          "text": [
            "[Epoch 73] Training: 100%|██████████| 26/26 [00:03<00:00,  6.62it/s]\n",
            "[Epoch 73] Validation: 100%|██████████| 7/7 [00:00<00:00, 12.71it/s]\n",
            "[Epoch 73] Validation: 100%|██████████| 7/7 [00:00<00:00,  8.49it/s]\n"
          ]
        },
        {
          "output_type": "stream",
          "name": "stdout",
          "text": [
            "Epoch 73: Train Loss = 1.6798, Val Loss = 26.6293 | IoU = 0.932, RMSE = 0.85\n"
          ]
        },
        {
          "output_type": "stream",
          "name": "stderr",
          "text": [
            "[Epoch 74] Training: 100%|██████████| 26/26 [00:03<00:00,  7.15it/s]\n",
            "[Epoch 74] Validation: 100%|██████████| 7/7 [00:00<00:00, 12.54it/s]\n",
            "[Epoch 74] Validation: 100%|██████████| 7/7 [00:00<00:00,  8.94it/s]\n"
          ]
        },
        {
          "output_type": "stream",
          "name": "stdout",
          "text": [
            "Epoch 74: Train Loss = 1.2895, Val Loss = 26.3403 | IoU = 0.931, RMSE = 0.80\n"
          ]
        },
        {
          "output_type": "stream",
          "name": "stderr",
          "text": [
            "[Epoch 75] Training: 100%|██████████| 26/26 [00:03<00:00,  7.00it/s]\n",
            "[Epoch 75] Validation: 100%|██████████| 7/7 [00:00<00:00,  9.33it/s]\n",
            "[Epoch 75] Validation: 100%|██████████| 7/7 [00:01<00:00,  6.15it/s]\n"
          ]
        },
        {
          "output_type": "stream",
          "name": "stdout",
          "text": [
            "Epoch 75: Train Loss = 2.1060, Val Loss = 33.9282 | IoU = 0.933, RMSE = 1.19\n"
          ]
        },
        {
          "output_type": "stream",
          "name": "stderr",
          "text": [
            "[Epoch 76] Training: 100%|██████████| 26/26 [00:03<00:00,  6.82it/s]\n",
            "[Epoch 76] Validation: 100%|██████████| 7/7 [00:00<00:00, 12.58it/s]\n",
            "[Epoch 76] Validation: 100%|██████████| 7/7 [00:00<00:00,  8.66it/s]\n"
          ]
        },
        {
          "output_type": "stream",
          "name": "stdout",
          "text": [
            "Epoch 76: Train Loss = 2.8821, Val Loss = 28.9145 | IoU = 0.931, RMSE = 0.97\n"
          ]
        },
        {
          "output_type": "stream",
          "name": "stderr",
          "text": [
            "[Epoch 77] Training: 100%|██████████| 26/26 [00:03<00:00,  7.12it/s]\n",
            "[Epoch 77] Validation: 100%|██████████| 7/7 [00:00<00:00, 12.97it/s]\n",
            "[Epoch 77] Validation: 100%|██████████| 7/7 [00:00<00:00,  8.91it/s]\n"
          ]
        },
        {
          "output_type": "stream",
          "name": "stdout",
          "text": [
            "Epoch 77: Train Loss = 1.8949, Val Loss = 29.0857 | IoU = 0.932, RMSE = 0.98\n"
          ]
        },
        {
          "output_type": "stream",
          "name": "stderr",
          "text": [
            "[Epoch 78] Training: 100%|██████████| 26/26 [00:03<00:00,  6.67it/s]\n",
            "[Epoch 78] Validation: 100%|██████████| 7/7 [00:00<00:00, 12.45it/s]\n",
            "[Epoch 78] Validation: 100%|██████████| 7/7 [00:00<00:00,  9.09it/s]\n"
          ]
        },
        {
          "output_type": "stream",
          "name": "stdout",
          "text": [
            "Epoch 78: Train Loss = 1.4941, Val Loss = 27.3236 | IoU = 0.932, RMSE = 0.85\n"
          ]
        },
        {
          "output_type": "stream",
          "name": "stderr",
          "text": [
            "[Epoch 79] Training: 100%|██████████| 26/26 [00:03<00:00,  7.15it/s]\n",
            "[Epoch 79] Validation: 100%|██████████| 7/7 [00:00<00:00, 12.06it/s]\n",
            "[Epoch 79] Validation: 100%|██████████| 7/7 [00:00<00:00,  8.60it/s]\n"
          ]
        },
        {
          "output_type": "stream",
          "name": "stdout",
          "text": [
            "Epoch 79: Train Loss = 2.5774, Val Loss = 32.7842 | IoU = 0.932, RMSE = 1.14\n"
          ]
        },
        {
          "output_type": "stream",
          "name": "stderr",
          "text": [
            "[Epoch 80] Training: 100%|██████████| 26/26 [00:03<00:00,  7.11it/s]\n",
            "[Epoch 80] Validation: 100%|██████████| 7/7 [00:00<00:00,  9.19it/s]\n",
            "[Epoch 80] Validation: 100%|██████████| 7/7 [00:01<00:00,  6.16it/s]\n"
          ]
        },
        {
          "output_type": "stream",
          "name": "stdout",
          "text": [
            "Epoch 80: Train Loss = 1.9535, Val Loss = 28.1042 | IoU = 0.933, RMSE = 0.92\n"
          ]
        },
        {
          "output_type": "stream",
          "name": "stderr",
          "text": [
            "[Epoch 81] Training: 100%|██████████| 26/26 [00:03<00:00,  6.78it/s]\n",
            "[Epoch 81] Validation: 100%|██████████| 7/7 [00:00<00:00, 12.69it/s]\n",
            "[Epoch 81] Validation: 100%|██████████| 7/7 [00:00<00:00,  8.67it/s]\n"
          ]
        },
        {
          "output_type": "stream",
          "name": "stdout",
          "text": [
            "Epoch 81: Train Loss = 3.7441, Val Loss = 38.9342 | IoU = 0.931, RMSE = 1.35\n"
          ]
        },
        {
          "output_type": "stream",
          "name": "stderr",
          "text": [
            "[Epoch 82] Training: 100%|██████████| 26/26 [00:03<00:00,  7.17it/s]\n",
            "[Epoch 82] Validation: 100%|██████████| 7/7 [00:00<00:00, 12.68it/s]\n",
            "[Epoch 82] Validation: 100%|██████████| 7/7 [00:00<00:00,  9.10it/s]\n"
          ]
        },
        {
          "output_type": "stream",
          "name": "stdout",
          "text": [
            "Epoch 82: Train Loss = 2.0555, Val Loss = 29.5520 | IoU = 0.930, RMSE = 1.01\n"
          ]
        },
        {
          "output_type": "stream",
          "name": "stderr",
          "text": [
            "[Epoch 83] Training: 100%|██████████| 26/26 [00:03<00:00,  6.81it/s]\n",
            "[Epoch 83] Validation: 100%|██████████| 7/7 [00:00<00:00,  9.62it/s]\n",
            "[Epoch 83] Validation: 100%|██████████| 7/7 [00:00<00:00,  7.61it/s]\n"
          ]
        },
        {
          "output_type": "stream",
          "name": "stdout",
          "text": [
            "Epoch 83: Train Loss = 3.3013, Val Loss = 28.1990 | IoU = 0.932, RMSE = 0.93\n"
          ]
        },
        {
          "output_type": "stream",
          "name": "stderr",
          "text": [
            "[Epoch 84] Training: 100%|██████████| 26/26 [00:03<00:00,  7.14it/s]\n",
            "[Epoch 84] Validation: 100%|██████████| 7/7 [00:00<00:00, 12.51it/s]\n",
            "[Epoch 84] Validation: 100%|██████████| 7/7 [00:00<00:00,  8.62it/s]\n"
          ]
        },
        {
          "output_type": "stream",
          "name": "stdout",
          "text": [
            "Epoch 84: Train Loss = 2.3331, Val Loss = 29.4517 | IoU = 0.933, RMSE = 0.99\n"
          ]
        },
        {
          "output_type": "stream",
          "name": "stderr",
          "text": [
            "[Epoch 85] Training: 100%|██████████| 26/26 [00:03<00:00,  7.16it/s]\n",
            "[Epoch 85] Validation: 100%|██████████| 7/7 [00:00<00:00, 12.03it/s]\n",
            "[Epoch 85] Validation: 100%|██████████| 7/7 [00:01<00:00,  6.69it/s]\n"
          ]
        },
        {
          "output_type": "stream",
          "name": "stdout",
          "text": [
            "Epoch 85: Train Loss = 4.0976, Val Loss = 28.9185 | IoU = 0.930, RMSE = 0.96\n"
          ]
        },
        {
          "output_type": "stream",
          "name": "stderr",
          "text": [
            "[Epoch 86] Training: 100%|██████████| 26/26 [00:03<00:00,  6.55it/s]\n",
            "[Epoch 86] Validation: 100%|██████████| 7/7 [00:00<00:00, 12.41it/s]\n",
            "[Epoch 86] Validation: 100%|██████████| 7/7 [00:00<00:00,  8.31it/s]\n"
          ]
        },
        {
          "output_type": "stream",
          "name": "stdout",
          "text": [
            "Epoch 86: Train Loss = 1.6552, Val Loss = 25.6514 | IoU = 0.933, RMSE = 0.76\n",
            "📌 New best model saved (val loss = 25.6514, IoU = 0.933, RMSE = 0.76) → ./drive/MyDrive/laser_model_mk1.5.pth\n"
          ]
        },
        {
          "output_type": "stream",
          "name": "stderr",
          "text": [
            "[Epoch 87] Training: 100%|██████████| 26/26 [00:03<00:00,  7.05it/s]\n",
            "[Epoch 87] Validation: 100%|██████████| 7/7 [00:00<00:00, 12.09it/s]\n",
            "[Epoch 87] Validation: 100%|██████████| 7/7 [00:00<00:00,  8.83it/s]\n"
          ]
        },
        {
          "output_type": "stream",
          "name": "stdout",
          "text": [
            "Epoch 87: Train Loss = 1.6424, Val Loss = 26.5837 | IoU = 0.931, RMSE = 0.83\n"
          ]
        },
        {
          "output_type": "stream",
          "name": "stderr",
          "text": [
            "[Epoch 88] Training: 100%|██████████| 26/26 [00:03<00:00,  6.87it/s]\n",
            "[Epoch 88] Validation: 100%|██████████| 7/7 [00:00<00:00,  9.23it/s]\n",
            "[Epoch 88] Validation: 100%|██████████| 7/7 [00:00<00:00,  7.05it/s]\n"
          ]
        },
        {
          "output_type": "stream",
          "name": "stdout",
          "text": [
            "Epoch 88: Train Loss = 2.9801, Val Loss = 28.2366 | IoU = 0.932, RMSE = 0.95\n"
          ]
        },
        {
          "output_type": "stream",
          "name": "stderr",
          "text": [
            "[Epoch 89] Training: 100%|██████████| 26/26 [00:03<00:00,  6.68it/s]\n",
            "[Epoch 89] Validation: 100%|██████████| 7/7 [00:00<00:00, 12.21it/s]\n",
            "[Epoch 89] Validation: 100%|██████████| 7/7 [00:00<00:00,  8.76it/s]\n"
          ]
        },
        {
          "output_type": "stream",
          "name": "stdout",
          "text": [
            "Epoch 89: Train Loss = 7.7218, Val Loss = 29.0411 | IoU = 0.931, RMSE = 0.97\n"
          ]
        },
        {
          "output_type": "stream",
          "name": "stderr",
          "text": [
            "[Epoch 90] Training: 100%|██████████| 26/26 [00:03<00:00,  7.08it/s]\n",
            "[Epoch 90] Validation: 100%|██████████| 7/7 [00:00<00:00, 12.53it/s]\n",
            "[Epoch 90] Validation: 100%|██████████| 7/7 [00:01<00:00,  6.87it/s]\n"
          ]
        },
        {
          "output_type": "stream",
          "name": "stdout",
          "text": [
            "Epoch 90: Train Loss = 1.4725, Val Loss = 28.2022 | IoU = 0.933, RMSE = 0.93\n"
          ]
        },
        {
          "output_type": "stream",
          "name": "stderr",
          "text": [
            "[Epoch 91] Training: 100%|██████████| 26/26 [00:03<00:00,  6.68it/s]\n",
            "[Epoch 91] Validation: 100%|██████████| 7/7 [00:00<00:00, 12.08it/s]\n",
            "[Epoch 91] Validation: 100%|██████████| 7/7 [00:00<00:00,  9.18it/s]\n"
          ]
        },
        {
          "output_type": "stream",
          "name": "stdout",
          "text": [
            "Epoch 91: Train Loss = 2.0738, Val Loss = 29.6403 | IoU = 0.931, RMSE = 1.01\n"
          ]
        },
        {
          "output_type": "stream",
          "name": "stderr",
          "text": [
            "[Epoch 92] Training: 100%|██████████| 26/26 [00:03<00:00,  7.12it/s]\n",
            "[Epoch 92] Validation: 100%|██████████| 7/7 [00:00<00:00, 12.49it/s]\n",
            "[Epoch 92] Validation: 100%|██████████| 7/7 [00:00<00:00,  8.38it/s]\n"
          ]
        },
        {
          "output_type": "stream",
          "name": "stdout",
          "text": [
            "Epoch 92: Train Loss = 1.4295, Val Loss = 28.6147 | IoU = 0.932, RMSE = 0.95\n"
          ]
        },
        {
          "output_type": "stream",
          "name": "stderr",
          "text": [
            "[Epoch 93] Training: 100%|██████████| 26/26 [00:03<00:00,  6.91it/s]\n",
            "[Epoch 93] Validation: 100%|██████████| 7/7 [00:00<00:00,  8.74it/s]\n",
            "[Epoch 93] Validation: 100%|██████████| 7/7 [00:01<00:00,  6.39it/s]\n"
          ]
        },
        {
          "output_type": "stream",
          "name": "stdout",
          "text": [
            "Epoch 93: Train Loss = 2.4142, Val Loss = 27.5631 | IoU = 0.932, RMSE = 0.90\n"
          ]
        },
        {
          "output_type": "stream",
          "name": "stderr",
          "text": [
            "[Epoch 94] Training: 100%|██████████| 26/26 [00:03<00:00,  7.17it/s]\n",
            "[Epoch 94] Validation: 100%|██████████| 7/7 [00:00<00:00, 12.19it/s]\n",
            "[Epoch 94] Validation: 100%|██████████| 7/7 [00:00<00:00,  8.62it/s]\n"
          ]
        },
        {
          "output_type": "stream",
          "name": "stdout",
          "text": [
            "Epoch 94: Train Loss = 1.9170, Val Loss = 31.8262 | IoU = 0.932, RMSE = 1.10\n"
          ]
        },
        {
          "output_type": "stream",
          "name": "stderr",
          "text": [
            "[Epoch 95] Training: 100%|██████████| 26/26 [00:03<00:00,  7.10it/s]\n",
            "[Epoch 95] Validation: 100%|██████████| 7/7 [00:00<00:00, 11.99it/s]\n",
            "[Epoch 95] Validation: 100%|██████████| 7/7 [00:00<00:00,  7.73it/s]\n"
          ]
        },
        {
          "output_type": "stream",
          "name": "stdout",
          "text": [
            "Epoch 95: Train Loss = 1.8046, Val Loss = 31.1678 | IoU = 0.932, RMSE = 1.07\n"
          ]
        },
        {
          "output_type": "stream",
          "name": "stderr",
          "text": [
            "[Epoch 96] Training: 100%|██████████| 26/26 [00:04<00:00,  6.38it/s]\n",
            "[Epoch 96] Validation: 100%|██████████| 7/7 [00:00<00:00, 13.03it/s]\n",
            "[Epoch 96] Validation: 100%|██████████| 7/7 [00:00<00:00,  9.12it/s]\n"
          ]
        },
        {
          "output_type": "stream",
          "name": "stdout",
          "text": [
            "Epoch 96: Train Loss = 3.8160, Val Loss = 31.3599 | IoU = 0.932, RMSE = 1.08\n"
          ]
        },
        {
          "output_type": "stream",
          "name": "stderr",
          "text": [
            "[Epoch 97] Training: 100%|██████████| 26/26 [00:03<00:00,  7.14it/s]\n",
            "[Epoch 97] Validation: 100%|██████████| 7/7 [00:00<00:00, 11.92it/s]\n",
            "[Epoch 97] Validation: 100%|██████████| 7/7 [00:00<00:00,  8.66it/s]\n"
          ]
        },
        {
          "output_type": "stream",
          "name": "stdout",
          "text": [
            "Epoch 97: Train Loss = 2.8956, Val Loss = 28.9704 | IoU = 0.932, RMSE = 0.97\n"
          ]
        },
        {
          "output_type": "stream",
          "name": "stderr",
          "text": [
            "[Epoch 98] Training: 100%|██████████| 26/26 [00:03<00:00,  7.00it/s]\n",
            "[Epoch 98] Validation: 100%|██████████| 7/7 [00:00<00:00,  9.41it/s]\n",
            "[Epoch 98] Validation: 100%|██████████| 7/7 [00:01<00:00,  6.06it/s]\n"
          ]
        },
        {
          "output_type": "stream",
          "name": "stdout",
          "text": [
            "Epoch 98: Train Loss = 1.7830, Val Loss = 27.0084 | IoU = 0.932, RMSE = 0.86\n"
          ]
        },
        {
          "output_type": "stream",
          "name": "stderr",
          "text": [
            "[Epoch 99] Training: 100%|██████████| 26/26 [00:03<00:00,  6.98it/s]\n",
            "[Epoch 99] Validation: 100%|██████████| 7/7 [00:00<00:00, 12.89it/s]\n",
            "[Epoch 99] Validation: 100%|██████████| 7/7 [00:00<00:00,  8.75it/s]\n"
          ]
        },
        {
          "output_type": "stream",
          "name": "stdout",
          "text": [
            "Epoch 99: Train Loss = 1.4162, Val Loss = 26.5188 | IoU = 0.932, RMSE = 0.83\n"
          ]
        },
        {
          "output_type": "stream",
          "name": "stderr",
          "text": [
            "[Epoch 100] Training: 100%|██████████| 26/26 [00:03<00:00,  7.10it/s]\n",
            "[Epoch 100] Validation: 100%|██████████| 7/7 [00:00<00:00, 11.97it/s]\n",
            "[Epoch 100] Validation: 100%|██████████| 7/7 [00:00<00:00,  8.20it/s]\n"
          ]
        },
        {
          "output_type": "stream",
          "name": "stdout",
          "text": [
            "Epoch 100: Train Loss = 2.3995, Val Loss = 29.5590 | IoU = 0.931, RMSE = 0.99\n"
          ]
        },
        {
          "output_type": "stream",
          "name": "stderr",
          "text": [
            "[Epoch 101] Training: 100%|██████████| 26/26 [00:03<00:00,  6.61it/s]\n",
            "[Epoch 101] Validation: 100%|██████████| 7/7 [00:00<00:00, 12.74it/s]\n",
            "[Epoch 101] Validation: 100%|██████████| 7/7 [00:00<00:00,  9.02it/s]\n"
          ]
        },
        {
          "output_type": "stream",
          "name": "stdout",
          "text": [
            "Epoch 101: Train Loss = 1.7420, Val Loss = 30.2035 | IoU = 0.931, RMSE = 1.02\n"
          ]
        },
        {
          "output_type": "stream",
          "name": "stderr",
          "text": [
            "[Epoch 102] Training: 100%|██████████| 26/26 [00:03<00:00,  7.15it/s]\n",
            "[Epoch 102] Validation: 100%|██████████| 7/7 [00:00<00:00, 12.53it/s]\n",
            "[Epoch 102] Validation: 100%|██████████| 7/7 [00:00<00:00,  8.61it/s]\n"
          ]
        },
        {
          "output_type": "stream",
          "name": "stdout",
          "text": [
            "Epoch 102: Train Loss = 1.4545, Val Loss = 26.9120 | IoU = 0.932, RMSE = 0.85\n"
          ]
        },
        {
          "output_type": "stream",
          "name": "stderr",
          "text": [
            "[Epoch 103] Training: 100%|██████████| 26/26 [00:03<00:00,  7.06it/s]\n",
            "[Epoch 103] Validation: 100%|██████████| 7/7 [00:00<00:00,  9.27it/s]\n",
            "[Epoch 103] Validation: 100%|██████████| 7/7 [00:01<00:00,  6.55it/s]\n"
          ]
        },
        {
          "output_type": "stream",
          "name": "stdout",
          "text": [
            "Epoch 103: Train Loss = 1.9227, Val Loss = 27.5201 | IoU = 0.932, RMSE = 0.88\n"
          ]
        },
        {
          "output_type": "stream",
          "name": "stderr",
          "text": [
            "[Epoch 104] Training: 100%|██████████| 26/26 [00:03<00:00,  6.78it/s]\n",
            "[Epoch 104] Validation: 100%|██████████| 7/7 [00:00<00:00, 12.61it/s]\n",
            "[Epoch 104] Validation: 100%|██████████| 7/7 [00:00<00:00,  9.28it/s]\n"
          ]
        },
        {
          "output_type": "stream",
          "name": "stdout",
          "text": [
            "Epoch 104: Train Loss = 1.8698, Val Loss = 33.0893 | IoU = 0.932, RMSE = 1.15\n"
          ]
        },
        {
          "output_type": "stream",
          "name": "stderr",
          "text": [
            "[Epoch 105] Training: 100%|██████████| 26/26 [00:03<00:00,  7.13it/s]\n",
            "[Epoch 105] Validation: 100%|██████████| 7/7 [00:00<00:00, 12.26it/s]\n",
            "[Epoch 105] Validation: 100%|██████████| 7/7 [00:00<00:00,  8.83it/s]\n"
          ]
        },
        {
          "output_type": "stream",
          "name": "stdout",
          "text": [
            "Epoch 105: Train Loss = 1.8144, Val Loss = 27.2208 | IoU = 0.932, RMSE = 0.88\n"
          ]
        },
        {
          "output_type": "stream",
          "name": "stderr",
          "text": [
            "[Epoch 106] Training: 100%|██████████| 26/26 [00:03<00:00,  6.69it/s]\n",
            "[Epoch 106] Validation: 100%|██████████| 7/7 [00:00<00:00,  9.26it/s]\n",
            "[Epoch 106] Validation: 100%|██████████| 7/7 [00:00<00:00,  8.29it/s]\n"
          ]
        },
        {
          "output_type": "stream",
          "name": "stdout",
          "text": [
            "Epoch 106: Train Loss = 2.1710, Val Loss = 31.0907 | IoU = 0.931, RMSE = 1.07\n"
          ]
        },
        {
          "output_type": "stream",
          "name": "stderr",
          "text": [
            "[Epoch 107] Training: 100%|██████████| 26/26 [00:03<00:00,  7.09it/s]\n",
            "[Epoch 107] Validation: 100%|██████████| 7/7 [00:00<00:00, 12.25it/s]\n",
            "[Epoch 107] Validation: 100%|██████████| 7/7 [00:00<00:00,  8.84it/s]\n"
          ]
        },
        {
          "output_type": "stream",
          "name": "stdout",
          "text": [
            "Epoch 107: Train Loss = 2.4178, Val Loss = 32.3237 | IoU = 0.929, RMSE = 1.13\n"
          ]
        },
        {
          "output_type": "stream",
          "name": "stderr",
          "text": [
            "[Epoch 108] Training: 100%|██████████| 26/26 [00:04<00:00,  6.49it/s]\n",
            "[Epoch 108] Validation: 100%|██████████| 7/7 [00:00<00:00, 11.81it/s]\n",
            "[Epoch 108] Validation: 100%|██████████| 7/7 [00:01<00:00,  6.08it/s]\n"
          ]
        },
        {
          "output_type": "stream",
          "name": "stdout",
          "text": [
            "Epoch 108: Train Loss = 3.0552, Val Loss = 32.5332 | IoU = 0.931, RMSE = 1.12\n"
          ]
        },
        {
          "output_type": "stream",
          "name": "stderr",
          "text": [
            "[Epoch 109] Training: 100%|██████████| 26/26 [00:04<00:00,  6.04it/s]\n",
            "[Epoch 109] Validation: 100%|██████████| 7/7 [00:00<00:00, 12.74it/s]\n",
            "[Epoch 109] Validation: 100%|██████████| 7/7 [00:00<00:00,  8.74it/s]\n"
          ]
        },
        {
          "output_type": "stream",
          "name": "stdout",
          "text": [
            "Epoch 109: Train Loss = 2.2179, Val Loss = 30.9663 | IoU = 0.931, RMSE = 1.07\n"
          ]
        },
        {
          "output_type": "stream",
          "name": "stderr",
          "text": [
            "[Epoch 110] Training: 100%|██████████| 26/26 [00:03<00:00,  6.58it/s]\n",
            "[Epoch 110] Validation: 100%|██████████| 7/7 [00:00<00:00, 12.27it/s]\n",
            "[Epoch 110] Validation: 100%|██████████| 7/7 [00:00<00:00,  8.96it/s]\n"
          ]
        },
        {
          "output_type": "stream",
          "name": "stdout",
          "text": [
            "Epoch 110: Train Loss = 2.4320, Val Loss = 38.1611 | IoU = 0.930, RMSE = 1.32\n"
          ]
        },
        {
          "output_type": "stream",
          "name": "stderr",
          "text": [
            "[Epoch 111] Training: 100%|██████████| 26/26 [00:04<00:00,  5.97it/s]\n",
            "[Epoch 111] Validation: 100%|██████████| 7/7 [00:01<00:00,  5.80it/s]\n",
            "[Epoch 111] Validation: 100%|██████████| 7/7 [00:01<00:00,  5.16it/s]\n"
          ]
        },
        {
          "output_type": "stream",
          "name": "stdout",
          "text": [
            "Epoch 111: Train Loss = 1.2588, Val Loss = 29.4907 | IoU = 0.931, RMSE = 1.00\n"
          ]
        },
        {
          "output_type": "stream",
          "name": "stderr",
          "text": [
            "[Epoch 112] Training: 100%|██████████| 26/26 [00:04<00:00,  6.32it/s]\n",
            "[Epoch 112] Validation: 100%|██████████| 7/7 [00:01<00:00,  5.69it/s]\n",
            "[Epoch 112] Validation: 100%|██████████| 7/7 [00:01<00:00,  5.07it/s]\n"
          ]
        },
        {
          "output_type": "stream",
          "name": "stdout",
          "text": [
            "Epoch 112: Train Loss = 1.6975, Val Loss = 27.8086 | IoU = 0.932, RMSE = 0.90\n"
          ]
        },
        {
          "output_type": "stream",
          "name": "stderr",
          "text": [
            "[Epoch 113] Training:  15%|█▌        | 4/26 [00:01<00:07,  2.98it/s]"
          ]
        }
      ]
    },
    {
      "cell_type": "markdown",
      "source": [
        "5 - Проверка и визуализация"
      ],
      "metadata": {
        "id": "aRRHE23oABRz"
      }
    },
    {
      "cell_type": "code",
      "source": [
        "model = LaserVisionNet()\n",
        "model.load_state_dict(torch.load('./drive/MyDrive/laser_model_mk1.5.pth'))\n",
        "\n",
        "model.eval()\n",
        "\n",
        "with torch.no_grad():\n",
        "    it = iter(val_loader)\n",
        "    imgs, masks, labels = next(it)  # Берем один батч\n",
        "    imgs, masks, labels = imgs.to(device), masks.to(device), labels.to(device)\n",
        "\n",
        "    seg_out, reg_out = model(imgs)\n",
        "\n",
        "    seg_logits = seg_out[0].cpu()\n",
        "    pred_mask = torch.sigmoid(seg_logits).cpu().numpy()  # [3, H, W]\n",
        "\n",
        "    fig, axs = plt.subplots(1, 3, figsize=(12, 4))\n",
        "    for i in range(3):\n",
        "        axs[i].imshow(pred_mask[i], cmap='gray')\n",
        "        axs[i].set_title(f\"Class {i}\")\n",
        "        axs[i].axis(\"off\")\n",
        "\n",
        "    plt.show()"
      ],
      "metadata": {
        "id": "raNFbVRkWuja"
      },
      "execution_count": null,
      "outputs": []
    },
    {
      "cell_type": "code",
      "source": [
        "import matplotlib.pyplot as plt\n",
        "import torch\n",
        "\n",
        "model.eval()\n",
        "\n",
        "with torch.no_grad():\n",
        "    it = iter(val_loader)\n",
        "    imgs, masks, labels = next(it)  # Берем один батч\n",
        "    imgs, masks, labels = imgs.to(device), masks.to(device), labels.to(device)\n",
        "\n",
        "    seg_out, reg_out = model(imgs)\n",
        "\n",
        "    # Выбираем один элемент из батча\n",
        "    img = imgs[0].cpu()                          # [3, H, W]\n",
        "    true_mask = masks[0].cpu()                   # [H, W] или [1, H, W]\n",
        "    seg_logits = seg_out[0].cpu()                # [3, H, W]\n",
        "    pred_mask = torch.argmax(seg_logits, dim=0)  # [H, W], значения от 0 до 2\n",
        "\n",
        "    # Визуализация\n",
        "    reg_values = reg_out[0].cpu().numpy()\n",
        "    label_values = labels[0].cpu().numpy()\n",
        "\n",
        "    plt.figure(figsize=(15, 5))\n",
        "\n",
        "    # Оригинал\n",
        "    plt.subplot(1, 3, 1)\n",
        "    plt.imshow(img.permute(1, 2, 0))  # [C, H, W] -> [H, W, C]\n",
        "    plt.title(\"Original Image\")\n",
        "    plt.axis(\"off\")\n",
        "\n",
        "    # Истинная маска\n",
        "    plt.subplot(1, 3, 2)\n",
        "    plt.imshow(true_mask.squeeze().permute(1, 2, 0), cmap='gray', vmin=0, vmax=2)\n",
        "    plt.title(\"Ground Truth Mask\")\n",
        "    plt.axis(\"off\")\n",
        "\n",
        "    # logits: [3, H, W] → бинарные маски\n",
        "    pred_mask = torch.sigmoid(seg_logits).cpu().numpy()  # [3, H, W]\n",
        "\n",
        "    fig, axs = plt.subplots(1, 3, figsize=(12, 4))\n",
        "    for i in range(3):\n",
        "        axs[i].imshow(pred_mask[i], cmap='gray')\n",
        "        axs[i].set_title(f\"Class {i}\")\n",
        "        axs[i].axis(\"off\")\n",
        "    plt.show()\n",
        "\n",
        "    print(f\"Regression: pred={reg_values.round(2)} | true={label_values.round(2)}\")\n",
        "    plt.tight_layout()\n",
        "    plt.show()"
      ],
      "metadata": {
        "colab": {
          "base_uri": "https://localhost:8080/",
          "height": 445
        },
        "id": "DA_-m5enR9Lg",
        "outputId": "9b54723b-4d0b-476e-96ee-629520ac8c78"
      },
      "execution_count": 74,
      "outputs": [
        {
          "output_type": "display_data",
          "data": {
            "text/plain": [
              "<Figure size 1500x500 with 2 Axes>"
            ],
            "image/png": "[encoded data removed]"
          },
          "metadata": {}
        },
        {
          "output_type": "display_data",
          "data": {
            "text/plain": [
              "<Figure size 1200x400 with 3 Axes>"
            ],
            "image/png": "[encoded data removed]"
          },
          "metadata": {}
        },
        {
          "output_type": "stream",
          "name": "stdout",
          "text": [
            "Regression: pred=[ 6.86 17.61 21.23] | true=[ 7. 18. 22.]\n"
          ]
        },
        {
          "output_type": "display_data",
          "data": {
            "text/plain": [
              "<Figure size 640x480 with 0 Axes>"
            ]
          },
          "metadata": {}
        }
      ]
    },
    {
      "cell_type": "code",
      "source": [
        "logs = \\\n",
        "'''\n",
        "[Epoch 1] Training: 100%|██████████| 26/26 [00:04<00:00,  6.16it/s]\n",
        "[Epoch 1] Validation: 100%|██████████| 7/7 [00:00<00:00, 13.07it/s]\n",
        "[Epoch 1] Validation: 100%|██████████| 7/7 [00:00<00:00,  9.08it/s]\n",
        "\n",
        "Epoch 1: Train Loss = 14.1307, Val Loss = 28.2736 | IoU = 0.879, RMSE = 0.87\n",
        "📌 New best model saved (val loss = 28.2736, IoU = 0.879, RMSE = 0.87) → ./drive/MyDrive/laser_model400.pth\n",
        "\n",
        "[Epoch 2] Training: 100%|██████████| 26/26 [00:03<00:00,  7.21it/s]\n",
        "[Epoch 2] Validation: 100%|██████████| 7/7 [00:00<00:00, 12.91it/s]\n",
        "[Epoch 2] Validation: 100%|██████████| 7/7 [00:00<00:00,  9.90it/s]\n",
        "\n",
        "Epoch 2: Train Loss = 5.3631, Val Loss = 33.6878 | IoU = 0.894, RMSE = 1.19\n",
        "\n",
        "[Epoch 3] Training: 100%|██████████| 26/26 [00:03<00:00,  6.78it/s]\n",
        "[Epoch 3] Validation: 100%|██████████| 7/7 [00:00<00:00,  9.68it/s]\n",
        "[Epoch 3] Validation: 100%|██████████| 7/7 [00:00<00:00,  9.40it/s]\n",
        "\n",
        "Epoch 3: Train Loss = 5.5126, Val Loss = 53.5221 | IoU = 0.893, RMSE = 1.74\n",
        "\n",
        "[Epoch 4] Training: 100%|██████████| 26/26 [00:03<00:00,  7.00it/s]\n",
        "[Epoch 4] Validation: 100%|██████████| 7/7 [00:00<00:00, 10.97it/s]\n",
        "[Epoch 4] Validation: 100%|██████████| 7/7 [00:00<00:00,  8.98it/s]\n",
        "\n",
        "Epoch 4: Train Loss = 8.3764, Val Loss = 40.5833 | IoU = 0.890, RMSE = 1.35\n",
        "\n",
        "[Epoch 5] Training: 100%|██████████| 26/26 [00:03<00:00,  7.22it/s]\n",
        "[Epoch 5] Validation: 100%|██████████| 7/7 [00:00<00:00, 13.05it/s]\n",
        "[Epoch 5] Validation: 100%|██████████| 7/7 [00:01<00:00,  6.52it/s]\n",
        "\n",
        "Epoch 5: Train Loss = 8.7613, Val Loss = 57.2141 | IoU = 0.892, RMSE = 1.79\n",
        "\n",
        "[Epoch 6] Training: 100%|██████████| 26/26 [00:04<00:00,  6.42it/s]\n",
        "[Epoch 6] Validation: 100%|██████████| 7/7 [00:00<00:00, 12.62it/s]\n",
        "[Epoch 6] Validation: 100%|██████████| 7/7 [00:00<00:00,  9.36it/s]\n",
        "\n",
        "Epoch 6: Train Loss = 9.6382, Val Loss = 58.5646 | IoU = 0.892, RMSE = 1.76\n",
        "\n",
        "[Epoch 7] Training: 100%|██████████| 26/26 [00:03<00:00,  7.28it/s]\n",
        "[Epoch 7] Validation: 100%|██████████| 7/7 [00:00<00:00, 13.07it/s]\n",
        "[Epoch 7] Validation: 100%|██████████| 7/7 [00:00<00:00,  9.37it/s]\n",
        "\n",
        "Epoch 7: Train Loss = 8.5193, Val Loss = 30.6779 | IoU = 0.897, RMSE = 1.06\n",
        "\n",
        "[Epoch 8] Training: 100%|██████████| 26/26 [00:03<00:00,  7.07it/s]\n",
        "[Epoch 8] Validation: 100%|██████████| 7/7 [00:00<00:00, 10.30it/s]\n",
        "[Epoch 8] Validation: 100%|██████████| 7/7 [00:01<00:00,  6.54it/s]\n",
        "\n",
        "Epoch 8: Train Loss = 6.0484, Val Loss = 30.1934 | IoU = 0.891, RMSE = 1.04\n",
        "\n",
        "[Epoch 9] Training: 100%|██████████| 26/26 [00:03<00:00,  7.07it/s]\n",
        "[Epoch 9] Validation: 100%|██████████| 7/7 [00:00<00:00, 13.20it/s]\n",
        "[Epoch 9] Validation: 100%|██████████| 7/7 [00:00<00:00,  8.96it/s]\n",
        "\n",
        "Epoch 9: Train Loss = 9.5823, Val Loss = 39.5110 | IoU = 0.873, RMSE = 1.30\n",
        "\n",
        "[Epoch 10] Training: 100%|██████████| 26/26 [00:03<00:00,  7.22it/s]\n",
        "[Epoch 10] Validation: 100%|██████████| 7/7 [00:00<00:00, 13.17it/s]\n",
        "[Epoch 10] Validation: 100%|██████████| 7/7 [00:00<00:00,  8.90it/s]\n",
        "\n",
        "Epoch 10: Train Loss = 7.2036, Val Loss = 30.5713 | IoU = 0.893, RMSE = 1.02\n",
        "\n",
        "[Epoch 11] Training: 100%|██████████| 26/26 [00:03<00:00,  6.69it/s]\n",
        "[Epoch 11] Validation: 100%|██████████| 7/7 [00:00<00:00, 13.09it/s]\n",
        "[Epoch 11] Validation: 100%|██████████| 7/7 [00:00<00:00,  9.47it/s]\n",
        "\n",
        "Epoch 11: Train Loss = 12.1551, Val Loss = 47.7972 | IoU = 0.885, RMSE = 1.55\n",
        "\n",
        "[Epoch 12] Training: 100%|██████████| 26/26 [00:03<00:00,  7.24it/s]\n",
        "[Epoch 12] Validation: 100%|██████████| 7/7 [00:00<00:00, 13.55it/s]\n",
        "[Epoch 12] Validation: 100%|██████████| 7/7 [00:00<00:00,  9.28it/s]\n",
        "\n",
        "Epoch 12: Train Loss = 23.2367, Val Loss = 58.9122 | IoU = 0.881, RMSE = 1.80\n",
        "\n",
        "[Epoch 13] Training: 100%|██████████| 26/26 [00:03<00:00,  7.24it/s]\n",
        "[Epoch 13] Validation: 100%|██████████| 7/7 [00:00<00:00, 12.28it/s]\n",
        "[Epoch 13] Validation: 100%|██████████| 7/7 [00:00<00:00,  7.25it/s]\n",
        "\n",
        "Epoch 13: Train Loss = 16.7317, Val Loss = 30.4175 | IoU = 0.890, RMSE = 1.06\n",
        "\n",
        "[Epoch 14] Training: 100%|██████████| 26/26 [00:03<00:00,  6.83it/s]\n",
        "[Epoch 14] Validation: 100%|██████████| 7/7 [00:00<00:00, 12.80it/s]\n",
        "[Epoch 14] Validation: 100%|██████████| 7/7 [00:00<00:00,  9.42it/s]\n",
        "\n",
        "Epoch 14: Train Loss = 7.7111, Val Loss = 32.9394 | IoU = 0.891, RMSE = 1.13\n",
        "\n",
        "[Epoch 15] Training: 100%|██████████| 26/26 [00:03<00:00,  7.24it/s]\n",
        "[Epoch 15] Validation: 100%|██████████| 7/7 [00:00<00:00, 13.02it/s]\n",
        "[Epoch 15] Validation: 100%|██████████| 7/7 [00:00<00:00,  9.50it/s]\n",
        "\n",
        "Epoch 15: Train Loss = 7.9558, Val Loss = 39.8371 | IoU = 0.896, RMSE = 1.40\n",
        "\n",
        "[Epoch 16] Training: 100%|██████████| 26/26 [00:03<00:00,  7.04it/s]\n",
        "[Epoch 16] Validation: 100%|██████████| 7/7 [00:00<00:00, 10.19it/s]\n",
        "[Epoch 16] Validation: 100%|██████████| 7/7 [00:01<00:00,  6.47it/s]\n",
        "\n",
        "Epoch 16: Train Loss = 11.3798, Val Loss = 38.8970 | IoU = 0.882, RMSE = 1.28\n",
        "\n",
        "[Epoch 17] Training: 100%|██████████| 26/26 [00:03<00:00,  7.18it/s]\n",
        "[Epoch 17] Validation: 100%|██████████| 7/7 [00:00<00:00, 13.27it/s]\n",
        "[Epoch 17] Validation: 100%|██████████| 7/7 [00:00<00:00,  9.69it/s]\n",
        "\n",
        "Epoch 17: Train Loss = 7.6563, Val Loss = 44.1950 | IoU = 0.899, RMSE = 1.45\n",
        "\n",
        "[Epoch 18] Training: 100%|██████████| 26/26 [00:03<00:00,  7.33it/s]\n",
        "[Epoch 18] Validation: 100%|██████████| 7/7 [00:00<00:00, 13.13it/s]\n",
        "[Epoch 18] Validation: 100%|██████████| 7/7 [00:00<00:00,  9.05it/s]\n",
        "\n",
        "Epoch 18: Train Loss = 4.3216, Val Loss = 32.5308 | IoU = 0.892, RMSE = 1.09\n",
        "\n",
        "[Epoch 19] Training: 100%|██████████| 26/26 [00:03<00:00,  6.76it/s]\n",
        "[Epoch 19] Validation: 100%|██████████| 7/7 [00:00<00:00, 12.98it/s]\n",
        "[Epoch 19] Validation: 100%|██████████| 7/7 [00:00<00:00,  9.39it/s]\n",
        "\n",
        "Epoch 19: Train Loss = 3.1471, Val Loss = 28.6822 | IoU = 0.903, RMSE = 0.94\n",
        "\n",
        "[Epoch 20] Training: 100%|██████████| 26/26 [00:03<00:00,  7.22it/s]\n",
        "[Epoch 20] Validation: 100%|██████████| 7/7 [00:00<00:00, 13.22it/s]\n",
        "[Epoch 20] Validation: 100%|██████████| 7/7 [00:00<00:00,  9.46it/s]\n",
        "\n",
        "Epoch 20: Train Loss = 3.3134, Val Loss = 32.3024 | IoU = 0.905, RMSE = 1.08\n",
        "\n",
        "[Epoch 21] Training: 100%|██████████| 26/26 [00:03<00:00,  7.21it/s]\n",
        "[Epoch 21] Validation: 100%|██████████| 7/7 [00:00<00:00, 11.62it/s]\n",
        "[Epoch 21] Validation: 100%|██████████| 7/7 [00:01<00:00,  6.95it/s]\n",
        "\n",
        "Epoch 21: Train Loss = 3.5384, Val Loss = 41.1108 | IoU = 0.905, RMSE = 1.39\n",
        "\n",
        "[Epoch 22] Training: 100%|██████████| 26/26 [00:03<00:00,  6.82it/s]\n",
        "[Epoch 22] Validation: 100%|██████████| 7/7 [00:00<00:00, 13.23it/s]\n",
        "[Epoch 22] Validation: 100%|██████████| 7/7 [00:00<00:00,  8.71it/s]\n",
        "\n",
        "Epoch 22: Train Loss = 2.8833, Val Loss = 35.0448 | IoU = 0.903, RMSE = 1.18\n",
        "\n",
        "[Epoch 23] Training: 100%|██████████| 26/26 [00:03<00:00,  7.21it/s]\n",
        "[Epoch 23] Validation: 100%|██████████| 7/7 [00:00<00:00, 12.97it/s]\n",
        "[Epoch 23] Validation: 100%|██████████| 7/7 [00:00<00:00,  9.42it/s]\n",
        "\n",
        "Epoch 23: Train Loss = 3.4998, Val Loss = 37.9574 | IoU = 0.904, RMSE = 1.27\n",
        "\n",
        "[Epoch 24] Training: 100%|██████████| 26/26 [00:03<00:00,  6.93it/s]\n",
        "[Epoch 24] Validation: 100%|██████████| 7/7 [00:00<00:00,  9.84it/s]\n",
        "[Epoch 24] Validation: 100%|██████████| 7/7 [00:00<00:00,  7.04it/s]\n",
        "\n",
        "Epoch 24: Train Loss = 5.1966, Val Loss = 33.3556 | IoU = 0.902, RMSE = 1.10\n",
        "\n",
        "[Epoch 25] Training: 100%|██████████| 26/26 [00:03<00:00,  7.26it/s]\n",
        "[Epoch 25] Validation: 100%|██████████| 7/7 [00:00<00:00, 13.34it/s]\n",
        "[Epoch 25] Validation: 100%|██████████| 7/7 [00:00<00:00,  9.35it/s]\n",
        "\n",
        "Epoch 25: Train Loss = 5.3755, Val Loss = 36.7510 | IoU = 0.906, RMSE = 1.25\n",
        "\n",
        "[Epoch 26] Training: 100%|██████████| 26/26 [00:03<00:00,  7.22it/s]\n",
        "[Epoch 26] Validation: 100%|██████████| 7/7 [00:00<00:00, 12.54it/s]\n",
        "[Epoch 26] Validation: 100%|██████████| 7/7 [00:00<00:00,  9.48it/s]\n",
        "\n",
        "Epoch 26: Train Loss = 4.7150, Val Loss = 31.0453 | IoU = 0.906, RMSE = 0.99\n",
        "\n",
        "[Epoch 27] Training: 100%|██████████| 26/26 [00:03<00:00,  6.70it/s]\n",
        "[Epoch 27] Validation: 100%|██████████| 7/7 [00:00<00:00, 13.02it/s]\n",
        "[Epoch 27] Validation: 100%|██████████| 7/7 [00:00<00:00,  9.58it/s]\n",
        "\n",
        "Epoch 27: Train Loss = 2.8577, Val Loss = 40.4895 | IoU = 0.907, RMSE = 1.38\n",
        "\n",
        "[Epoch 28] Training: 100%|██████████| 26/26 [00:03<00:00,  7.24it/s]\n",
        "[Epoch 28] Validation: 100%|██████████| 7/7 [00:00<00:00, 12.91it/s]\n",
        "[Epoch 28] Validation: 100%|██████████| 7/7 [00:00<00:00,  9.15it/s]\n",
        "\n",
        "Epoch 28: Train Loss = 4.5352, Val Loss = 35.4711 | IoU = 0.902, RMSE = 1.21\n",
        "\n",
        "[Epoch 29] Training: 100%|██████████| 26/26 [00:03<00:00,  7.23it/s]\n",
        "[Epoch 29] Validation: 100%|██████████| 7/7 [00:00<00:00, 10.04it/s]\n",
        "[Epoch 29] Validation: 100%|██████████| 7/7 [00:01<00:00,  6.22it/s]\n",
        "\n",
        "Epoch 29: Train Loss = 5.0592, Val Loss = 45.5021 | IoU = 0.907, RMSE = 1.53\n",
        "\n",
        "[Epoch 30] Training: 100%|██████████| 26/26 [00:03<00:00,  6.99it/s]\n",
        "[Epoch 30] Validation: 100%|██████████| 7/7 [00:00<00:00, 13.11it/s]\n",
        "[Epoch 30] Validation: 100%|██████████| 7/7 [00:00<00:00,  9.54it/s]\n",
        "\n",
        "Epoch 30: Train Loss = 8.6187, Val Loss = 39.4891 | IoU = 0.906, RMSE = 1.35\n",
        "\n",
        "[Epoch 31] Training: 100%|██████████| 26/26 [00:03<00:00,  7.28it/s]\n",
        "[Epoch 31] Validation: 100%|██████████| 7/7 [00:00<00:00, 12.81it/s]\n",
        "[Epoch 31] Validation: 100%|██████████| 7/7 [00:00<00:00,  9.88it/s]\n",
        "\n",
        "Epoch 31: Train Loss = 8.7876, Val Loss = 38.5341 | IoU = 0.906, RMSE = 1.32\n",
        "\n",
        "[Epoch 32] Training: 100%|██████████| 26/26 [00:03<00:00,  6.87it/s]\n",
        "[Epoch 32] Validation: 100%|██████████| 7/7 [00:00<00:00,  9.54it/s]\n",
        "[Epoch 32] Validation: 100%|██████████| 7/7 [00:00<00:00,  7.40it/s]\n",
        "\n",
        "Epoch 32: Train Loss = 5.2018, Val Loss = 33.2091 | IoU = 0.904, RMSE = 1.10\n",
        "\n",
        "[Epoch 33] Training: 100%|██████████| 26/26 [00:03<00:00,  7.22it/s]\n",
        "[Epoch 33] Validation: 100%|██████████| 7/7 [00:00<00:00, 12.59it/s]\n",
        "[Epoch 33] Validation: 100%|██████████| 7/7 [00:00<00:00,  8.93it/s]\n",
        "\n",
        "Epoch 33: Train Loss = 4.5567, Val Loss = 28.8692 | IoU = 0.907, RMSE = 0.85\n",
        "\n",
        "[Epoch 34] Training: 100%|██████████| 26/26 [00:03<00:00,  7.29it/s]\n",
        "[Epoch 34] Validation: 100%|██████████| 7/7 [00:00<00:00, 13.12it/s]\n",
        "[Epoch 34] Validation: 100%|██████████| 7/7 [00:00<00:00,  8.74it/s]\n",
        "\n",
        "Epoch 34: Train Loss = 2.5363, Val Loss = 28.8267 | IoU = 0.910, RMSE = 0.90\n",
        "\n",
        "[Epoch 35] Training: 100%|██████████| 26/26 [00:03<00:00,  6.76it/s]\n",
        "[Epoch 35] Validation: 100%|██████████| 7/7 [00:00<00:00, 13.37it/s]\n",
        "[Epoch 35] Validation: 100%|██████████| 7/7 [00:00<00:00,  9.18it/s]\n",
        "\n",
        "Epoch 35: Train Loss = 2.6412, Val Loss = 32.5794 | IoU = 0.911, RMSE = 1.10\n",
        "\n",
        "[Epoch 36] Training: 100%|██████████| 26/26 [00:03<00:00,  7.28it/s]\n",
        "[Epoch 36] Validation: 100%|██████████| 7/7 [00:00<00:00, 13.12it/s]\n",
        "[Epoch 36] Validation: 100%|██████████| 7/7 [00:00<00:00,  9.28it/s]\n",
        "\n",
        "Epoch 36: Train Loss = 2.5222, Val Loss = 42.1437 | IoU = 0.907, RMSE = 1.38\n",
        "\n",
        "[Epoch 37] Training: 100%|██████████| 26/26 [00:03<00:00,  7.25it/s]\n",
        "[Epoch 37] Validation: 100%|██████████| 7/7 [00:00<00:00,  9.77it/s]\n",
        "[Epoch 37] Validation: 100%|██████████| 7/7 [00:01<00:00,  6.47it/s]\n",
        "\n",
        "Epoch 37: Train Loss = 3.2284, Val Loss = 36.7211 | IoU = 0.911, RMSE = 1.24\n",
        "\n",
        "[Epoch 38] Training: 100%|██████████| 26/26 [00:03<00:00,  6.99it/s]\n",
        "[Epoch 38] Validation: 100%|██████████| 7/7 [00:00<00:00, 13.13it/s]\n",
        "[Epoch 38] Validation: 100%|██████████| 7/7 [00:00<00:00,  9.48it/s]\n",
        "\n",
        "Epoch 38: Train Loss = 3.1225, Val Loss = 28.6208 | IoU = 0.912, RMSE = 0.90\n",
        "\n",
        "[Epoch 39] Training: 100%|██████████| 26/26 [00:03<00:00,  7.23it/s]\n",
        "[Epoch 39] Validation: 100%|██████████| 7/7 [00:00<00:00, 12.90it/s]\n",
        "[Epoch 39] Validation: 100%|██████████| 7/7 [00:00<00:00,  9.36it/s]\n",
        "\n",
        "Epoch 39: Train Loss = 2.9219, Val Loss = 51.3881 | IoU = 0.909, RMSE = 1.63\n",
        "\n",
        "[Epoch 40] Training: 100%|██████████| 26/26 [00:03<00:00,  7.07it/s]\n",
        "[Epoch 40] Validation: 100%|██████████| 7/7 [00:00<00:00,  9.99it/s]\n",
        "[Epoch 40] Validation: 100%|██████████| 7/7 [00:00<00:00,  7.04it/s]\n",
        "\n",
        "Epoch 40: Train Loss = 4.7332, Val Loss = 31.7626 | IoU = 0.910, RMSE = 1.08\n",
        "\n",
        "[Epoch 41] Training: 100%|██████████| 26/26 [00:03<00:00,  7.29it/s]\n",
        "[Epoch 41] Validation: 100%|██████████| 7/7 [00:00<00:00, 13.48it/s]\n",
        "[Epoch 41] Validation: 100%|██████████| 7/7 [00:00<00:00,  9.23it/s]\n",
        "\n",
        "Epoch 41: Train Loss = 5.5801, Val Loss = 34.6394 | IoU = 0.911, RMSE = 1.17\n",
        "\n",
        "[Epoch 42] Training: 100%|██████████| 26/26 [00:03<00:00,  7.24it/s]\n",
        "[Epoch 42] Validation: 100%|██████████| 7/7 [00:00<00:00, 13.17it/s]\n",
        "[Epoch 42] Validation: 100%|██████████| 7/7 [00:00<00:00,  8.17it/s]\n",
        "\n",
        "Epoch 42: Train Loss = 8.3875, Val Loss = 37.9834 | IoU = 0.902, RMSE = 1.35\n",
        "\n",
        "[Epoch 43] Training: 100%|██████████| 26/26 [00:03<00:00,  6.62it/s]\n",
        "[Epoch 43] Validation: 100%|██████████| 7/7 [00:00<00:00, 13.39it/s]\n",
        "[Epoch 43] Validation: 100%|██████████| 7/7 [00:00<00:00,  9.43it/s]\n",
        "\n",
        "Epoch 43: Train Loss = 10.0391, Val Loss = 39.6039 | IoU = 0.912, RMSE = 1.48\n",
        "\n",
        "[Epoch 44] Training: 100%|██████████| 26/26 [00:03<00:00,  7.32it/s]\n",
        "[Epoch 44] Validation: 100%|██████████| 7/7 [00:00<00:00, 12.84it/s]\n",
        "[Epoch 44] Validation: 100%|██████████| 7/7 [00:00<00:00,  9.61it/s]\n",
        "\n",
        "Epoch 44: Train Loss = 12.9411, Val Loss = 49.8767 | IoU = 0.909, RMSE = 1.60\n",
        "\n",
        "[Epoch 45] Training: 100%|██████████| 26/26 [00:03<00:00,  7.18it/s]\n",
        "[Epoch 45] Validation: 100%|██████████| 7/7 [00:00<00:00,  9.75it/s]\n",
        "[Epoch 45] Validation: 100%|██████████| 7/7 [00:01<00:00,  6.25it/s]\n",
        "\n",
        "Epoch 45: Train Loss = 7.8114, Val Loss = 30.5251 | IoU = 0.904, RMSE = 0.92\n",
        "\n",
        "[Epoch 46] Training: 100%|██████████| 26/26 [00:03<00:00,  6.92it/s]\n",
        "[Epoch 46] Validation: 100%|██████████| 7/7 [00:00<00:00, 13.50it/s]\n",
        "[Epoch 46] Validation: 100%|██████████| 7/7 [00:00<00:00,  9.25it/s]\n",
        "\n",
        "Epoch 46: Train Loss = 16.1633, Val Loss = 32.1365 | IoU = 0.904, RMSE = 1.10\n",
        "\n",
        "[Epoch 47] Training: 100%|██████████| 26/26 [00:03<00:00,  7.26it/s]\n",
        "[Epoch 47] Validation: 100%|██████████| 7/7 [00:00<00:00, 13.25it/s]\n",
        "[Epoch 47] Validation: 100%|██████████| 7/7 [00:00<00:00,  9.43it/s]\n",
        "\n",
        "Epoch 47: Train Loss = 62.0068, Val Loss = 48.5045 | IoU = 0.878, RMSE = 1.57\n",
        "\n",
        "[Epoch 48] Training: 100%|██████████| 26/26 [00:03<00:00,  6.68it/s]\n",
        "[Epoch 48] Validation: 100%|██████████| 7/7 [00:00<00:00, 10.26it/s]\n",
        "[Epoch 48] Validation: 100%|██████████| 7/7 [00:00<00:00,  9.66it/s]\n",
        "\n",
        "Epoch 48: Train Loss = 129.8445, Val Loss = 62.7406 | IoU = 0.766, RMSE = 1.91\n",
        "\n",
        "[Epoch 49] Training: 100%|██████████| 26/26 [00:03<00:00,  7.23it/s]\n",
        "[Epoch 49] Validation: 100%|██████████| 7/7 [00:00<00:00, 13.28it/s]\n",
        "[Epoch 49] Validation: 100%|██████████| 7/7 [00:00<00:00,  8.86it/s]\n",
        "\n",
        "Epoch 49: Train Loss = 184.0499, Val Loss = 184.1013 | IoU = 0.821, RMSE = 3.55\n",
        "\n",
        "[Epoch 50] Training: 100%|██████████| 26/26 [00:03<00:00,  7.22it/s]\n",
        "[Epoch 50] Validation: 100%|██████████| 7/7 [00:00<00:00, 13.34it/s]\n",
        "[Epoch 50] Validation: 100%|██████████| 7/7 [00:01<00:00,  6.31it/s]\n",
        "\n",
        "Epoch 50: Train Loss = 230.4618, Val Loss = 320.5020 | IoU = 0.617, RMSE = 4.43\n",
        "\n",
        "[Epoch 51] Training: 100%|██████████| 26/26 [00:03<00:00,  6.66it/s]\n",
        "[Epoch 51] Validation: 100%|██████████| 7/7 [00:00<00:00, 13.05it/s]\n",
        "[Epoch 51] Validation: 100%|██████████| 7/7 [00:00<00:00,  8.55it/s]\n",
        "\n",
        "Epoch 51: Train Loss = 185.0415, Val Loss = 121.6494 | IoU = 0.783, RMSE = 2.67\n",
        "\n",
        "[Epoch 52] Training: 100%|██████████| 26/26 [00:03<00:00,  7.28it/s]\n",
        "[Epoch 52] Validation: 100%|██████████| 7/7 [00:00<00:00, 13.22it/s]\n",
        "[Epoch 52] Validation: 100%|██████████| 7/7 [00:00<00:00,  8.67it/s]\n",
        "\n",
        "Epoch 52: Train Loss = 50.6588, Val Loss = 34.3839 | IoU = 0.829, RMSE = 1.16\n",
        "\n",
        "[Epoch 53] Training: 100%|██████████| 26/26 [00:03<00:00,  7.09it/s]\n",
        "[Epoch 53] Validation: 100%|██████████| 7/7 [00:00<00:00,  9.84it/s]\n",
        "[Epoch 53] Validation: 100%|██████████| 7/7 [00:01<00:00,  6.46it/s]\n",
        "\n",
        "Epoch 53: Train Loss = 19.1296, Val Loss = 34.1509 | IoU = 0.874, RMSE = 1.11\n",
        "\n",
        "[Epoch 54] Training: 100%|██████████| 26/26 [00:03<00:00,  7.07it/s]\n",
        "[Epoch 54] Validation: 100%|██████████| 7/7 [00:00<00:00, 13.23it/s]\n",
        "[Epoch 54] Validation: 100%|██████████| 7/7 [00:00<00:00,  9.51it/s]\n",
        "\n",
        "Epoch 54: Train Loss = 16.4661, Val Loss = 34.8376 | IoU = 0.865, RMSE = 1.15\n",
        "\n",
        "[Epoch 55] Training: 100%|██████████| 26/26 [00:03<00:00,  7.22it/s]\n",
        "[Epoch 55] Validation: 100%|██████████| 7/7 [00:00<00:00, 12.55it/s]\n",
        "[Epoch 55] Validation: 100%|██████████| 7/7 [00:00<00:00,  8.91it/s]\n",
        "\n",
        "Epoch 55: Train Loss = 7.6497, Val Loss = 32.8153 | IoU = 0.895, RMSE = 1.14\n",
        "\n",
        "[Epoch 56] Training: 100%|██████████| 26/26 [00:03<00:00,  6.79it/s]\n",
        "[Epoch 56] Validation: 100%|██████████| 7/7 [00:00<00:00, 13.12it/s]\n",
        "[Epoch 56] Validation: 100%|██████████| 7/7 [00:00<00:00,  8.75it/s]\n",
        "\n",
        "Epoch 56: Train Loss = 7.8214, Val Loss = 33.8305 | IoU = 0.894, RMSE = 1.14\n",
        "\n",
        "[Epoch 57] Training: 100%|██████████| 26/26 [00:03<00:00,  7.15it/s]\n",
        "[Epoch 57] Validation: 100%|██████████| 7/7 [00:00<00:00, 13.29it/s]\n",
        "[Epoch 57] Validation: 100%|██████████| 7/7 [00:00<00:00,  9.62it/s]\n",
        "\n",
        "Epoch 57: Train Loss = 6.8516, Val Loss = 30.7707 | IoU = 0.898, RMSE = 1.01\n",
        "\n",
        "[Epoch 58] Training: 100%|██████████| 26/26 [00:03<00:00,  7.24it/s]\n",
        "[Epoch 58] Validation: 100%|██████████| 7/7 [00:00<00:00, 10.88it/s]\n",
        "[Epoch 58] Validation: 100%|██████████| 7/7 [00:01<00:00,  6.67it/s]\n",
        "\n",
        "Epoch 58: Train Loss = 14.7663, Val Loss = 47.9815 | IoU = 0.892, RMSE = 1.57\n",
        "\n",
        "[Epoch 59] Training: 100%|██████████| 26/26 [00:03<00:00,  6.82it/s]\n",
        "[Epoch 59] Validation: 100%|██████████| 7/7 [00:00<00:00, 13.25it/s]\n",
        "[Epoch 59] Validation: 100%|██████████| 7/7 [00:00<00:00,  9.27it/s]\n",
        "\n",
        "Epoch 59: Train Loss = 11.1153, Val Loss = 35.3892 | IoU = 0.881, RMSE = 1.18\n",
        "\n",
        "[Epoch 60] Training: 100%|██████████| 26/26 [00:03<00:00,  7.20it/s]\n",
        "[Epoch 60] Validation: 100%|██████████| 7/7 [00:00<00:00, 13.08it/s]\n",
        "[Epoch 60] Validation: 100%|██████████| 7/7 [00:00<00:00,  8.87it/s]\n",
        "\n",
        "Epoch 60: Train Loss = 10.6407, Val Loss = 37.0303 | IoU = 0.875, RMSE = 1.26\n",
        "\n",
        "[Epoch 61] Training: 100%|██████████| 26/26 [00:03<00:00,  6.99it/s]\n",
        "[Epoch 61] Validation: 100%|██████████| 7/7 [00:00<00:00, 10.00it/s]\n",
        "[Epoch 61] Validation: 100%|██████████| 7/7 [00:00<00:00,  7.35it/s]\n",
        "\n",
        "Epoch 61: Train Loss = 5.2410, Val Loss = 33.2262 | IoU = 0.892, RMSE = 1.11\n",
        "\n",
        "[Epoch 62] Training: 100%|██████████| 26/26 [00:03<00:00,  7.27it/s]\n",
        "[Epoch 62] Validation: 100%|██████████| 7/7 [00:00<00:00, 13.28it/s]\n",
        "[Epoch 62] Validation: 100%|██████████| 7/7 [00:00<00:00,  8.63it/s]\n",
        "\n",
        "Epoch 62: Train Loss = 14.0593, Val Loss = 47.7449 | IoU = 0.896, RMSE = 1.54\n",
        "\n",
        "[Epoch 63] Training: 100%|██████████| 26/26 [00:03<00:00,  7.32it/s]\n",
        "[Epoch 63] Validation: 100%|██████████| 7/7 [00:00<00:00, 12.67it/s]\n",
        "[Epoch 63] Validation: 100%|██████████| 7/7 [00:00<00:00,  9.15it/s]\n",
        "\n",
        "Epoch 63: Train Loss = 51.1632, Val Loss = 28.5939 | IoU = 0.886, RMSE = 0.87\n",
        "\n",
        "[Epoch 64] Training: 100%|██████████| 26/26 [00:03<00:00,  6.60it/s]\n",
        "[Epoch 64] Validation: 100%|██████████| 7/7 [00:00<00:00, 12.86it/s]\n",
        "[Epoch 64] Validation: 100%|██████████| 7/7 [00:00<00:00,  9.20it/s]\n",
        "\n",
        "Epoch 64: Train Loss = 33.4909, Val Loss = 38.3653 | IoU = 0.816, RMSE = 1.34\n",
        "\n",
        "[Epoch 65] Training: 100%|██████████| 26/26 [00:03<00:00,  7.27it/s]\n",
        "[Epoch 65] Validation: 100%|██████████| 7/7 [00:00<00:00, 13.60it/s]\n",
        "[Epoch 65] Validation: 100%|██████████| 7/7 [00:00<00:00,  8.85it/s]\n",
        "\n",
        "Epoch 65: Train Loss = 16.6846, Val Loss = 52.2719 | IoU = 0.891, RMSE = 1.63\n",
        "\n",
        "[Epoch 66] Training: 100%|██████████| 26/26 [00:03<00:00,  7.24it/s]\n",
        "[Epoch 66] Validation: 100%|██████████| 7/7 [00:00<00:00,  9.80it/s]\n",
        "[Epoch 66] Validation: 100%|██████████| 7/7 [00:01<00:00,  6.49it/s]\n",
        "\n",
        "Epoch 66: Train Loss = 15.7244, Val Loss = 44.3261 | IoU = 0.898, RMSE = 1.51\n",
        "\n",
        "[Epoch 67] Training: 100%|██████████| 26/26 [00:03<00:00,  6.92it/s]\n",
        "[Epoch 67] Validation: 100%|██████████| 7/7 [00:00<00:00, 13.14it/s]\n",
        "[Epoch 67] Validation: 100%|██████████| 7/7 [00:00<00:00,  9.30it/s]\n",
        "\n",
        "Epoch 67: Train Loss = 13.5546, Val Loss = 43.7807 | IoU = 0.907, RMSE = 1.46\n",
        "\n",
        "[Epoch 68] Training: 100%|██████████| 26/26 [00:03<00:00,  7.29it/s]\n",
        "[Epoch 68] Validation: 100%|██████████| 7/7 [00:00<00:00, 13.45it/s]\n",
        "[Epoch 68] Validation: 100%|██████████| 7/7 [00:00<00:00,  8.96it/s]\n",
        "\n",
        "Epoch 68: Train Loss = 8.4362, Val Loss = 30.1348 | IoU = 0.907, RMSE = 0.96\n",
        "\n",
        "[Epoch 69] Training: 100%|██████████| 26/26 [00:03<00:00,  6.84it/s]\n",
        "[Epoch 69] Validation: 100%|██████████| 7/7 [00:00<00:00,  9.95it/s]\n",
        "[Epoch 69] Validation: 100%|██████████| 7/7 [00:00<00:00,  7.59it/s]\n",
        "\n",
        "Epoch 69: Train Loss = 3.0428, Val Loss = 36.1372 | IoU = 0.908, RMSE = 1.24\n",
        "\n",
        "[Epoch 70] Training: 100%|██████████| 26/26 [00:03<00:00,  7.24it/s]\n",
        "[Epoch 70] Validation: 100%|██████████| 7/7 [00:00<00:00, 13.03it/s]\n",
        "[Epoch 70] Validation: 100%|██████████| 7/7 [00:00<00:00,  9.42it/s]\n",
        "\n",
        "Epoch 70: Train Loss = 2.8937, Val Loss = 35.5721 | IoU = 0.908, RMSE = 1.23\n",
        "\n",
        "[Epoch 71] Training: 100%|██████████| 26/26 [00:03<00:00,  7.21it/s]\n",
        "[Epoch 71] Validation: 100%|██████████| 7/7 [00:00<00:00, 13.16it/s]\n",
        "[Epoch 71] Validation: 100%|██████████| 7/7 [00:00<00:00,  8.41it/s]\n",
        "\n",
        "Epoch 71: Train Loss = 3.3594, Val Loss = 29.4258 | IoU = 0.913, RMSE = 0.92\n",
        "\n",
        "[Epoch 72] Training: 100%|██████████| 26/26 [00:03<00:00,  6.69it/s]\n",
        "[Epoch 72] Validation: 100%|██████████| 7/7 [00:00<00:00, 13.08it/s]\n",
        "[Epoch 72] Validation: 100%|██████████| 7/7 [00:00<00:00,  9.76it/s]\n",
        "\n",
        "Epoch 72: Train Loss = 4.1834, Val Loss = 37.6280 | IoU = 0.910, RMSE = 1.30\n",
        "\n",
        "[Epoch 73] Training: 100%|██████████| 26/26 [00:03<00:00,  7.17it/s]\n",
        "[Epoch 73] Validation: 100%|██████████| 7/7 [00:00<00:00, 13.38it/s]\n",
        "[Epoch 73] Validation: 100%|██████████| 7/7 [00:00<00:00,  8.67it/s]\n",
        "\n",
        "Epoch 73: Train Loss = 20.4545, Val Loss = 49.3220 | IoU = 0.903, RMSE = 1.60\n",
        "\n",
        "[Epoch 74] Training: 100%|██████████| 26/26 [00:03<00:00,  7.17it/s]\n",
        "[Epoch 74] Validation: 100%|██████████| 7/7 [00:00<00:00,  9.66it/s]\n",
        "[Epoch 74] Validation: 100%|██████████| 7/7 [00:01<00:00,  6.62it/s]\n",
        "\n",
        "Epoch 74: Train Loss = 6.3537, Val Loss = 27.4473 | IoU = 0.911, RMSE = 0.86\n",
        "📌 New best model saved (val loss = 27.4473, IoU = 0.911, RMSE = 0.86) → ./drive/MyDrive/laser_model400.pth\n",
        "\n",
        "[Epoch 75] Training: 100%|██████████| 26/26 [00:03<00:00,  6.94it/s]\n",
        "[Epoch 75] Validation: 100%|██████████| 7/7 [00:00<00:00, 13.32it/s]\n",
        "[Epoch 75] Validation: 100%|██████████| 7/7 [00:00<00:00,  9.13it/s]\n",
        "\n",
        "Epoch 75: Train Loss = 4.3963, Val Loss = 29.1248 | IoU = 0.907, RMSE = 0.96\n",
        "\n",
        "[Epoch 76] Training: 100%|██████████| 26/26 [00:03<00:00,  7.19it/s]\n",
        "[Epoch 76] Validation: 100%|██████████| 7/7 [00:00<00:00, 13.27it/s]\n",
        "[Epoch 76] Validation: 100%|██████████| 7/7 [00:00<00:00,  8.94it/s]\n",
        "\n",
        "Epoch 76: Train Loss = 7.7511, Val Loss = 35.6686 | IoU = 0.904, RMSE = 1.22\n",
        "\n",
        "[Epoch 77] Training: 100%|██████████| 26/26 [00:04<00:00,  6.25it/s]\n",
        "[Epoch 77] Validation: 100%|██████████| 7/7 [00:00<00:00, 10.11it/s]\n",
        "[Epoch 77] Validation: 100%|██████████| 7/7 [00:00<00:00,  7.14it/s]\n",
        "\n",
        "Epoch 77: Train Loss = 4.8132, Val Loss = 30.1365 | IoU = 0.909, RMSE = 0.98\n",
        "\n",
        "[Epoch 78] Training: 100%|██████████| 26/26 [00:03<00:00,  7.24it/s]\n",
        "[Epoch 78] Validation: 100%|██████████| 7/7 [00:00<00:00, 13.23it/s]\n",
        "[Epoch 78] Validation: 100%|██████████| 7/7 [00:00<00:00,  9.13it/s]\n",
        "\n",
        "Epoch 78: Train Loss = 15.0869, Val Loss = 30.1847 | IoU = 0.916, RMSE = 0.99\n",
        "\n",
        "[Epoch 79] Training: 100%|██████████| 26/26 [00:03<00:00,  7.26it/s]\n",
        "[Epoch 79] Validation: 100%|██████████| 7/7 [00:00<00:00,  9.79it/s]\n",
        "[Epoch 79] Validation: 100%|██████████| 7/7 [00:01<00:00,  6.48it/s]\n",
        "\n",
        "Epoch 79: Train Loss = 4.7181, Val Loss = 29.6554 | IoU = 0.915, RMSE = 0.92\n",
        "\n",
        "[Epoch 80] Training: 100%|██████████| 26/26 [00:03<00:00,  7.00it/s]\n",
        "[Epoch 80] Validation: 100%|██████████| 7/7 [00:00<00:00, 13.12it/s]\n",
        "[Epoch 80] Validation: 100%|██████████| 7/7 [00:00<00:00,  8.78it/s]\n",
        "\n",
        "Epoch 80: Train Loss = 6.6310, Val Loss = 32.3005 | IoU = 0.910, RMSE = 1.13\n",
        "\n",
        "[Epoch 81] Training: 100%|██████████| 26/26 [00:03<00:00,  7.25it/s]\n",
        "[Epoch 81] Validation: 100%|██████████| 7/7 [00:00<00:00, 13.02it/s]\n",
        "[Epoch 81] Validation: 100%|██████████| 7/7 [00:00<00:00,  9.06it/s]\n",
        "\n",
        "Epoch 81: Train Loss = 5.8766, Val Loss = 33.5184 | IoU = 0.915, RMSE = 1.14\n",
        "\n",
        "[Epoch 82] Training: 100%|██████████| 26/26 [00:03<00:00,  6.86it/s]\n",
        "[Epoch 82] Validation: 100%|██████████| 7/7 [00:00<00:00,  9.82it/s]\n",
        "[Epoch 82] Validation: 100%|██████████| 7/7 [00:00<00:00,  7.32it/s]\n",
        "\n",
        "Epoch 82: Train Loss = 4.3982, Val Loss = 29.9138 | IoU = 0.918, RMSE = 0.97\n",
        "\n",
        "[Epoch 83] Training: 100%|██████████| 26/26 [00:03<00:00,  7.26it/s]\n",
        "[Epoch 83] Validation: 100%|██████████| 7/7 [00:00<00:00, 13.39it/s]\n",
        "[Epoch 83] Validation: 100%|██████████| 7/7 [00:00<00:00,  8.96it/s]\n",
        "\n",
        "Epoch 83: Train Loss = 2.3748, Val Loss = 34.9103 | IoU = 0.917, RMSE = 1.19\n",
        "\n",
        "[Epoch 84] Training: 100%|██████████| 26/26 [00:03<00:00,  7.24it/s]\n",
        "[Epoch 84] Validation: 100%|██████████| 7/7 [00:00<00:00, 12.76it/s]\n",
        "[Epoch 84] Validation: 100%|██████████| 7/7 [00:00<00:00,  8.01it/s]\n",
        "\n",
        "Epoch 84: Train Loss = 2.1092, Val Loss = 31.3384 | IoU = 0.912, RMSE = 1.03\n",
        "\n",
        "[Epoch 85] Training: 100%|██████████| 26/26 [00:03<00:00,  6.51it/s]\n",
        "[Epoch 85] Validation: 100%|██████████| 7/7 [00:00<00:00, 12.84it/s]\n",
        "[Epoch 85] Validation: 100%|██████████| 7/7 [00:00<00:00,  8.80it/s]\n",
        "\n",
        "Epoch 85: Train Loss = 2.5044, Val Loss = 34.4362 | IoU = 0.917, RMSE = 1.18\n",
        "\n",
        "[Epoch 86] Training: 100%|██████████| 26/26 [00:03<00:00,  7.22it/s]\n",
        "[Epoch 86] Validation: 100%|██████████| 7/7 [00:00<00:00, 12.99it/s]\n",
        "[Epoch 86] Validation: 100%|██████████| 7/7 [00:00<00:00,  9.28it/s]\n",
        "\n",
        "Epoch 86: Train Loss = 2.3662, Val Loss = 34.5153 | IoU = 0.902, RMSE = 1.17\n",
        "\n",
        "[Epoch 87] Training: 100%|██████████| 26/26 [00:03<00:00,  7.19it/s]\n",
        "[Epoch 87] Validation: 100%|██████████| 7/7 [00:00<00:00,  9.84it/s]\n",
        "[Epoch 87] Validation: 100%|██████████| 7/7 [00:01<00:00,  6.63it/s]\n",
        "\n",
        "Epoch 87: Train Loss = 3.9515, Val Loss = 39.4983 | IoU = 0.900, RMSE = 1.34\n",
        "\n",
        "[Epoch 88] Training: 100%|██████████| 26/26 [00:03<00:00,  7.06it/s]\n",
        "[Epoch 88] Validation: 100%|██████████| 7/7 [00:00<00:00, 12.95it/s]\n",
        "[Epoch 88] Validation: 100%|██████████| 7/7 [00:00<00:00,  9.02it/s]\n",
        "\n",
        "Epoch 88: Train Loss = 5.2095, Val Loss = 34.3962 | IoU = 0.911, RMSE = 1.16\n",
        "\n",
        "[Epoch 89] Training: 100%|██████████| 26/26 [00:03<00:00,  7.24it/s]\n",
        "[Epoch 89] Validation: 100%|██████████| 7/7 [00:00<00:00, 13.08it/s]\n",
        "[Epoch 89] Validation: 100%|██████████| 7/7 [00:00<00:00,  8.61it/s]\n",
        "\n",
        "Epoch 89: Train Loss = 3.6683, Val Loss = 32.6181 | IoU = 0.917, RMSE = 1.09\n",
        "\n",
        "[Epoch 90] Training: 100%|██████████| 26/26 [00:03<00:00,  6.74it/s]\n",
        "[Epoch 90] Validation: 100%|██████████| 7/7 [00:00<00:00, 10.69it/s]\n",
        "[Epoch 90] Validation: 100%|██████████| 7/7 [00:00<00:00,  8.53it/s]\n",
        "\n",
        "Epoch 90: Train Loss = 1.8842, Val Loss = 31.1215 | IoU = 0.916, RMSE = 1.03\n",
        "\n",
        "[Epoch 91] Training: 100%|██████████| 26/26 [00:03<00:00,  7.24it/s]\n",
        "[Epoch 91] Validation: 100%|██████████| 7/7 [00:00<00:00, 13.37it/s]\n",
        "[Epoch 91] Validation: 100%|██████████| 7/7 [00:00<00:00,  8.47it/s]\n",
        "\n",
        "Epoch 91: Train Loss = 4.3076, Val Loss = 36.8274 | IoU = 0.920, RMSE = 1.24\n",
        "\n",
        "[Epoch 92] Training: 100%|██████████| 26/26 [00:03<00:00,  7.21it/s]\n",
        "[Epoch 92] Validation: 100%|██████████| 7/7 [00:00<00:00, 12.19it/s]\n",
        "[Epoch 92] Validation: 100%|██████████| 7/7 [00:01<00:00,  6.21it/s]\n",
        "\n",
        "Epoch 92: Train Loss = 2.5072, Val Loss = 26.3885 | IoU = 0.922, RMSE = 0.83\n",
        "📌 New best model saved (val loss = 26.3885, IoU = 0.922, RMSE = 0.83) → ./drive/MyDrive/laser_model400.pth\n",
        "\n",
        "[Epoch 93] Training: 100%|██████████| 26/26 [00:03<00:00,  6.64it/s]\n",
        "[Epoch 93] Validation: 100%|██████████| 7/7 [00:00<00:00, 13.19it/s]\n",
        "[Epoch 93] Validation: 100%|██████████| 7/7 [00:00<00:00,  9.07it/s]\n",
        "\n",
        "Epoch 93: Train Loss = 2.3873, Val Loss = 31.1061 | IoU = 0.919, RMSE = 0.99\n",
        "\n",
        "[Epoch 94] Training: 100%|██████████| 26/26 [00:03<00:00,  7.26it/s]\n",
        "[Epoch 94] Validation: 100%|██████████| 7/7 [00:00<00:00, 13.48it/s]\n",
        "[Epoch 94] Validation: 100%|██████████| 7/7 [00:00<00:00,  9.19it/s]\n",
        "\n",
        "Epoch 94: Train Loss = 2.8934, Val Loss = 44.1259 | IoU = 0.921, RMSE = 1.46\n",
        "\n",
        "[Epoch 95] Training: 100%|██████████| 26/26 [00:04<00:00,  6.41it/s]\n",
        "[Epoch 95] Validation: 100%|██████████| 7/7 [00:00<00:00,  7.67it/s]\n",
        "[Epoch 95] Validation: 100%|██████████| 7/7 [00:01<00:00,  6.04it/s]\n",
        "\n",
        "Epoch 95: Train Loss = 3.2085, Val Loss = 32.7720 | IoU = 0.921, RMSE = 1.10\n",
        "\n",
        "[Epoch 96] Training: 100%|██████████| 26/26 [00:03<00:00,  7.21it/s]\n",
        "[Epoch 96] Validation: 100%|██████████| 7/7 [00:00<00:00, 12.66it/s]\n",
        "[Epoch 96] Validation: 100%|██████████| 7/7 [00:00<00:00,  8.88it/s]\n",
        "\n",
        "Epoch 96: Train Loss = 2.3903, Val Loss = 38.4335 | IoU = 0.920, RMSE = 1.31\n",
        "\n",
        "[Epoch 97] Training: 100%|██████████| 26/26 [00:03<00:00,  7.26it/s]\n",
        "[Epoch 97] Validation: 100%|██████████| 7/7 [00:00<00:00, 13.39it/s]\n",
        "[Epoch 97] Validation: 100%|██████████| 7/7 [00:00<00:00,  7.71it/s]\n",
        "\n",
        "Epoch 97: Train Loss = 1.6923, Val Loss = 32.6972 | IoU = 0.923, RMSE = 1.11\n",
        "\n",
        "[Epoch 98] Training: 100%|██████████| 26/26 [00:03<00:00,  6.58it/s]\n",
        "[Epoch 98] Validation: 100%|██████████| 7/7 [00:00<00:00, 13.13it/s]\n",
        "[Epoch 98] Validation: 100%|██████████| 7/7 [00:00<00:00,  9.13it/s]\n",
        "\n",
        "Epoch 98: Train Loss = 1.6562, Val Loss = 32.2876 | IoU = 0.923, RMSE = 1.09\n",
        "\n",
        "[Epoch 99] Training: 100%|██████████| 26/26 [00:03<00:00,  7.26it/s]\n",
        "[Epoch 99] Validation: 100%|██████████| 7/7 [00:00<00:00, 13.81it/s]\n",
        "[Epoch 99] Validation: 100%|██████████| 7/7 [00:00<00:00,  9.22it/s]\n",
        "\n",
        "Epoch 99: Train Loss = 2.2127, Val Loss = 32.0930 | IoU = 0.918, RMSE = 1.08\n",
        "\n",
        "[Epoch 100] Training: 100%|██████████| 26/26 [00:03<00:00,  7.20it/s]\n",
        "[Epoch 100] Validation: 100%|██████████| 7/7 [00:00<00:00,  9.88it/s]\n",
        "[Epoch 100] Validation: 100%|██████████| 7/7 [00:01<00:00,  6.17it/s]\n",
        "\n",
        "Epoch 100: Train Loss = 1.9534, Val Loss = 29.9901 | IoU = 0.922, RMSE = 0.97\n",
        "\n",
        "[Epoch 101] Training: 100%|██████████| 26/26 [00:03<00:00,  6.99it/s]\n",
        "[Epoch 101] Validation: 100%|██████████| 7/7 [00:00<00:00, 13.67it/s]\n",
        "[Epoch 101] Validation: 100%|██████████| 7/7 [00:00<00:00,  8.91it/s]\n",
        "\n",
        "Epoch 101: Train Loss = 1.9015, Val Loss = 34.2552 | IoU = 0.922, RMSE = 1.18\n",
        "\n",
        "[Epoch 102] Training: 100%|██████████| 26/26 [00:03<00:00,  7.33it/s]\n",
        "[Epoch 102] Validation: 100%|██████████| 7/7 [00:00<00:00, 13.39it/s]\n",
        "[Epoch 102] Validation: 100%|██████████| 7/7 [00:00<00:00,  9.43it/s]\n",
        "\n",
        "Epoch 102: Train Loss = 1.9970, Val Loss = 32.9316 | IoU = 0.922, RMSE = 1.11\n",
        "\n",
        "[Epoch 103] Training: 100%|██████████| 26/26 [00:03<00:00,  7.04it/s]\n",
        "[Epoch 103] Validation: 100%|██████████| 7/7 [00:00<00:00, 10.24it/s]\n",
        "[Epoch 103] Validation: 100%|██████████| 7/7 [00:00<00:00,  8.79it/s]\n",
        "\n",
        "Epoch 103: Train Loss = 1.8233, Val Loss = 30.2489 | IoU = 0.923, RMSE = 1.00\n",
        "\n",
        "[Epoch 104] Training: 100%|██████████| 26/26 [00:03<00:00,  7.28it/s]\n",
        "[Epoch 104] Validation: 100%|██████████| 7/7 [00:00<00:00, 13.42it/s]\n",
        "[Epoch 104] Validation: 100%|██████████| 7/7 [00:00<00:00,  9.48it/s]\n",
        "\n",
        "Epoch 104: Train Loss = 2.5631, Val Loss = 38.4615 | IoU = 0.918, RMSE = 1.31\n",
        "\n",
        "[Epoch 105] Training: 100%|██████████| 26/26 [00:03<00:00,  7.29it/s]\n",
        "[Epoch 105] Validation: 100%|██████████| 7/7 [00:00<00:00, 13.28it/s]\n",
        "[Epoch 105] Validation: 100%|██████████| 7/7 [00:00<00:00,  8.20it/s]\n",
        "\n",
        "Epoch 105: Train Loss = 2.8013, Val Loss = 28.7559 | IoU = 0.923, RMSE = 0.90\n",
        "\n",
        "[Epoch 106] Training: 100%|██████████| 26/26 [00:03<00:00,  6.83it/s]\n",
        "[Epoch 106] Validation: 100%|██████████| 7/7 [00:00<00:00, 13.49it/s]\n",
        "[Epoch 106] Validation: 100%|██████████| 7/7 [00:00<00:00,  9.89it/s]\n",
        "\n",
        "Epoch 106: Train Loss = 2.7581, Val Loss = 32.2397 | IoU = 0.910, RMSE = 1.07\n",
        "\n",
        "[Epoch 107] Training: 100%|██████████| 26/26 [00:03<00:00,  7.30it/s]\n",
        "[Epoch 107] Validation: 100%|██████████| 7/7 [00:00<00:00, 12.95it/s]\n",
        "[Epoch 107] Validation: 100%|██████████| 7/7 [00:00<00:00,  8.81it/s]\n",
        "\n",
        "Epoch 107: Train Loss = 1.3878, Val Loss = 30.9660 | IoU = 0.917, RMSE = 1.02\n",
        "\n",
        "[Epoch 108] Training: 100%|██████████| 26/26 [00:03<00:00,  7.18it/s]\n",
        "[Epoch 108] Validation: 100%|██████████| 7/7 [00:00<00:00,  9.83it/s]\n",
        "[Epoch 108] Validation: 100%|██████████| 7/7 [00:01<00:00,  6.47it/s]\n",
        "\n",
        "Epoch 108: Train Loss = 1.2257, Val Loss = 36.3015 | IoU = 0.923, RMSE = 1.23\n",
        "\n",
        "[Epoch 109] Training: 100%|██████████| 26/26 [00:03<00:00,  7.05it/s]\n",
        "[Epoch 109] Validation: 100%|██████████| 7/7 [00:00<00:00, 12.95it/s]\n",
        "[Epoch 109] Validation: 100%|██████████| 7/7 [00:00<00:00,  9.17it/s]\n",
        "\n",
        "Epoch 109: Train Loss = 2.8192, Val Loss = 29.8400 | IoU = 0.924, RMSE = 0.95\n",
        "\n",
        "[Epoch 110] Training: 100%|██████████| 26/26 [00:03<00:00,  7.28it/s]\n",
        "[Epoch 110] Validation: 100%|██████████| 7/7 [00:00<00:00, 13.32it/s]\n",
        "[Epoch 110] Validation: 100%|██████████| 7/7 [00:00<00:00,  8.76it/s]\n",
        "\n",
        "Epoch 110: Train Loss = 1.7482, Val Loss = 29.5286 | IoU = 0.927, RMSE = 0.96\n",
        "\n",
        "[Epoch 111] Training: 100%|██████████| 26/26 [00:03<00:00,  7.03it/s]\n",
        "[Epoch 111] Validation: 100%|██████████| 7/7 [00:00<00:00, 10.10it/s]\n",
        "[Epoch 111] Validation: 100%|██████████| 7/7 [00:00<00:00,  8.05it/s]\n",
        "\n",
        "Epoch 111: Train Loss = 1.8219, Val Loss = 39.0562 | IoU = 0.925, RMSE = 1.33\n",
        "\n",
        "[Epoch 112] Training: 100%|██████████| 26/26 [00:03<00:00,  7.30it/s]\n",
        "[Epoch 112] Validation: 100%|██████████| 7/7 [00:00<00:00, 13.58it/s]\n",
        "[Epoch 112] Validation: 100%|██████████| 7/7 [00:00<00:00,  9.18it/s]\n",
        "\n",
        "Epoch 112: Train Loss = 3.8903, Val Loss = 31.8618 | IoU = 0.927, RMSE = 1.05\n",
        "\n",
        "[Epoch 113] Training: 100%|██████████| 26/26 [00:03<00:00,  7.32it/s]\n",
        "[Epoch 113] Validation: 100%|██████████| 7/7 [00:00<00:00, 13.33it/s]\n",
        "[Epoch 113] Validation: 100%|██████████| 7/7 [00:00<00:00,  8.40it/s]\n",
        "\n",
        "Epoch 113: Train Loss = 5.3449, Val Loss = 32.6733 | IoU = 0.924, RMSE = 1.09\n",
        "\n",
        "[Epoch 114] Training: 100%|██████████| 26/26 [00:03<00:00,  6.64it/s]\n",
        "[Epoch 114] Validation: 100%|██████████| 7/7 [00:00<00:00, 13.23it/s]\n",
        "[Epoch 114] Validation: 100%|██████████| 7/7 [00:00<00:00,  9.80it/s]\n",
        "\n",
        "Epoch 114: Train Loss = 7.1252, Val Loss = 46.5752 | IoU = 0.923, RMSE = 1.53\n",
        "\n",
        "[Epoch 115] Training: 100%|██████████| 26/26 [00:03<00:00,  7.26it/s]\n",
        "[Epoch 115] Validation: 100%|██████████| 7/7 [00:00<00:00, 13.88it/s]\n",
        "[Epoch 115] Validation: 100%|██████████| 7/7 [00:00<00:00,  9.22it/s]\n",
        "\n",
        "Epoch 115: Train Loss = 3.8188, Val Loss = 29.6152 | IoU = 0.922, RMSE = 1.05\n",
        "\n",
        "[Epoch 116] Training: 100%|██████████| 26/26 [00:03<00:00,  7.16it/s]\n",
        "[Epoch 116] Validation: 100%|██████████| 7/7 [00:00<00:00, 10.09it/s]\n",
        "[Epoch 116] Validation: 100%|██████████| 7/7 [00:01<00:00,  6.90it/s]\n",
        "\n",
        "Epoch 116: Train Loss = 2.4960, Val Loss = 26.6503 | IoU = 0.928, RMSE = 0.83\n",
        "\n",
        "[Epoch 117] Training: 100%|██████████| 26/26 [00:03<00:00,  6.92it/s]\n",
        "[Epoch 117] Validation: 100%|██████████| 7/7 [00:00<00:00, 13.40it/s]\n",
        "[Epoch 117] Validation: 100%|██████████| 7/7 [00:00<00:00,  8.79it/s]\n",
        "\n",
        "Epoch 117: Train Loss = 13.5955, Val Loss = 42.2716 | IoU = 0.923, RMSE = 1.45\n",
        "\n",
        "[Epoch 118] Training: 100%|██████████| 26/26 [00:03<00:00,  7.26it/s]\n",
        "[Epoch 118] Validation: 100%|██████████| 7/7 [00:00<00:00, 13.63it/s]\n",
        "[Epoch 118] Validation: 100%|██████████| 7/7 [00:00<00:00,  9.15it/s]\n",
        "\n",
        "Epoch 118: Train Loss = 6.1222, Val Loss = 35.7104 | IoU = 0.918, RMSE = 1.26\n",
        "\n",
        "[Epoch 119] Training: 100%|██████████| 26/26 [00:03<00:00,  6.91it/s]\n",
        "[Epoch 119] Validation: 100%|██████████| 7/7 [00:00<00:00, 10.14it/s]\n",
        "[Epoch 119] Validation: 100%|██████████| 7/7 [00:00<00:00,  7.94it/s]\n",
        "\n",
        "Epoch 119: Train Loss = 4.4750, Val Loss = 36.4712 | IoU = 0.921, RMSE = 1.29\n",
        "\n",
        "[Epoch 120] Training: 100%|██████████| 26/26 [00:03<00:00,  7.20it/s]\n",
        "[Epoch 120] Validation: 100%|██████████| 7/7 [00:00<00:00, 12.83it/s]\n",
        "[Epoch 120] Validation: 100%|██████████| 7/7 [00:00<00:00,  9.14it/s]\n",
        "\n",
        "Epoch 120: Train Loss = 6.5927, Val Loss = 44.9006 | IoU = 0.925, RMSE = 1.48\n",
        "\n",
        "[Epoch 121] Training: 100%|██████████| 26/26 [00:03<00:00,  7.22it/s]\n",
        "[Epoch 121] Validation: 100%|██████████| 7/7 [00:00<00:00, 13.18it/s]\n",
        "[Epoch 121] Validation: 100%|██████████| 7/7 [00:00<00:00,  7.28it/s]\n",
        "\n",
        "Epoch 121: Train Loss = 4.9693, Val Loss = 43.0525 | IoU = 0.924, RMSE = 1.45\n",
        "\n",
        "[Epoch 122] Training: 100%|██████████| 26/26 [00:03<00:00,  6.54it/s]\n",
        "[Epoch 122] Validation: 100%|██████████| 7/7 [00:00<00:00, 12.69it/s]\n",
        "[Epoch 122] Validation: 100%|██████████| 7/7 [00:00<00:00,  8.89it/s]\n",
        "\n",
        "Epoch 122: Train Loss = 7.1218, Val Loss = 36.5973 | IoU = 0.926, RMSE = 1.32\n",
        "\n",
        "[Epoch 123] Training: 100%|██████████| 26/26 [00:03<00:00,  7.19it/s]\n",
        "[Epoch 123] Validation: 100%|██████████| 7/7 [00:00<00:00, 12.98it/s]\n",
        "[Epoch 123] Validation: 100%|██████████| 7/7 [00:00<00:00,  8.39it/s]\n",
        "\n",
        "Epoch 123: Train Loss = 4.7826, Val Loss = 44.4809 | IoU = 0.927, RMSE = 1.48\n",
        "\n",
        "[Epoch 124] Training: 100%|██████████| 26/26 [00:03<00:00,  7.03it/s]\n",
        "[Epoch 124] Validation: 100%|██████████| 7/7 [00:00<00:00,  9.56it/s]\n",
        "[Epoch 124] Validation: 100%|██████████| 7/7 [00:01<00:00,  6.04it/s]\n",
        "\n",
        "Epoch 124: Train Loss = 3.1046, Val Loss = 30.2382 | IoU = 0.927, RMSE = 0.97\n",
        "\n",
        "[Epoch 125] Training: 100%|██████████| 26/26 [00:03<00:00,  7.05it/s]\n",
        "[Epoch 125] Validation: 100%|██████████| 7/7 [00:00<00:00, 13.38it/s]\n",
        "[Epoch 125] Validation: 100%|██████████| 7/7 [00:00<00:00,  9.33it/s]\n",
        "\n",
        "Epoch 125: Train Loss = 3.9724, Val Loss = 37.6917 | IoU = 0.925, RMSE = 1.28\n",
        "\n",
        "[Epoch 126] Training: 100%|██████████| 26/26 [00:03<00:00,  7.21it/s]\n",
        "[Epoch 126] Validation: 100%|██████████| 7/7 [00:00<00:00, 13.29it/s]\n",
        "[Epoch 126] Validation: 100%|██████████| 7/7 [00:00<00:00,  8.93it/s]\n",
        "\n",
        "Epoch 126: Train Loss = 2.8406, Val Loss = 33.5795 | IoU = 0.925, RMSE = 1.16\n",
        "\n",
        "[Epoch 127] Training: 100%|██████████| 26/26 [00:03<00:00,  6.87it/s]\n",
        "[Epoch 127] Validation: 100%|██████████| 7/7 [00:00<00:00, 10.07it/s]\n",
        "[Epoch 127] Validation: 100%|██████████| 7/7 [00:00<00:00,  8.67it/s]\n",
        "\n",
        "Epoch 127: Train Loss = 16.5590, Val Loss = 30.5830 | IoU = 0.915, RMSE = 0.97\n",
        "\n",
        "[Epoch 128] Training: 100%|██████████| 26/26 [00:03<00:00,  7.13it/s]\n",
        "[Epoch 128] Validation: 100%|██████████| 7/7 [00:00<00:00, 12.75it/s]\n",
        "[Epoch 128] Validation: 100%|██████████| 7/7 [00:00<00:00,  8.64it/s]\n",
        "\n",
        "Epoch 128: Train Loss = 7.2051, Val Loss = 28.5698 | IoU = 0.917, RMSE = 0.94\n",
        "\n",
        "[Epoch 129] Training: 100%|██████████| 26/26 [00:03<00:00,  7.18it/s]\n",
        "[Epoch 129] Validation: 100%|██████████| 7/7 [00:00<00:00, 12.16it/s]\n",
        "[Epoch 129] Validation: 100%|██████████| 7/7 [00:01<00:00,  5.97it/s]\n",
        "\n",
        "Epoch 129: Train Loss = 9.9664, Val Loss = 33.4619 | IoU = 0.926, RMSE = 1.12\n",
        "\n",
        "[Epoch 130] Training: 100%|██████████| 26/26 [00:03<00:00,  6.75it/s]\n",
        "[Epoch 130] Validation: 100%|██████████| 7/7 [00:00<00:00, 12.96it/s]\n",
        "[Epoch 130] Validation: 100%|██████████| 7/7 [00:00<00:00,  8.76it/s]\n",
        "\n",
        "Epoch 130: Train Loss = 8.3631, Val Loss = 30.4240 | IoU = 0.884, RMSE = 1.09\n",
        "\n",
        "[Epoch 131] Training: 100%|██████████| 26/26 [00:03<00:00,  7.30it/s]\n",
        "[Epoch 131] Validation: 100%|██████████| 7/7 [00:00<00:00, 12.84it/s]\n",
        "[Epoch 131] Validation: 100%|██████████| 7/7 [00:00<00:00,  9.03it/s]\n",
        "\n",
        "Epoch 131: Train Loss = 6.5017, Val Loss = 36.3904 | IoU = 0.907, RMSE = 1.29\n",
        "\n",
        "[Epoch 132] Training: 100%|██████████| 26/26 [00:03<00:00,  7.08it/s]\n",
        "[Epoch 132] Validation: 100%|██████████| 7/7 [00:00<00:00,  9.48it/s]\n",
        "[Epoch 132] Validation: 100%|██████████| 7/7 [00:00<00:00,  7.32it/s]\n",
        "\n",
        "Epoch 132: Train Loss = 4.8455, Val Loss = 31.5526 | IoU = 0.924, RMSE = 1.08\n",
        "\n",
        "[Epoch 133] Training: 100%|██████████| 26/26 [00:03<00:00,  7.00it/s]\n",
        "[Epoch 133] Validation: 100%|██████████| 7/7 [00:00<00:00, 12.61it/s]\n",
        "[Epoch 133] Validation: 100%|██████████| 7/7 [00:00<00:00,  8.99it/s]\n",
        "\n",
        "Epoch 133: Train Loss = 2.8376, Val Loss = 28.7025 | IoU = 0.916, RMSE = 0.99\n",
        "\n",
        "[Epoch 134] Training: 100%|██████████| 26/26 [00:03<00:00,  7.22it/s]\n",
        "[Epoch 134] Validation: 100%|██████████| 7/7 [00:00<00:00, 13.42it/s]\n",
        "[Epoch 134] Validation: 100%|██████████| 7/7 [00:00<00:00,  9.17it/s]\n",
        "\n",
        "Epoch 134: Train Loss = 1.5600, Val Loss = 28.1779 | IoU = 0.928, RMSE = 0.94\n",
        "\n",
        "[Epoch 135] Training: 100%|██████████| 26/26 [00:03<00:00,  6.63it/s]\n",
        "[Epoch 135] Validation: 100%|██████████| 7/7 [00:00<00:00, 13.14it/s]\n",
        "[Epoch 135] Validation: 100%|██████████| 7/7 [00:00<00:00,  9.04it/s]\n",
        "\n",
        "Epoch 135: Train Loss = 1.6809, Val Loss = 30.1589 | IoU = 0.928, RMSE = 1.05\n",
        "\n",
        "[Epoch 136] Training: 100%|██████████| 26/26 [00:03<00:00,  7.23it/s]\n",
        "[Epoch 136] Validation: 100%|██████████| 7/7 [00:00<00:00, 13.17it/s]\n",
        "[Epoch 136] Validation: 100%|██████████| 7/7 [00:00<00:00,  9.00it/s]\n",
        "\n",
        "Epoch 136: Train Loss = 2.5366, Val Loss = 35.0220 | IoU = 0.929, RMSE = 1.22\n",
        "\n",
        "[Epoch 137] Training: 100%|██████████| 26/26 [00:03<00:00,  7.21it/s]\n",
        "[Epoch 137] Validation: 100%|██████████| 7/7 [00:00<00:00,  9.74it/s]\n",
        "[Epoch 137] Validation: 100%|██████████| 7/7 [00:01<00:00,  6.49it/s]\n",
        "\n",
        "Epoch 137: Train Loss = 5.8249, Val Loss = 43.6850 | IoU = 0.931, RMSE = 1.45\n",
        "\n",
        "[Epoch 138] Training: 100%|██████████| 26/26 [00:03<00:00,  6.98it/s]\n",
        "[Epoch 138] Validation: 100%|██████████| 7/7 [00:00<00:00, 13.37it/s]\n",
        "[Epoch 138] Validation: 100%|██████████| 7/7 [00:00<00:00,  8.64it/s]\n",
        "\n",
        "Epoch 138: Train Loss = 4.5851, Val Loss = 24.6761 | IoU = 0.932, RMSE = 0.74\n",
        "📌 New best model saved (val loss = 24.6761, IoU = 0.932, RMSE = 0.74) → ./drive/MyDrive/laser_model400.pth\n",
        "\n",
        "[Epoch 139] Training: 100%|██████████| 26/26 [00:03<00:00,  7.14it/s]\n",
        "[Epoch 139] Validation: 100%|██████████| 7/7 [00:00<00:00, 13.14it/s]\n",
        "[Epoch 139] Validation: 100%|██████████| 7/7 [00:00<00:00,  9.13it/s]\n",
        "\n",
        "Epoch 139: Train Loss = 4.4296, Val Loss = 32.8346 | IoU = 0.931, RMSE = 1.07\n",
        "\n",
        "[Epoch 140] Training: 100%|██████████| 26/26 [00:03<00:00,  6.80it/s]\n",
        "[Epoch 140] Validation: 100%|██████████| 7/7 [00:00<00:00,  9.66it/s]\n",
        "[Epoch 140] Validation: 100%|██████████| 7/7 [00:00<00:00,  8.03it/s]\n",
        "\n",
        "Epoch 140: Train Loss = 3.0206, Val Loss = 33.9230 | IoU = 0.931, RMSE = 1.13\n",
        "\n",
        "[Epoch 141] Training: 100%|██████████| 26/26 [00:03<00:00,  6.65it/s]\n",
        "[Epoch 141] Validation: 100%|██████████| 7/7 [00:00<00:00, 13.00it/s]\n",
        "[Epoch 141] Validation: 100%|██████████| 7/7 [00:00<00:00,  8.45it/s]\n",
        "\n",
        "Epoch 141: Train Loss = 4.3155, Val Loss = 28.8870 | IoU = 0.931, RMSE = 0.91\n",
        "\n",
        "[Epoch 142] Training: 100%|██████████| 26/26 [00:03<00:00,  7.10it/s]\n",
        "[Epoch 142] Validation: 100%|██████████| 7/7 [00:00<00:00, 12.18it/s]\n",
        "[Epoch 142] Validation: 100%|██████████| 7/7 [00:01<00:00,  6.16it/s]\n",
        "\n",
        "Epoch 142: Train Loss = 3.0110, Val Loss = 26.1420 | IoU = 0.916, RMSE = 0.76\n",
        "\n",
        "[Epoch 143] Training: 100%|██████████| 26/26 [00:03<00:00,  6.70it/s]\n",
        "[Epoch 143] Validation: 100%|██████████| 7/7 [00:00<00:00, 12.87it/s]\n",
        "[Epoch 143] Validation: 100%|██████████| 7/7 [00:00<00:00,  8.74it/s]\n",
        "\n",
        "Epoch 143: Train Loss = 1.9681, Val Loss = 31.1491 | IoU = 0.932, RMSE = 1.01\n",
        "\n",
        "[Epoch 144] Training: 100%|██████████| 26/26 [00:03<00:00,  7.13it/s]\n",
        "[Epoch 144] Validation: 100%|██████████| 7/7 [00:00<00:00, 13.11it/s]\n",
        "[Epoch 144] Validation: 100%|██████████| 7/7 [00:00<00:00,  8.79it/s]\n",
        "\n",
        "Epoch 144: Train Loss = 2.1961, Val Loss = 39.0225 | IoU = 0.926, RMSE = 1.30\n",
        "\n",
        "[Epoch 145] Training: 100%|██████████| 26/26 [00:03<00:00,  7.09it/s]\n",
        "[Epoch 145] Validation: 100%|██████████| 7/7 [00:00<00:00,  9.86it/s]\n",
        "[Epoch 145] Validation: 100%|██████████| 7/7 [00:01<00:00,  6.01it/s]\n",
        "\n",
        "Epoch 145: Train Loss = 1.8791, Val Loss = 31.7929 | IoU = 0.934, RMSE = 1.07\n",
        "\n",
        "[Epoch 146] Training: 100%|██████████| 26/26 [00:03<00:00,  7.11it/s]\n",
        "[Epoch 146] Validation: 100%|██████████| 7/7 [00:00<00:00, 13.05it/s]\n",
        "[Epoch 146] Validation: 100%|██████████| 7/7 [00:00<00:00,  8.72it/s]\n",
        "\n",
        "Epoch 146: Train Loss = 2.1280, Val Loss = 28.4822 | IoU = 0.932, RMSE = 0.91\n",
        "\n",
        "[Epoch 147] Training: 100%|██████████| 26/26 [00:03<00:00,  7.24it/s]\n",
        "[Epoch 147] Validation: 100%|██████████| 7/7 [00:00<00:00, 13.15it/s]\n",
        "[Epoch 147] Validation: 100%|██████████| 7/7 [00:00<00:00,  8.79it/s]\n",
        "\n",
        "Epoch 147: Train Loss = 1.5941, Val Loss = 28.4509 | IoU = 0.928, RMSE = 0.88\n",
        "\n",
        "[Epoch 148] Training: 100%|██████████| 26/26 [00:03<00:00,  6.73it/s]\n",
        "[Epoch 148] Validation: 100%|██████████| 7/7 [00:00<00:00, 13.29it/s]\n",
        "[Epoch 148] Validation: 100%|██████████| 7/7 [00:00<00:00,  9.27it/s]\n",
        "\n",
        "Epoch 148: Train Loss = 2.1916, Val Loss = 33.7232 | IoU = 0.929, RMSE = 1.13\n",
        "\n",
        "[Epoch 149] Training: 100%|██████████| 26/26 [00:03<00:00,  7.18it/s]\n",
        "[Epoch 149] Validation: 100%|██████████| 7/7 [00:00<00:00, 12.85it/s]\n",
        "[Epoch 149] Validation: 100%|██████████| 7/7 [00:00<00:00,  8.75it/s]\n",
        "\n",
        "Epoch 149: Train Loss = 1.9728, Val Loss = 31.1838 | IoU = 0.932, RMSE = 1.06\n",
        "\n",
        "[Epoch 150] Training: 100%|██████████| 26/26 [00:03<00:00,  7.24it/s]\n",
        "[Epoch 150] Validation: 100%|██████████| 7/7 [00:00<00:00, 10.15it/s]\n",
        "[Epoch 150] Validation: 100%|██████████| 7/7 [00:01<00:00,  6.27it/s]\n",
        "\n",
        "Epoch 150: Train Loss = 3.0169, Val Loss = 28.3244 | IoU = 0.930, RMSE = 0.91\n",
        "\n",
        "[Epoch 151] Training: 100%|██████████| 26/26 [00:03<00:00,  6.79it/s]\n",
        "[Epoch 151] Validation: 100%|██████████| 7/7 [00:00<00:00, 12.75it/s]\n",
        "[Epoch 151] Validation: 100%|██████████| 7/7 [00:00<00:00,  8.69it/s]\n",
        "\n",
        "Epoch 151: Train Loss = 5.7178, Val Loss = 35.4085 | IoU = 0.933, RMSE = 1.22\n",
        "\n",
        "[Epoch 152] Training: 100%|██████████| 26/26 [00:03<00:00,  7.08it/s]\n",
        "[Epoch 152] Validation: 100%|██████████| 7/7 [00:00<00:00, 13.16it/s]\n",
        "[Epoch 152] Validation: 100%|██████████| 7/7 [00:00<00:00,  8.68it/s]\n",
        "\n",
        "Epoch 152: Train Loss = 5.7740, Val Loss = 34.9992 | IoU = 0.932, RMSE = 1.19\n",
        "\n",
        "[Epoch 153] Training: 100%|██████████| 26/26 [00:03<00:00,  6.79it/s]\n",
        "[Epoch 153] Validation: 100%|██████████| 7/7 [00:00<00:00, 10.03it/s]\n",
        "[Epoch 153] Validation: 100%|██████████| 7/7 [00:01<00:00,  6.94it/s]\n",
        "\n",
        "Epoch 153: Train Loss = 6.4952, Val Loss = 37.8967 | IoU = 0.930, RMSE = 1.30\n",
        "\n",
        "[Epoch 154] Training: 100%|██████████| 26/26 [00:03<00:00,  7.26it/s]\n",
        "[Epoch 154] Validation: 100%|██████████| 7/7 [00:00<00:00, 13.13it/s]\n",
        "[Epoch 154] Validation: 100%|██████████| 7/7 [00:00<00:00,  9.15it/s]\n",
        "\n",
        "Epoch 154: Train Loss = 5.2502, Val Loss = 46.6360 | IoU = 0.908, RMSE = 1.52\n",
        "\n",
        "[Epoch 155] Training: 100%|██████████| 26/26 [00:03<00:00,  7.18it/s]\n",
        "[Epoch 155] Validation: 100%|██████████| 7/7 [00:00<00:00, 13.37it/s]\n",
        "[Epoch 155] Validation: 100%|██████████| 7/7 [00:00<00:00,  7.50it/s]\n",
        "\n",
        "Epoch 155: Train Loss = 4.1029, Val Loss = 30.5191 | IoU = 0.919, RMSE = 1.01\n",
        "\n",
        "[Epoch 156] Training: 100%|██████████| 26/26 [00:03<00:00,  6.56it/s]\n",
        "[Epoch 156] Validation: 100%|██████████| 7/7 [00:00<00:00, 13.15it/s]\n",
        "[Epoch 156] Validation: 100%|██████████| 7/7 [00:00<00:00,  8.89it/s]\n",
        "\n",
        "Epoch 156: Train Loss = 2.2285, Val Loss = 32.1400 | IoU = 0.922, RMSE = 1.03\n",
        "\n",
        "[Epoch 157] Training: 100%|██████████| 26/26 [00:03<00:00,  7.18it/s]\n",
        "[Epoch 157] Validation: 100%|██████████| 7/7 [00:00<00:00, 13.13it/s]\n",
        "[Epoch 157] Validation: 100%|██████████| 7/7 [00:00<00:00,  9.33it/s]\n",
        "\n",
        "Epoch 157: Train Loss = 2.0598, Val Loss = 28.0121 | IoU = 0.932, RMSE = 0.87\n",
        "\n",
        "[Epoch 158] Training: 100%|██████████| 26/26 [00:03<00:00,  7.04it/s]\n",
        "[Epoch 158] Validation: 100%|██████████| 7/7 [00:00<00:00,  9.58it/s]\n",
        "[Epoch 158] Validation: 100%|██████████| 7/7 [00:01<00:00,  6.24it/s]\n",
        "\n",
        "Epoch 158: Train Loss = 2.0844, Val Loss = 38.4679 | IoU = 0.924, RMSE = 1.31\n",
        "\n",
        "[Epoch 159] Training: 100%|██████████| 26/26 [00:03<00:00,  6.99it/s]\n",
        "[Epoch 159] Validation: 100%|██████████| 7/7 [00:00<00:00, 13.21it/s]\n",
        "[Epoch 159] Validation: 100%|██████████| 7/7 [00:00<00:00,  8.72it/s]\n",
        "\n",
        "Epoch 159: Train Loss = 2.0320, Val Loss = 28.9656 | IoU = 0.932, RMSE = 0.94\n",
        "\n",
        "[Epoch 160] Training: 100%|██████████| 26/26 [00:03<00:00,  7.28it/s]\n",
        "[Epoch 160] Validation: 100%|██████████| 7/7 [00:00<00:00, 13.12it/s]\n",
        "[Epoch 160] Validation: 100%|██████████| 7/7 [00:00<00:00,  9.13it/s]\n",
        "\n",
        "Epoch 160: Train Loss = 1.9857, Val Loss = 43.8366 | IoU = 0.934, RMSE = 1.47\n",
        "\n",
        "[Epoch 161] Training: 100%|██████████| 26/26 [00:03<00:00,  6.83it/s]\n",
        "[Epoch 161] Validation: 100%|██████████| 7/7 [00:00<00:00, 10.36it/s]\n",
        "[Epoch 161] Validation: 100%|██████████| 7/7 [00:00<00:00,  9.01it/s]\n",
        "\n",
        "Epoch 161: Train Loss = 2.7025, Val Loss = 31.3142 | IoU = 0.932, RMSE = 1.05\n",
        "\n",
        "[Epoch 162] Training: 100%|██████████| 26/26 [00:03<00:00,  7.23it/s]\n",
        "[Epoch 162] Validation: 100%|██████████| 7/7 [00:00<00:00, 12.50it/s]\n",
        "[Epoch 162] Validation: 100%|██████████| 7/7 [00:00<00:00,  8.87it/s]\n",
        "\n",
        "Epoch 162: Train Loss = 5.9469, Val Loss = 36.0643 | IoU = 0.934, RMSE = 1.22\n",
        "\n",
        "[Epoch 163] Training: 100%|██████████| 26/26 [00:03<00:00,  7.25it/s]\n",
        "[Epoch 163] Validation: 100%|██████████| 7/7 [00:00<00:00, 12.79it/s]\n",
        "[Epoch 163] Validation: 100%|██████████| 7/7 [00:01<00:00,  6.16it/s]\n",
        "\n",
        "Epoch 163: Train Loss = 3.9874, Val Loss = 28.4958 | IoU = 0.935, RMSE = 0.89\n",
        "\n",
        "[Epoch 164] Training: 100%|██████████| 26/26 [00:03<00:00,  6.76it/s]\n",
        "[Epoch 164] Validation: 100%|██████████| 7/7 [00:00<00:00, 12.53it/s]\n",
        "[Epoch 164] Validation: 100%|██████████| 7/7 [00:00<00:00,  8.77it/s]\n",
        "\n",
        "Epoch 164: Train Loss = 4.2949, Val Loss = 38.5987 | IoU = 0.935, RMSE = 1.33\n",
        "\n",
        "[Epoch 165] Training: 100%|██████████| 26/26 [00:03<00:00,  7.19it/s]\n",
        "[Epoch 165] Validation: 100%|██████████| 7/7 [00:00<00:00, 12.90it/s]\n",
        "[Epoch 165] Validation: 100%|██████████| 7/7 [00:00<00:00,  9.03it/s]\n",
        "\n",
        "Epoch 165: Train Loss = 2.9574, Val Loss = 33.2493 | IoU = 0.934, RMSE = 1.13\n",
        "\n",
        "[Epoch 166] Training: 100%|██████████| 26/26 [00:03<00:00,  7.00it/s]\n",
        "[Epoch 166] Validation: 100%|██████████| 7/7 [00:00<00:00,  9.73it/s]\n",
        "[Epoch 166] Validation: 100%|██████████| 7/7 [00:01<00:00,  6.90it/s]\n",
        "\n",
        "Epoch 166: Train Loss = 5.0588, Val Loss = 31.3765 | IoU = 0.935, RMSE = 1.01\n",
        "\n",
        "[Epoch 167] Training: 100%|██████████| 26/26 [00:03<00:00,  7.15it/s]\n",
        "[Epoch 167] Validation: 100%|██████████| 7/7 [00:00<00:00, 13.68it/s]\n",
        "[Epoch 167] Validation: 100%|██████████| 7/7 [00:00<00:00,  8.95it/s]\n",
        "\n",
        "Epoch 167: Train Loss = 4.1456, Val Loss = 28.0475 | IoU = 0.938, RMSE = 0.88\n",
        "\n",
        "[Epoch 168] Training: 100%|██████████| 26/26 [00:03<00:00,  7.25it/s]\n",
        "[Epoch 168] Validation: 100%|██████████| 7/7 [00:00<00:00, 12.50it/s]\n",
        "[Epoch 168] Validation: 100%|██████████| 7/7 [00:00<00:00,  8.63it/s]\n",
        "\n",
        "Epoch 168: Train Loss = 2.2374, Val Loss = 39.9765 | IoU = 0.932, RMSE = 1.35\n",
        "\n",
        "[Epoch 169] Training: 100%|██████████| 26/26 [00:03<00:00,  6.76it/s]\n",
        "[Epoch 169] Validation: 100%|██████████| 7/7 [00:00<00:00, 13.22it/s]\n",
        "[Epoch 169] Validation: 100%|██████████| 7/7 [00:00<00:00,  8.72it/s]\n",
        "\n",
        "Epoch 169: Train Loss = 3.6051, Val Loss = 29.7008 | IoU = 0.930, RMSE = 0.99\n",
        "\n",
        "[Epoch 170] Training: 100%|██████████| 26/26 [00:03<00:00,  7.20it/s]\n",
        "[Epoch 170] Validation: 100%|██████████| 7/7 [00:00<00:00, 13.26it/s]\n",
        "[Epoch 170] Validation: 100%|██████████| 7/7 [00:00<00:00,  9.33it/s]\n",
        "\n",
        "Epoch 170: Train Loss = 4.5173, Val Loss = 33.0272 | IoU = 0.930, RMSE = 1.07\n",
        "\n",
        "[Epoch 171] Training: 100%|██████████| 26/26 [00:03<00:00,  7.24it/s]\n",
        "[Epoch 171] Validation: 100%|██████████| 7/7 [00:00<00:00, 10.05it/s]\n",
        "[Epoch 171] Validation: 100%|██████████| 7/7 [00:01<00:00,  6.54it/s]\n",
        "\n",
        "Epoch 171: Train Loss = 4.0057, Val Loss = 34.0963 | IoU = 0.934, RMSE = 1.20\n",
        "\n",
        "[Epoch 172] Training: 100%|██████████| 26/26 [00:03<00:00,  6.93it/s]\n",
        "[Epoch 172] Validation: 100%|██████████| 7/7 [00:00<00:00, 13.57it/s]\n",
        "[Epoch 172] Validation: 100%|██████████| 7/7 [00:00<00:00,  8.72it/s]\n",
        "\n",
        "Epoch 172: Train Loss = 3.2259, Val Loss = 30.3405 | IoU = 0.933, RMSE = 0.98\n",
        "\n",
        "[Epoch 173] Training: 100%|██████████| 26/26 [00:03<00:00,  7.29it/s]\n",
        "[Epoch 173] Validation: 100%|██████████| 7/7 [00:00<00:00, 13.21it/s]\n",
        "[Epoch 173] Validation: 100%|██████████| 7/7 [00:00<00:00,  8.66it/s]\n",
        "\n",
        "Epoch 173: Train Loss = 2.7806, Val Loss = 29.4878 | IoU = 0.936, RMSE = 0.92\n",
        "\n",
        "[Epoch 174] Training: 100%|██████████| 26/26 [00:03<00:00,  6.99it/s]\n",
        "[Epoch 174] Validation: 100%|██████████| 7/7 [00:00<00:00,  9.62it/s]\n",
        "[Epoch 174] Validation: 100%|██████████| 7/7 [00:00<00:00,  7.10it/s]\n",
        "\n",
        "Epoch 174: Train Loss = 3.9243, Val Loss = 41.0530 | IoU = 0.931, RMSE = 1.39\n",
        "\n",
        "[Epoch 175] Training: 100%|██████████| 26/26 [00:03<00:00,  7.22it/s]\n",
        "[Epoch 175] Validation: 100%|██████████| 7/7 [00:00<00:00, 12.68it/s]\n",
        "[Epoch 175] Validation: 100%|██████████| 7/7 [00:00<00:00,  9.64it/s]\n",
        "\n",
        "Epoch 175: Train Loss = 6.3768, Val Loss = 32.8469 | IoU = 0.933, RMSE = 1.08\n",
        "\n",
        "[Epoch 176] Training: 100%|██████████| 26/26 [00:03<00:00,  7.18it/s]\n",
        "[Epoch 176] Validation: 100%|██████████| 7/7 [00:00<00:00, 13.41it/s]\n",
        "[Epoch 176] Validation: 100%|██████████| 7/7 [00:00<00:00,  8.71it/s]\n",
        "\n",
        "Epoch 176: Train Loss = 4.1338, Val Loss = 29.0118 | IoU = 0.933, RMSE = 0.95\n",
        "\n",
        "[Epoch 177] Training: 100%|██████████| 26/26 [00:03<00:00,  6.58it/s]\n",
        "[Epoch 177] Validation: 100%|██████████| 7/7 [00:00<00:00, 13.46it/s]\n",
        "[Epoch 177] Validation: 100%|██████████| 7/7 [00:00<00:00,  8.89it/s]\n",
        "\n",
        "Epoch 177: Train Loss = 4.6725, Val Loss = 30.4662 | IoU = 0.934, RMSE = 1.05\n",
        "\n",
        "[Epoch 178] Training: 100%|██████████| 26/26 [00:03<00:00,  7.26it/s]\n",
        "[Epoch 178] Validation: 100%|██████████| 7/7 [00:00<00:00, 13.07it/s]\n",
        "[Epoch 178] Validation: 100%|██████████| 7/7 [00:00<00:00,  9.18it/s]\n",
        "\n",
        "Epoch 178: Train Loss = 3.3146, Val Loss = 28.3176 | IoU = 0.935, RMSE = 0.88\n",
        "\n",
        "[Epoch 179] Training: 100%|██████████| 26/26 [00:03<00:00,  7.15it/s]\n",
        "[Epoch 179] Validation: 100%|██████████| 7/7 [00:00<00:00,  9.41it/s]\n",
        "[Epoch 179] Validation: 100%|██████████| 7/7 [00:01<00:00,  6.62it/s]\n",
        "\n",
        "Epoch 179: Train Loss = 2.5353, Val Loss = 38.6587 | IoU = 0.918, RMSE = 1.32\n",
        "\n",
        "[Epoch 180] Training: 100%|██████████| 26/26 [00:03<00:00,  6.93it/s]\n",
        "[Epoch 180] Validation: 100%|██████████| 7/7 [00:00<00:00, 12.91it/s]\n",
        "[Epoch 180] Validation: 100%|██████████| 7/7 [00:00<00:00,  8.82it/s]\n",
        "\n",
        "Epoch 180: Train Loss = 2.6071, Val Loss = 32.3515 | IoU = 0.936, RMSE = 1.08\n",
        "\n",
        "[Epoch 181] Training: 100%|██████████| 26/26 [00:03<00:00,  7.19it/s]\n",
        "[Epoch 181] Validation: 100%|██████████| 7/7 [00:00<00:00, 12.72it/s]\n",
        "[Epoch 181] Validation: 100%|██████████| 7/7 [00:00<00:00,  9.02it/s]\n",
        "\n",
        "Epoch 181: Train Loss = 2.5653, Val Loss = 36.0849 | IoU = 0.936, RMSE = 1.24\n",
        "\n",
        "[Epoch 182] Training: 100%|██████████| 26/26 [00:03<00:00,  6.92it/s]\n",
        "[Epoch 182] Validation: 100%|██████████| 7/7 [00:00<00:00, 10.01it/s]\n",
        "[Epoch 182] Validation: 100%|██████████| 7/7 [00:00<00:00,  7.71it/s]\n",
        "\n",
        "Epoch 182: Train Loss = 3.1039, Val Loss = 29.7561 | IoU = 0.935, RMSE = 0.96\n",
        "\n",
        "[Epoch 183] Training: 100%|██████████| 26/26 [00:03<00:00,  7.23it/s]\n",
        "[Epoch 183] Validation: 100%|██████████| 7/7 [00:00<00:00, 12.68it/s]\n",
        "[Epoch 183] Validation: 100%|██████████| 7/7 [00:00<00:00,  9.12it/s]\n",
        "\n",
        "Epoch 183: Train Loss = 3.0506, Val Loss = 26.5279 | IoU = 0.937, RMSE = 0.79\n",
        "\n",
        "[Epoch 184] Training: 100%|██████████| 26/26 [00:03<00:00,  7.25it/s]\n",
        "[Epoch 184] Validation: 100%|██████████| 7/7 [00:00<00:00, 13.38it/s]\n",
        "[Epoch 184] Validation: 100%|██████████| 7/7 [00:00<00:00,  8.06it/s]\n",
        "\n",
        "Epoch 184: Train Loss = 3.4231, Val Loss = 39.0929 | IoU = 0.935, RMSE = 1.33\n",
        "\n",
        "[Epoch 185] Training: 100%|██████████| 26/26 [00:03<00:00,  6.75it/s]\n",
        "[Epoch 185] Validation: 100%|██████████| 7/7 [00:00<00:00, 13.18it/s]\n",
        "[Epoch 185] Validation: 100%|██████████| 7/7 [00:00<00:00,  9.21it/s]\n",
        "\n",
        "Epoch 185: Train Loss = 2.4341, Val Loss = 28.8853 | IoU = 0.938, RMSE = 0.90\n",
        "\n",
        "[Epoch 186] Training: 100%|██████████| 26/26 [00:03<00:00,  7.19it/s]\n",
        "[Epoch 186] Validation: 100%|██████████| 7/7 [00:00<00:00, 13.07it/s]\n",
        "[Epoch 186] Validation: 100%|██████████| 7/7 [00:00<00:00,  8.98it/s]\n",
        "\n",
        "Epoch 186: Train Loss = 1.9329, Val Loss = 35.3956 | IoU = 0.938, RMSE = 1.18\n",
        "\n",
        "[Epoch 187] Training: 100%|██████████| 26/26 [00:03<00:00,  7.15it/s]\n",
        "[Epoch 187] Validation: 100%|██████████| 7/7 [00:00<00:00, 10.15it/s]\n",
        "[Epoch 187] Validation: 100%|██████████| 7/7 [00:01<00:00,  6.13it/s]\n",
        "\n",
        "Epoch 187: Train Loss = 3.7753, Val Loss = 36.5803 | IoU = 0.894, RMSE = 1.22\n",
        "\n",
        "[Epoch 188] Training: 100%|██████████| 26/26 [00:03<00:00,  6.89it/s]\n",
        "[Epoch 188] Validation: 100%|██████████| 7/7 [00:00<00:00, 13.64it/s]\n",
        "[Epoch 188] Validation: 100%|██████████| 7/7 [00:00<00:00,  9.03it/s]\n",
        "\n",
        "Epoch 188: Train Loss = 6.3547, Val Loss = 33.0289 | IoU = 0.913, RMSE = 1.16\n",
        "\n",
        "[Epoch 189] Training: 100%|██████████| 26/26 [00:03<00:00,  7.16it/s]\n",
        "[Epoch 189] Validation: 100%|██████████| 7/7 [00:00<00:00, 12.93it/s]\n",
        "[Epoch 189] Validation: 100%|██████████| 7/7 [00:00<00:00,  8.93it/s]\n",
        "\n",
        "Epoch 189: Train Loss = 4.7457, Val Loss = 32.8755 | IoU = 0.934, RMSE = 1.08\n",
        "\n",
        "[Epoch 190] Training: 100%|██████████| 26/26 [00:03<00:00,  6.64it/s]\n",
        "[Epoch 190] Validation: 100%|██████████| 7/7 [00:00<00:00, 13.19it/s]\n",
        "[Epoch 190] Validation: 100%|██████████| 7/7 [00:00<00:00,  8.88it/s]\n",
        "\n",
        "Epoch 190: Train Loss = 6.0900, Val Loss = 32.4301 | IoU = 0.927, RMSE = 1.08\n",
        "\n",
        "[Epoch 191] Training: 100%|██████████| 26/26 [00:03<00:00,  7.21it/s]\n",
        "[Epoch 191] Validation: 100%|██████████| 7/7 [00:00<00:00, 12.46it/s]\n",
        "[Epoch 191] Validation: 100%|██████████| 7/7 [00:00<00:00,  8.62it/s]\n",
        "\n",
        "Epoch 191: Train Loss = 8.2883, Val Loss = 36.7744 | IoU = 0.936, RMSE = 1.22\n",
        "\n",
        "[Epoch 192] Training: 100%|██████████| 26/26 [00:03<00:00,  7.24it/s]\n",
        "[Epoch 192] Validation: 100%|██████████| 7/7 [00:00<00:00, 11.09it/s]\n",
        "[Epoch 192] Validation: 100%|██████████| 7/7 [00:01<00:00,  6.26it/s]\n",
        "\n",
        "Epoch 192: Train Loss = 8.0932, Val Loss = 34.0587 | IoU = 0.936, RMSE = 1.17\n",
        "\n",
        "[Epoch 193] Training: 100%|██████████| 26/26 [00:03<00:00,  6.61it/s]\n",
        "[Epoch 193] Validation: 100%|██████████| 7/7 [00:00<00:00, 13.43it/s]\n",
        "[Epoch 193] Validation: 100%|██████████| 7/7 [00:00<00:00,  9.11it/s]\n",
        "\n",
        "Epoch 193: Train Loss = 7.0476, Val Loss = 33.1622 | IoU = 0.936, RMSE = 1.10\n",
        "\n",
        "[Epoch 194] Training: 100%|██████████| 26/26 [00:03<00:00,  7.22it/s]\n",
        "[Epoch 194] Validation: 100%|██████████| 7/7 [00:00<00:00, 12.76it/s]\n",
        "[Epoch 194] Validation: 100%|██████████| 7/7 [00:00<00:00,  9.15it/s]\n",
        "\n",
        "Epoch 194: Train Loss = 3.5232, Val Loss = 29.3237 | IoU = 0.938, RMSE = 0.93\n",
        "\n",
        "[Epoch 195] Training: 100%|██████████| 26/26 [00:03<00:00,  7.04it/s]\n",
        "[Epoch 195] Validation: 100%|██████████| 7/7 [00:00<00:00,  9.72it/s]\n",
        "[Epoch 195] Validation: 100%|██████████| 7/7 [00:00<00:00,  7.13it/s]\n",
        "\n",
        "Epoch 195: Train Loss = 2.0865, Val Loss = 28.8168 | IoU = 0.936, RMSE = 0.93\n",
        "\n",
        "[Epoch 196] Training: 100%|██████████| 26/26 [00:03<00:00,  7.25it/s]\n",
        "[Epoch 196] Validation: 100%|██████████| 7/7 [00:00<00:00, 13.27it/s]\n",
        "[Epoch 196] Validation: 100%|██████████| 7/7 [00:00<00:00,  8.62it/s]\n",
        "\n",
        "Epoch 196: Train Loss = 2.0087, Val Loss = 27.0597 | IoU = 0.939, RMSE = 0.76\n",
        "\n",
        "[Epoch 197] Training: 100%|██████████| 26/26 [00:03<00:00,  7.12it/s]\n",
        "[Epoch 197] Validation: 100%|██████████| 7/7 [00:00<00:00, 13.33it/s]\n",
        "[Epoch 197] Validation: 100%|██████████| 7/7 [00:00<00:00,  8.39it/s]\n",
        "\n",
        "Epoch 197: Train Loss = 3.9373, Val Loss = 27.6470 | IoU = 0.939, RMSE = 0.76\n",
        "\n",
        "[Epoch 198] Training: 100%|██████████| 26/26 [00:03<00:00,  6.71it/s]\n",
        "[Epoch 198] Validation: 100%|██████████| 7/7 [00:00<00:00, 13.18it/s]\n",
        "[Epoch 198] Validation: 100%|██████████| 7/7 [00:00<00:00,  8.90it/s]\n",
        "\n",
        "Epoch 198: Train Loss = 8.4120, Val Loss = 32.2011 | IoU = 0.935, RMSE = 1.08\n",
        "\n",
        "[Epoch 199] Training: 100%|██████████| 26/26 [00:03<00:00,  7.19it/s]\n",
        "[Epoch 199] Validation: 100%|██████████| 7/7 [00:00<00:00, 13.32it/s]\n",
        "[Epoch 199] Validation: 100%|██████████| 7/7 [00:00<00:00,  8.46it/s]\n",
        "\n",
        "Epoch 199: Train Loss = 7.7226, Val Loss = 46.1928 | IoU = 0.933, RMSE = 1.50\n",
        "\n",
        "[Epoch 200] Training: 100%|██████████| 26/26 [00:03<00:00,  7.13it/s]\n",
        "[Epoch 200] Validation: 100%|██████████| 7/7 [00:00<00:00,  9.82it/s]\n",
        "[Epoch 200] Validation: 100%|██████████| 7/7 [00:01<00:00,  6.11it/s]\n",
        "\n",
        "Epoch 200: Train Loss = 8.6542, Val Loss = 43.3939 | IoU = 0.931, RMSE = 1.44\n",
        "✅ Обучение завершено. Лучшая вал. потеря: 24.6761\n",
        "\n",
        "'''\n",
        "\n",
        "logs = logs.split('\\n')\n",
        "IoUs = []\n",
        "val_losses = []\n",
        "rmses = []\n",
        "for row in logs:\n",
        "  if 'Val Loss = ' in row:\n",
        "    row_ = row.split()\n",
        "    val_losses.append(float(row_[9]))\n",
        "    IoUs.append(float(row_[13].replace(',', '')))\n",
        "    rmses.append(float(row_[16]))\n",
        "\n",
        "epochs = list(range(1, len(val_losses) + 1))\n",
        "\n",
        "plt.figure(figsize=(10, 6))\n",
        "plt.plot(epochs[75:], val_losses[75:], label='Val Loss')\n",
        "plt.plot(epochs[75:], IoUs[75:], label='IoU')\n",
        "plt.plot(epochs[75:], rmses[75:], label='RMSE')\n",
        "\n",
        "plt.xlabel('Epoch')\n",
        "plt.ylabel('Value')\n",
        "plt.title('Validation Metrics Over Epochs')\n",
        "plt.legend()\n",
        "plt.grid(True)\n",
        "plt.tight_layout()\n",
        "plt.show()"
      ],
      "metadata": {
        "colab": {
          "base_uri": "https://localhost:8080/",
          "height": 607
        },
        "id": "RbOZUHSFkFO_",
        "outputId": "e2e48e5c-0c23-40fc-971d-051c7406d8cc"
      },
      "execution_count": 62,
      "outputs": [
        {
          "output_type": "display_data",
          "data": {
            "text/plain": [
              "<Figure size 1000x600 with 1 Axes>"
            ],
            "image/png": "[encoded data removed]"
          },
          "metadata": {}
        }
      ]
    }
  ]
}